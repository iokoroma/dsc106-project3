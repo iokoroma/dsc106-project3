{
 "cells": [
  {
   "cell_type": "code",
   "execution_count": 12,
   "id": "0bd01c0d",
   "metadata": {},
   "outputs": [],
   "source": [
    "import pandas as pd\n",
    "import numpy as np"
   ]
  },
  {
   "cell_type": "code",
   "execution_count": 13,
   "id": "0081c7d7",
   "metadata": {},
   "outputs": [
    {
     "data": {
      "text/html": [
       "<div>\n",
       "<style scoped>\n",
       "    .dataframe tbody tr th:only-of-type {\n",
       "        vertical-align: middle;\n",
       "    }\n",
       "\n",
       "    .dataframe tbody tr th {\n",
       "        vertical-align: top;\n",
       "    }\n",
       "\n",
       "    .dataframe thead th {\n",
       "        text-align: right;\n",
       "    }\n",
       "</style>\n",
       "<table border=\"1\" class=\"dataframe\">\n",
       "  <thead>\n",
       "    <tr style=\"text-align: right;\">\n",
       "      <th></th>\n",
       "      <th>Member</th>\n",
       "      <th>Party</th>\n",
       "      <th>District</th>\n",
       "      <th>Congress</th>\n",
       "      <th>Resignation Date</th>\n",
       "      <th>Reason</th>\n",
       "      <th>Source</th>\n",
       "      <th>Category</th>\n",
       "    </tr>\n",
       "  </thead>\n",
       "  <tbody>\n",
       "    <tr>\n",
       "      <th>0</th>\n",
       "      <td>Pat Tiberi</td>\n",
       "      <td>R</td>\n",
       "      <td>OH-12</td>\n",
       "      <td>115th</td>\n",
       "      <td>1/15/2018</td>\n",
       "      <td>Took a job with the Ohio Business Roundtable</td>\n",
       "      <td>New York Times</td>\n",
       "      <td>D</td>\n",
       "    </tr>\n",
       "    <tr>\n",
       "      <th>1</th>\n",
       "      <td>Al Franken</td>\n",
       "      <td>D</td>\n",
       "      <td>MN-SEN</td>\n",
       "      <td>115th</td>\n",
       "      <td>1/2/2018</td>\n",
       "      <td>Sexual harassment/groping/unwanted kissing</td>\n",
       "      <td>Minneapolis Star Tribune</td>\n",
       "      <td>X</td>\n",
       "    </tr>\n",
       "    <tr>\n",
       "      <th>2</th>\n",
       "      <td>Trent Franks</td>\n",
       "      <td>R</td>\n",
       "      <td>AZ-08</td>\n",
       "      <td>115th</td>\n",
       "      <td>12/8/2017</td>\n",
       "      <td>Sexual harassment/surrogacy pressure</td>\n",
       "      <td>CNN</td>\n",
       "      <td>X</td>\n",
       "    </tr>\n",
       "    <tr>\n",
       "      <th>3</th>\n",
       "      <td>John Conyers</td>\n",
       "      <td>D</td>\n",
       "      <td>MI-13</td>\n",
       "      <td>115th</td>\n",
       "      <td>12/5/2017</td>\n",
       "      <td>Sexual harassment/inappropriate touching</td>\n",
       "      <td>Washington Post</td>\n",
       "      <td>X</td>\n",
       "    </tr>\n",
       "    <tr>\n",
       "      <th>4</th>\n",
       "      <td>Tim Murphy</td>\n",
       "      <td>R</td>\n",
       "      <td>PA-18</td>\n",
       "      <td>115th</td>\n",
       "      <td>10/21/2017</td>\n",
       "      <td>Extramarital affair/abortion hypocrisy</td>\n",
       "      <td>POLITICO</td>\n",
       "      <td>A</td>\n",
       "    </tr>\n",
       "    <tr>\n",
       "      <th>...</th>\n",
       "      <td>...</td>\n",
       "      <td>...</td>\n",
       "      <td>...</td>\n",
       "      <td>...</td>\n",
       "      <td>...</td>\n",
       "      <td>...</td>\n",
       "      <td>...</td>\n",
       "      <td>...</td>\n",
       "    </tr>\n",
       "    <tr>\n",
       "      <th>610</th>\n",
       "      <td>George Ray</td>\n",
       "      <td>R</td>\n",
       "      <td>NY-26</td>\n",
       "      <td>57th</td>\n",
       "      <td>9/11/1902</td>\n",
       "      <td>Appointed federal judge</td>\n",
       "      <td>U.S. Congress</td>\n",
       "      <td>C</td>\n",
       "    </tr>\n",
       "    <tr>\n",
       "      <th>611</th>\n",
       "      <td>James Butler</td>\n",
       "      <td>D</td>\n",
       "      <td>MO-12</td>\n",
       "      <td>57th</td>\n",
       "      <td>6/28/1902</td>\n",
       "      <td>Election declared invalid</td>\n",
       "      <td>U.S. Congress</td>\n",
       "      <td>I</td>\n",
       "    </tr>\n",
       "    <tr>\n",
       "      <th>612</th>\n",
       "      <td>William Moody</td>\n",
       "      <td>R</td>\n",
       "      <td>MA-06</td>\n",
       "      <td>57th</td>\n",
       "      <td>5/1/1902</td>\n",
       "      <td>Appointed to Roosevelt administration</td>\n",
       "      <td>U.S. Congress</td>\n",
       "      <td>C</td>\n",
       "    </tr>\n",
       "    <tr>\n",
       "      <th>613</th>\n",
       "      <td>John Rhea</td>\n",
       "      <td>D</td>\n",
       "      <td>KY-03</td>\n",
       "      <td>57th</td>\n",
       "      <td>3/25/1902</td>\n",
       "      <td>His election was successfully contested &amp; over...</td>\n",
       "      <td>U.S. Congress</td>\n",
       "      <td>I</td>\n",
       "    </tr>\n",
       "    <tr>\n",
       "      <th>614</th>\n",
       "      <td>Nicholas Muller</td>\n",
       "      <td>D</td>\n",
       "      <td>NY-07</td>\n",
       "      <td>57th</td>\n",
       "      <td>11/22/1901</td>\n",
       "      <td>Ill health</td>\n",
       "      <td>New York Times</td>\n",
       "      <td>E</td>\n",
       "    </tr>\n",
       "  </tbody>\n",
       "</table>\n",
       "<p>615 rows × 8 columns</p>\n",
       "</div>"
      ],
      "text/plain": [
       "              Member Party District Congress Resignation Date  \\\n",
       "0         Pat Tiberi     R    OH-12    115th        1/15/2018   \n",
       "1         Al Franken     D   MN-SEN    115th         1/2/2018   \n",
       "2       Trent Franks     R    AZ-08    115th        12/8/2017   \n",
       "3       John Conyers     D    MI-13    115th        12/5/2017   \n",
       "4         Tim Murphy     R    PA-18    115th       10/21/2017   \n",
       "..               ...   ...      ...      ...              ...   \n",
       "610       George Ray     R    NY-26     57th        9/11/1902   \n",
       "611     James Butler     D    MO-12     57th        6/28/1902   \n",
       "612    William Moody     R    MA-06     57th         5/1/1902   \n",
       "613        John Rhea     D    KY-03     57th        3/25/1902   \n",
       "614  Nicholas Muller     D    NY-07     57th       11/22/1901   \n",
       "\n",
       "                                                Reason  \\\n",
       "0         Took a job with the Ohio Business Roundtable   \n",
       "1           Sexual harassment/groping/unwanted kissing   \n",
       "2                 Sexual harassment/surrogacy pressure   \n",
       "3             Sexual harassment/inappropriate touching   \n",
       "4               Extramarital affair/abortion hypocrisy   \n",
       "..                                                 ...   \n",
       "610                            Appointed federal judge   \n",
       "611                          Election declared invalid   \n",
       "612              Appointed to Roosevelt administration   \n",
       "613  His election was successfully contested & over...   \n",
       "614                                         Ill health   \n",
       "\n",
       "                       Source Category  \n",
       "0              New York Times        D  \n",
       "1    Minneapolis Star Tribune        X  \n",
       "2                         CNN        X  \n",
       "3             Washington Post        X  \n",
       "4                    POLITICO        A  \n",
       "..                        ...      ...  \n",
       "610             U.S. Congress        C  \n",
       "611             U.S. Congress        I  \n",
       "612             U.S. Congress        C  \n",
       "613             U.S. Congress        I  \n",
       "614            New York Times        E  \n",
       "\n",
       "[615 rows x 8 columns]"
      ]
     },
     "execution_count": 13,
     "metadata": {},
     "output_type": "execute_result"
    }
   ],
   "source": [
    "resigned = pd.read_csv('congressional_resignations.csv')\n",
    "resigned"
   ]
  },
  {
   "cell_type": "markdown",
   "id": "78c8a0cc",
   "metadata": {},
   "source": [
    "### Data Cleaning \n",
    "\n",
    "The first thing we did was write a function that allows us to extract the individual states from the 'District' column. We left it in the two-letter abbreviation format since that is often more useful when creating visualizations that are divided by states in a US map. \n",
    "\n",
    "We used this function to create a new 'State' column in the data frame. "
   ]
  },
  {
   "cell_type": "code",
   "execution_count": 14,
   "id": "505672bb",
   "metadata": {},
   "outputs": [],
   "source": [
    "def extract_state(dist):\n",
    "    return dist[:2]"
   ]
  },
  {
   "cell_type": "code",
   "execution_count": 15,
   "id": "7892996c",
   "metadata": {
    "scrolled": true
   },
   "outputs": [
    {
     "data": {
      "text/html": [
       "<div>\n",
       "<style scoped>\n",
       "    .dataframe tbody tr th:only-of-type {\n",
       "        vertical-align: middle;\n",
       "    }\n",
       "\n",
       "    .dataframe tbody tr th {\n",
       "        vertical-align: top;\n",
       "    }\n",
       "\n",
       "    .dataframe thead th {\n",
       "        text-align: right;\n",
       "    }\n",
       "</style>\n",
       "<table border=\"1\" class=\"dataframe\">\n",
       "  <thead>\n",
       "    <tr style=\"text-align: right;\">\n",
       "      <th></th>\n",
       "      <th>Member</th>\n",
       "      <th>Party</th>\n",
       "      <th>District</th>\n",
       "      <th>Congress</th>\n",
       "      <th>Resignation Date</th>\n",
       "      <th>Reason</th>\n",
       "      <th>Source</th>\n",
       "      <th>Category</th>\n",
       "      <th>State</th>\n",
       "    </tr>\n",
       "  </thead>\n",
       "  <tbody>\n",
       "    <tr>\n",
       "      <th>0</th>\n",
       "      <td>Pat Tiberi</td>\n",
       "      <td>R</td>\n",
       "      <td>OH-12</td>\n",
       "      <td>115th</td>\n",
       "      <td>1/15/2018</td>\n",
       "      <td>Took a job with the Ohio Business Roundtable</td>\n",
       "      <td>New York Times</td>\n",
       "      <td>D</td>\n",
       "      <td>OH</td>\n",
       "    </tr>\n",
       "    <tr>\n",
       "      <th>1</th>\n",
       "      <td>Al Franken</td>\n",
       "      <td>D</td>\n",
       "      <td>MN-SEN</td>\n",
       "      <td>115th</td>\n",
       "      <td>1/2/2018</td>\n",
       "      <td>Sexual harassment/groping/unwanted kissing</td>\n",
       "      <td>Minneapolis Star Tribune</td>\n",
       "      <td>X</td>\n",
       "      <td>MN</td>\n",
       "    </tr>\n",
       "    <tr>\n",
       "      <th>2</th>\n",
       "      <td>Trent Franks</td>\n",
       "      <td>R</td>\n",
       "      <td>AZ-08</td>\n",
       "      <td>115th</td>\n",
       "      <td>12/8/2017</td>\n",
       "      <td>Sexual harassment/surrogacy pressure</td>\n",
       "      <td>CNN</td>\n",
       "      <td>X</td>\n",
       "      <td>AZ</td>\n",
       "    </tr>\n",
       "    <tr>\n",
       "      <th>3</th>\n",
       "      <td>John Conyers</td>\n",
       "      <td>D</td>\n",
       "      <td>MI-13</td>\n",
       "      <td>115th</td>\n",
       "      <td>12/5/2017</td>\n",
       "      <td>Sexual harassment/inappropriate touching</td>\n",
       "      <td>Washington Post</td>\n",
       "      <td>X</td>\n",
       "      <td>MI</td>\n",
       "    </tr>\n",
       "    <tr>\n",
       "      <th>4</th>\n",
       "      <td>Tim Murphy</td>\n",
       "      <td>R</td>\n",
       "      <td>PA-18</td>\n",
       "      <td>115th</td>\n",
       "      <td>10/21/2017</td>\n",
       "      <td>Extramarital affair/abortion hypocrisy</td>\n",
       "      <td>POLITICO</td>\n",
       "      <td>A</td>\n",
       "      <td>PA</td>\n",
       "    </tr>\n",
       "    <tr>\n",
       "      <th>...</th>\n",
       "      <td>...</td>\n",
       "      <td>...</td>\n",
       "      <td>...</td>\n",
       "      <td>...</td>\n",
       "      <td>...</td>\n",
       "      <td>...</td>\n",
       "      <td>...</td>\n",
       "      <td>...</td>\n",
       "      <td>...</td>\n",
       "    </tr>\n",
       "    <tr>\n",
       "      <th>610</th>\n",
       "      <td>George Ray</td>\n",
       "      <td>R</td>\n",
       "      <td>NY-26</td>\n",
       "      <td>57th</td>\n",
       "      <td>9/11/1902</td>\n",
       "      <td>Appointed federal judge</td>\n",
       "      <td>U.S. Congress</td>\n",
       "      <td>C</td>\n",
       "      <td>NY</td>\n",
       "    </tr>\n",
       "    <tr>\n",
       "      <th>611</th>\n",
       "      <td>James Butler</td>\n",
       "      <td>D</td>\n",
       "      <td>MO-12</td>\n",
       "      <td>57th</td>\n",
       "      <td>6/28/1902</td>\n",
       "      <td>Election declared invalid</td>\n",
       "      <td>U.S. Congress</td>\n",
       "      <td>I</td>\n",
       "      <td>MO</td>\n",
       "    </tr>\n",
       "    <tr>\n",
       "      <th>612</th>\n",
       "      <td>William Moody</td>\n",
       "      <td>R</td>\n",
       "      <td>MA-06</td>\n",
       "      <td>57th</td>\n",
       "      <td>5/1/1902</td>\n",
       "      <td>Appointed to Roosevelt administration</td>\n",
       "      <td>U.S. Congress</td>\n",
       "      <td>C</td>\n",
       "      <td>MA</td>\n",
       "    </tr>\n",
       "    <tr>\n",
       "      <th>613</th>\n",
       "      <td>John Rhea</td>\n",
       "      <td>D</td>\n",
       "      <td>KY-03</td>\n",
       "      <td>57th</td>\n",
       "      <td>3/25/1902</td>\n",
       "      <td>His election was successfully contested &amp; over...</td>\n",
       "      <td>U.S. Congress</td>\n",
       "      <td>I</td>\n",
       "      <td>KY</td>\n",
       "    </tr>\n",
       "    <tr>\n",
       "      <th>614</th>\n",
       "      <td>Nicholas Muller</td>\n",
       "      <td>D</td>\n",
       "      <td>NY-07</td>\n",
       "      <td>57th</td>\n",
       "      <td>11/22/1901</td>\n",
       "      <td>Ill health</td>\n",
       "      <td>New York Times</td>\n",
       "      <td>E</td>\n",
       "      <td>NY</td>\n",
       "    </tr>\n",
       "  </tbody>\n",
       "</table>\n",
       "<p>615 rows × 9 columns</p>\n",
       "</div>"
      ],
      "text/plain": [
       "              Member Party District Congress Resignation Date  \\\n",
       "0         Pat Tiberi     R    OH-12    115th        1/15/2018   \n",
       "1         Al Franken     D   MN-SEN    115th         1/2/2018   \n",
       "2       Trent Franks     R    AZ-08    115th        12/8/2017   \n",
       "3       John Conyers     D    MI-13    115th        12/5/2017   \n",
       "4         Tim Murphy     R    PA-18    115th       10/21/2017   \n",
       "..               ...   ...      ...      ...              ...   \n",
       "610       George Ray     R    NY-26     57th        9/11/1902   \n",
       "611     James Butler     D    MO-12     57th        6/28/1902   \n",
       "612    William Moody     R    MA-06     57th         5/1/1902   \n",
       "613        John Rhea     D    KY-03     57th        3/25/1902   \n",
       "614  Nicholas Muller     D    NY-07     57th       11/22/1901   \n",
       "\n",
       "                                                Reason  \\\n",
       "0         Took a job with the Ohio Business Roundtable   \n",
       "1           Sexual harassment/groping/unwanted kissing   \n",
       "2                 Sexual harassment/surrogacy pressure   \n",
       "3             Sexual harassment/inappropriate touching   \n",
       "4               Extramarital affair/abortion hypocrisy   \n",
       "..                                                 ...   \n",
       "610                            Appointed federal judge   \n",
       "611                          Election declared invalid   \n",
       "612              Appointed to Roosevelt administration   \n",
       "613  His election was successfully contested & over...   \n",
       "614                                         Ill health   \n",
       "\n",
       "                       Source Category State  \n",
       "0              New York Times        D    OH  \n",
       "1    Minneapolis Star Tribune        X    MN  \n",
       "2                         CNN        X    AZ  \n",
       "3             Washington Post        X    MI  \n",
       "4                    POLITICO        A    PA  \n",
       "..                        ...      ...   ...  \n",
       "610             U.S. Congress        C    NY  \n",
       "611             U.S. Congress        I    MO  \n",
       "612             U.S. Congress        C    MA  \n",
       "613             U.S. Congress        I    KY  \n",
       "614            New York Times        E    NY  \n",
       "\n",
       "[615 rows x 9 columns]"
      ]
     },
     "execution_count": 15,
     "metadata": {},
     "output_type": "execute_result"
    }
   ],
   "source": [
    "state_col = resigned['District'].apply(extract_state)\n",
    "with_state = resigned.assign(State= state_col)\n",
    "with_state"
   ]
  },
  {
   "cell_type": "markdown",
   "id": "4bc16fdb",
   "metadata": {},
   "source": [
    "Now that we have a data frame with a state column included I'm going to rename the data frame back to what it was before, and this process will be repeated throughout the project so that we can keep track of our data frames with each adjustment."
   ]
  },
  {
   "cell_type": "markdown",
   "id": "6b32c1f2",
   "metadata": {},
   "source": [
    "The 'Resignation Date' column was in string format so in order to do any sort of date or time related operations we converted the values of this collumn to datetime objects.  "
   ]
  },
  {
   "cell_type": "code",
   "execution_count": 19,
   "id": "023c6f4f",
   "metadata": {},
   "outputs": [
    {
     "data": {
      "text/plain": [
       "str"
      ]
     },
     "execution_count": 19,
     "metadata": {},
     "output_type": "execute_result"
    }
   ],
   "source": [
    "resignation = with_state\n",
    "type(resignation['Resignation Date'].iloc[1])"
   ]
  },
  {
   "cell_type": "code",
   "execution_count": 21,
   "id": "952df8a3",
   "metadata": {},
   "outputs": [
    {
     "data": {
      "text/html": [
       "<div>\n",
       "<style scoped>\n",
       "    .dataframe tbody tr th:only-of-type {\n",
       "        vertical-align: middle;\n",
       "    }\n",
       "\n",
       "    .dataframe tbody tr th {\n",
       "        vertical-align: top;\n",
       "    }\n",
       "\n",
       "    .dataframe thead th {\n",
       "        text-align: right;\n",
       "    }\n",
       "</style>\n",
       "<table border=\"1\" class=\"dataframe\">\n",
       "  <thead>\n",
       "    <tr style=\"text-align: right;\">\n",
       "      <th></th>\n",
       "      <th>Member</th>\n",
       "      <th>Party</th>\n",
       "      <th>District</th>\n",
       "      <th>Congress</th>\n",
       "      <th>Resignation Date</th>\n",
       "      <th>Reason</th>\n",
       "      <th>Source</th>\n",
       "      <th>Category</th>\n",
       "      <th>State</th>\n",
       "    </tr>\n",
       "  </thead>\n",
       "  <tbody>\n",
       "    <tr>\n",
       "      <th>0</th>\n",
       "      <td>Pat Tiberi</td>\n",
       "      <td>R</td>\n",
       "      <td>OH-12</td>\n",
       "      <td>115th</td>\n",
       "      <td>2018-01-15</td>\n",
       "      <td>Took a job with the Ohio Business Roundtable</td>\n",
       "      <td>New York Times</td>\n",
       "      <td>D</td>\n",
       "      <td>OH</td>\n",
       "    </tr>\n",
       "    <tr>\n",
       "      <th>1</th>\n",
       "      <td>Al Franken</td>\n",
       "      <td>D</td>\n",
       "      <td>MN-SEN</td>\n",
       "      <td>115th</td>\n",
       "      <td>2018-01-02</td>\n",
       "      <td>Sexual harassment/groping/unwanted kissing</td>\n",
       "      <td>Minneapolis Star Tribune</td>\n",
       "      <td>X</td>\n",
       "      <td>MN</td>\n",
       "    </tr>\n",
       "    <tr>\n",
       "      <th>2</th>\n",
       "      <td>Trent Franks</td>\n",
       "      <td>R</td>\n",
       "      <td>AZ-08</td>\n",
       "      <td>115th</td>\n",
       "      <td>2017-12-08</td>\n",
       "      <td>Sexual harassment/surrogacy pressure</td>\n",
       "      <td>CNN</td>\n",
       "      <td>X</td>\n",
       "      <td>AZ</td>\n",
       "    </tr>\n",
       "    <tr>\n",
       "      <th>3</th>\n",
       "      <td>John Conyers</td>\n",
       "      <td>D</td>\n",
       "      <td>MI-13</td>\n",
       "      <td>115th</td>\n",
       "      <td>2017-12-05</td>\n",
       "      <td>Sexual harassment/inappropriate touching</td>\n",
       "      <td>Washington Post</td>\n",
       "      <td>X</td>\n",
       "      <td>MI</td>\n",
       "    </tr>\n",
       "    <tr>\n",
       "      <th>4</th>\n",
       "      <td>Tim Murphy</td>\n",
       "      <td>R</td>\n",
       "      <td>PA-18</td>\n",
       "      <td>115th</td>\n",
       "      <td>2017-10-21</td>\n",
       "      <td>Extramarital affair/abortion hypocrisy</td>\n",
       "      <td>POLITICO</td>\n",
       "      <td>A</td>\n",
       "      <td>PA</td>\n",
       "    </tr>\n",
       "    <tr>\n",
       "      <th>...</th>\n",
       "      <td>...</td>\n",
       "      <td>...</td>\n",
       "      <td>...</td>\n",
       "      <td>...</td>\n",
       "      <td>...</td>\n",
       "      <td>...</td>\n",
       "      <td>...</td>\n",
       "      <td>...</td>\n",
       "      <td>...</td>\n",
       "    </tr>\n",
       "    <tr>\n",
       "      <th>610</th>\n",
       "      <td>George Ray</td>\n",
       "      <td>R</td>\n",
       "      <td>NY-26</td>\n",
       "      <td>57th</td>\n",
       "      <td>1902-09-11</td>\n",
       "      <td>Appointed federal judge</td>\n",
       "      <td>U.S. Congress</td>\n",
       "      <td>C</td>\n",
       "      <td>NY</td>\n",
       "    </tr>\n",
       "    <tr>\n",
       "      <th>611</th>\n",
       "      <td>James Butler</td>\n",
       "      <td>D</td>\n",
       "      <td>MO-12</td>\n",
       "      <td>57th</td>\n",
       "      <td>1902-06-28</td>\n",
       "      <td>Election declared invalid</td>\n",
       "      <td>U.S. Congress</td>\n",
       "      <td>I</td>\n",
       "      <td>MO</td>\n",
       "    </tr>\n",
       "    <tr>\n",
       "      <th>612</th>\n",
       "      <td>William Moody</td>\n",
       "      <td>R</td>\n",
       "      <td>MA-06</td>\n",
       "      <td>57th</td>\n",
       "      <td>1902-05-01</td>\n",
       "      <td>Appointed to Roosevelt administration</td>\n",
       "      <td>U.S. Congress</td>\n",
       "      <td>C</td>\n",
       "      <td>MA</td>\n",
       "    </tr>\n",
       "    <tr>\n",
       "      <th>613</th>\n",
       "      <td>John Rhea</td>\n",
       "      <td>D</td>\n",
       "      <td>KY-03</td>\n",
       "      <td>57th</td>\n",
       "      <td>1902-03-25</td>\n",
       "      <td>His election was successfully contested &amp; over...</td>\n",
       "      <td>U.S. Congress</td>\n",
       "      <td>I</td>\n",
       "      <td>KY</td>\n",
       "    </tr>\n",
       "    <tr>\n",
       "      <th>614</th>\n",
       "      <td>Nicholas Muller</td>\n",
       "      <td>D</td>\n",
       "      <td>NY-07</td>\n",
       "      <td>57th</td>\n",
       "      <td>1901-11-22</td>\n",
       "      <td>Ill health</td>\n",
       "      <td>New York Times</td>\n",
       "      <td>E</td>\n",
       "      <td>NY</td>\n",
       "    </tr>\n",
       "  </tbody>\n",
       "</table>\n",
       "<p>615 rows × 9 columns</p>\n",
       "</div>"
      ],
      "text/plain": [
       "              Member Party District Congress Resignation Date  \\\n",
       "0         Pat Tiberi     R    OH-12    115th       2018-01-15   \n",
       "1         Al Franken     D   MN-SEN    115th       2018-01-02   \n",
       "2       Trent Franks     R    AZ-08    115th       2017-12-08   \n",
       "3       John Conyers     D    MI-13    115th       2017-12-05   \n",
       "4         Tim Murphy     R    PA-18    115th       2017-10-21   \n",
       "..               ...   ...      ...      ...              ...   \n",
       "610       George Ray     R    NY-26     57th       1902-09-11   \n",
       "611     James Butler     D    MO-12     57th       1902-06-28   \n",
       "612    William Moody     R    MA-06     57th       1902-05-01   \n",
       "613        John Rhea     D    KY-03     57th       1902-03-25   \n",
       "614  Nicholas Muller     D    NY-07     57th       1901-11-22   \n",
       "\n",
       "                                                Reason  \\\n",
       "0         Took a job with the Ohio Business Roundtable   \n",
       "1           Sexual harassment/groping/unwanted kissing   \n",
       "2                 Sexual harassment/surrogacy pressure   \n",
       "3             Sexual harassment/inappropriate touching   \n",
       "4               Extramarital affair/abortion hypocrisy   \n",
       "..                                                 ...   \n",
       "610                            Appointed federal judge   \n",
       "611                          Election declared invalid   \n",
       "612              Appointed to Roosevelt administration   \n",
       "613  His election was successfully contested & over...   \n",
       "614                                         Ill health   \n",
       "\n",
       "                       Source Category State  \n",
       "0              New York Times        D    OH  \n",
       "1    Minneapolis Star Tribune        X    MN  \n",
       "2                         CNN        X    AZ  \n",
       "3             Washington Post        X    MI  \n",
       "4                    POLITICO        A    PA  \n",
       "..                        ...      ...   ...  \n",
       "610             U.S. Congress        C    NY  \n",
       "611             U.S. Congress        I    MO  \n",
       "612             U.S. Congress        C    MA  \n",
       "613             U.S. Congress        I    KY  \n",
       "614            New York Times        E    NY  \n",
       "\n",
       "[615 rows x 9 columns]"
      ]
     },
     "execution_count": 21,
     "metadata": {},
     "output_type": "execute_result"
    }
   ],
   "source": [
    "resignation_datetime = pd.to_datetime(resignation['Resignation Date'])\n",
    "new_resignation_date = resignation\n",
    "new_resignation_date['Resignation Date'] = resignation_datetime\n",
    "new_resignation_date"
   ]
  },
  {
   "cell_type": "code",
   "execution_count": 23,
   "id": "4c0446da",
   "metadata": {},
   "outputs": [
    {
     "data": {
      "text/html": [
       "<div>\n",
       "<style scoped>\n",
       "    .dataframe tbody tr th:only-of-type {\n",
       "        vertical-align: middle;\n",
       "    }\n",
       "\n",
       "    .dataframe tbody tr th {\n",
       "        vertical-align: top;\n",
       "    }\n",
       "\n",
       "    .dataframe thead th {\n",
       "        text-align: right;\n",
       "    }\n",
       "</style>\n",
       "<table border=\"1\" class=\"dataframe\">\n",
       "  <thead>\n",
       "    <tr style=\"text-align: right;\">\n",
       "      <th></th>\n",
       "      <th>Member</th>\n",
       "      <th>Party</th>\n",
       "      <th>District</th>\n",
       "      <th>Congress</th>\n",
       "      <th>Resignation Date</th>\n",
       "      <th>Reason</th>\n",
       "      <th>Source</th>\n",
       "      <th>Category</th>\n",
       "      <th>State</th>\n",
       "    </tr>\n",
       "  </thead>\n",
       "  <tbody>\n",
       "    <tr>\n",
       "      <th>0</th>\n",
       "      <td>Pat Tiberi</td>\n",
       "      <td>R</td>\n",
       "      <td>OH-12</td>\n",
       "      <td>115th</td>\n",
       "      <td>2018-01-15</td>\n",
       "      <td>Took a job with the Ohio Business Roundtable</td>\n",
       "      <td>New York Times</td>\n",
       "      <td>D</td>\n",
       "      <td>OH</td>\n",
       "    </tr>\n",
       "    <tr>\n",
       "      <th>1</th>\n",
       "      <td>Al Franken</td>\n",
       "      <td>D</td>\n",
       "      <td>MN-SEN</td>\n",
       "      <td>115th</td>\n",
       "      <td>2018-01-02</td>\n",
       "      <td>Sexual harassment/groping/unwanted kissing</td>\n",
       "      <td>Minneapolis Star Tribune</td>\n",
       "      <td>X</td>\n",
       "      <td>MN</td>\n",
       "    </tr>\n",
       "    <tr>\n",
       "      <th>2</th>\n",
       "      <td>Trent Franks</td>\n",
       "      <td>R</td>\n",
       "      <td>AZ-08</td>\n",
       "      <td>115th</td>\n",
       "      <td>2017-12-08</td>\n",
       "      <td>Sexual harassment/surrogacy pressure</td>\n",
       "      <td>CNN</td>\n",
       "      <td>X</td>\n",
       "      <td>AZ</td>\n",
       "    </tr>\n",
       "    <tr>\n",
       "      <th>3</th>\n",
       "      <td>John Conyers</td>\n",
       "      <td>D</td>\n",
       "      <td>MI-13</td>\n",
       "      <td>115th</td>\n",
       "      <td>2017-12-05</td>\n",
       "      <td>Sexual harassment/inappropriate touching</td>\n",
       "      <td>Washington Post</td>\n",
       "      <td>X</td>\n",
       "      <td>MI</td>\n",
       "    </tr>\n",
       "    <tr>\n",
       "      <th>4</th>\n",
       "      <td>Tim Murphy</td>\n",
       "      <td>R</td>\n",
       "      <td>PA-18</td>\n",
       "      <td>115th</td>\n",
       "      <td>2017-10-21</td>\n",
       "      <td>Extramarital affair/abortion hypocrisy</td>\n",
       "      <td>POLITICO</td>\n",
       "      <td>A</td>\n",
       "      <td>PA</td>\n",
       "    </tr>\n",
       "    <tr>\n",
       "      <th>...</th>\n",
       "      <td>...</td>\n",
       "      <td>...</td>\n",
       "      <td>...</td>\n",
       "      <td>...</td>\n",
       "      <td>...</td>\n",
       "      <td>...</td>\n",
       "      <td>...</td>\n",
       "      <td>...</td>\n",
       "      <td>...</td>\n",
       "    </tr>\n",
       "    <tr>\n",
       "      <th>610</th>\n",
       "      <td>George Ray</td>\n",
       "      <td>R</td>\n",
       "      <td>NY-26</td>\n",
       "      <td>57th</td>\n",
       "      <td>1902-09-11</td>\n",
       "      <td>Appointed federal judge</td>\n",
       "      <td>U.S. Congress</td>\n",
       "      <td>C</td>\n",
       "      <td>NY</td>\n",
       "    </tr>\n",
       "    <tr>\n",
       "      <th>611</th>\n",
       "      <td>James Butler</td>\n",
       "      <td>D</td>\n",
       "      <td>MO-12</td>\n",
       "      <td>57th</td>\n",
       "      <td>1902-06-28</td>\n",
       "      <td>Election declared invalid</td>\n",
       "      <td>U.S. Congress</td>\n",
       "      <td>I</td>\n",
       "      <td>MO</td>\n",
       "    </tr>\n",
       "    <tr>\n",
       "      <th>612</th>\n",
       "      <td>William Moody</td>\n",
       "      <td>R</td>\n",
       "      <td>MA-06</td>\n",
       "      <td>57th</td>\n",
       "      <td>1902-05-01</td>\n",
       "      <td>Appointed to Roosevelt administration</td>\n",
       "      <td>U.S. Congress</td>\n",
       "      <td>C</td>\n",
       "      <td>MA</td>\n",
       "    </tr>\n",
       "    <tr>\n",
       "      <th>613</th>\n",
       "      <td>John Rhea</td>\n",
       "      <td>D</td>\n",
       "      <td>KY-03</td>\n",
       "      <td>57th</td>\n",
       "      <td>1902-03-25</td>\n",
       "      <td>His election was successfully contested &amp; over...</td>\n",
       "      <td>U.S. Congress</td>\n",
       "      <td>I</td>\n",
       "      <td>KY</td>\n",
       "    </tr>\n",
       "    <tr>\n",
       "      <th>614</th>\n",
       "      <td>Nicholas Muller</td>\n",
       "      <td>D</td>\n",
       "      <td>NY-07</td>\n",
       "      <td>57th</td>\n",
       "      <td>1901-11-22</td>\n",
       "      <td>Ill health</td>\n",
       "      <td>New York Times</td>\n",
       "      <td>E</td>\n",
       "      <td>NY</td>\n",
       "    </tr>\n",
       "  </tbody>\n",
       "</table>\n",
       "<p>615 rows × 9 columns</p>\n",
       "</div>"
      ],
      "text/plain": [
       "              Member Party District Congress Resignation Date  \\\n",
       "0         Pat Tiberi     R    OH-12    115th       2018-01-15   \n",
       "1         Al Franken     D   MN-SEN    115th       2018-01-02   \n",
       "2       Trent Franks     R    AZ-08    115th       2017-12-08   \n",
       "3       John Conyers     D    MI-13    115th       2017-12-05   \n",
       "4         Tim Murphy     R    PA-18    115th       2017-10-21   \n",
       "..               ...   ...      ...      ...              ...   \n",
       "610       George Ray     R    NY-26     57th       1902-09-11   \n",
       "611     James Butler     D    MO-12     57th       1902-06-28   \n",
       "612    William Moody     R    MA-06     57th       1902-05-01   \n",
       "613        John Rhea     D    KY-03     57th       1902-03-25   \n",
       "614  Nicholas Muller     D    NY-07     57th       1901-11-22   \n",
       "\n",
       "                                                Reason  \\\n",
       "0         Took a job with the Ohio Business Roundtable   \n",
       "1           Sexual harassment/groping/unwanted kissing   \n",
       "2                 Sexual harassment/surrogacy pressure   \n",
       "3             Sexual harassment/inappropriate touching   \n",
       "4               Extramarital affair/abortion hypocrisy   \n",
       "..                                                 ...   \n",
       "610                            Appointed federal judge   \n",
       "611                          Election declared invalid   \n",
       "612              Appointed to Roosevelt administration   \n",
       "613  His election was successfully contested & over...   \n",
       "614                                         Ill health   \n",
       "\n",
       "                       Source Category State  \n",
       "0              New York Times        D    OH  \n",
       "1    Minneapolis Star Tribune        X    MN  \n",
       "2                         CNN        X    AZ  \n",
       "3             Washington Post        X    MI  \n",
       "4                    POLITICO        A    PA  \n",
       "..                        ...      ...   ...  \n",
       "610             U.S. Congress        C    NY  \n",
       "611             U.S. Congress        I    MO  \n",
       "612             U.S. Congress        C    MA  \n",
       "613             U.S. Congress        I    KY  \n",
       "614            New York Times        E    NY  \n",
       "\n",
       "[615 rows x 9 columns]"
      ]
     },
     "execution_count": 23,
     "metadata": {},
     "output_type": "execute_result"
    }
   ],
   "source": [
    "resignation = new_resignation_date\n",
    "resignation"
   ]
  },
  {
   "cell_type": "markdown",
   "id": "7a5ac4cd",
   "metadata": {},
   "source": [
    "We noticed the 'Category' column just seemed to contain single letter values that must indicate something about the reason each member of congress resigned. So we went online and at the following link we found a table indicating the full reason for each resignation which we encoded into our data for clarity. \n",
    "\n",
    "https://www.kaggle.com/datasets/fivethirtyeight/fivethirtyeight-congress-resignations-dataset"
   ]
  },
  {
   "cell_type": "code",
   "execution_count": 28,
   "id": "47a9fb48",
   "metadata": {},
   "outputs": [],
   "source": [
    "category_dict = {'X': 'Unwanted sexual contact',\n",
    "                'A': 'Consensual sex scandals',\n",
    "                'B': 'Other scandals',\n",
    "                'C': 'Other office',\n",
    "                'D': 'Private sector',\n",
    "                'E': 'Health/family',\n",
    "                'F': 'Other', \n",
    "                'G': 'Left early',\n",
    "                'H': 'Military service',\n",
    "                'I': 'Election overturned'}"
   ]
  },
  {
   "cell_type": "code",
   "execution_count": 36,
   "id": "7e353b8c",
   "metadata": {},
   "outputs": [
    {
     "data": {
      "text/plain": [
       "0               Private sector\n",
       "1      Unwanted sexual contact\n",
       "2      Unwanted sexual contact\n",
       "3      Unwanted sexual contact\n",
       "4      Consensual sex scandals\n",
       "                ...           \n",
       "610               Other office\n",
       "611        Election overturned\n",
       "612               Other office\n",
       "613        Election overturned\n",
       "614              Health/family\n",
       "Name: Category, Length: 615, dtype: object"
      ]
     },
     "execution_count": 36,
     "metadata": {},
     "output_type": "execute_result"
    }
   ],
   "source": [
    "new_category_col = resignation['Category'].map(category_dict)\n",
    "new_category_col"
   ]
  },
  {
   "cell_type": "code",
   "execution_count": 37,
   "id": "34f96b6b",
   "metadata": {},
   "outputs": [
    {
     "data": {
      "text/html": [
       "<div>\n",
       "<style scoped>\n",
       "    .dataframe tbody tr th:only-of-type {\n",
       "        vertical-align: middle;\n",
       "    }\n",
       "\n",
       "    .dataframe tbody tr th {\n",
       "        vertical-align: top;\n",
       "    }\n",
       "\n",
       "    .dataframe thead th {\n",
       "        text-align: right;\n",
       "    }\n",
       "</style>\n",
       "<table border=\"1\" class=\"dataframe\">\n",
       "  <thead>\n",
       "    <tr style=\"text-align: right;\">\n",
       "      <th></th>\n",
       "      <th>Member</th>\n",
       "      <th>Party</th>\n",
       "      <th>District</th>\n",
       "      <th>Congress</th>\n",
       "      <th>Resignation Date</th>\n",
       "      <th>Reason</th>\n",
       "      <th>Source</th>\n",
       "      <th>Category</th>\n",
       "      <th>State</th>\n",
       "    </tr>\n",
       "  </thead>\n",
       "  <tbody>\n",
       "    <tr>\n",
       "      <th>0</th>\n",
       "      <td>Pat Tiberi</td>\n",
       "      <td>R</td>\n",
       "      <td>OH-12</td>\n",
       "      <td>115th</td>\n",
       "      <td>2018-01-15</td>\n",
       "      <td>Took a job with the Ohio Business Roundtable</td>\n",
       "      <td>New York Times</td>\n",
       "      <td>Private sector</td>\n",
       "      <td>OH</td>\n",
       "    </tr>\n",
       "    <tr>\n",
       "      <th>1</th>\n",
       "      <td>Al Franken</td>\n",
       "      <td>D</td>\n",
       "      <td>MN-SEN</td>\n",
       "      <td>115th</td>\n",
       "      <td>2018-01-02</td>\n",
       "      <td>Sexual harassment/groping/unwanted kissing</td>\n",
       "      <td>Minneapolis Star Tribune</td>\n",
       "      <td>Unwanted sexual contact</td>\n",
       "      <td>MN</td>\n",
       "    </tr>\n",
       "    <tr>\n",
       "      <th>2</th>\n",
       "      <td>Trent Franks</td>\n",
       "      <td>R</td>\n",
       "      <td>AZ-08</td>\n",
       "      <td>115th</td>\n",
       "      <td>2017-12-08</td>\n",
       "      <td>Sexual harassment/surrogacy pressure</td>\n",
       "      <td>CNN</td>\n",
       "      <td>Unwanted sexual contact</td>\n",
       "      <td>AZ</td>\n",
       "    </tr>\n",
       "    <tr>\n",
       "      <th>3</th>\n",
       "      <td>John Conyers</td>\n",
       "      <td>D</td>\n",
       "      <td>MI-13</td>\n",
       "      <td>115th</td>\n",
       "      <td>2017-12-05</td>\n",
       "      <td>Sexual harassment/inappropriate touching</td>\n",
       "      <td>Washington Post</td>\n",
       "      <td>Unwanted sexual contact</td>\n",
       "      <td>MI</td>\n",
       "    </tr>\n",
       "    <tr>\n",
       "      <th>4</th>\n",
       "      <td>Tim Murphy</td>\n",
       "      <td>R</td>\n",
       "      <td>PA-18</td>\n",
       "      <td>115th</td>\n",
       "      <td>2017-10-21</td>\n",
       "      <td>Extramarital affair/abortion hypocrisy</td>\n",
       "      <td>POLITICO</td>\n",
       "      <td>Consensual sex scandals</td>\n",
       "      <td>PA</td>\n",
       "    </tr>\n",
       "    <tr>\n",
       "      <th>...</th>\n",
       "      <td>...</td>\n",
       "      <td>...</td>\n",
       "      <td>...</td>\n",
       "      <td>...</td>\n",
       "      <td>...</td>\n",
       "      <td>...</td>\n",
       "      <td>...</td>\n",
       "      <td>...</td>\n",
       "      <td>...</td>\n",
       "    </tr>\n",
       "    <tr>\n",
       "      <th>610</th>\n",
       "      <td>George Ray</td>\n",
       "      <td>R</td>\n",
       "      <td>NY-26</td>\n",
       "      <td>57th</td>\n",
       "      <td>1902-09-11</td>\n",
       "      <td>Appointed federal judge</td>\n",
       "      <td>U.S. Congress</td>\n",
       "      <td>Other office</td>\n",
       "      <td>NY</td>\n",
       "    </tr>\n",
       "    <tr>\n",
       "      <th>611</th>\n",
       "      <td>James Butler</td>\n",
       "      <td>D</td>\n",
       "      <td>MO-12</td>\n",
       "      <td>57th</td>\n",
       "      <td>1902-06-28</td>\n",
       "      <td>Election declared invalid</td>\n",
       "      <td>U.S. Congress</td>\n",
       "      <td>Election overturned</td>\n",
       "      <td>MO</td>\n",
       "    </tr>\n",
       "    <tr>\n",
       "      <th>612</th>\n",
       "      <td>William Moody</td>\n",
       "      <td>R</td>\n",
       "      <td>MA-06</td>\n",
       "      <td>57th</td>\n",
       "      <td>1902-05-01</td>\n",
       "      <td>Appointed to Roosevelt administration</td>\n",
       "      <td>U.S. Congress</td>\n",
       "      <td>Other office</td>\n",
       "      <td>MA</td>\n",
       "    </tr>\n",
       "    <tr>\n",
       "      <th>613</th>\n",
       "      <td>John Rhea</td>\n",
       "      <td>D</td>\n",
       "      <td>KY-03</td>\n",
       "      <td>57th</td>\n",
       "      <td>1902-03-25</td>\n",
       "      <td>His election was successfully contested &amp; over...</td>\n",
       "      <td>U.S. Congress</td>\n",
       "      <td>Election overturned</td>\n",
       "      <td>KY</td>\n",
       "    </tr>\n",
       "    <tr>\n",
       "      <th>614</th>\n",
       "      <td>Nicholas Muller</td>\n",
       "      <td>D</td>\n",
       "      <td>NY-07</td>\n",
       "      <td>57th</td>\n",
       "      <td>1901-11-22</td>\n",
       "      <td>Ill health</td>\n",
       "      <td>New York Times</td>\n",
       "      <td>Health/family</td>\n",
       "      <td>NY</td>\n",
       "    </tr>\n",
       "  </tbody>\n",
       "</table>\n",
       "<p>615 rows × 9 columns</p>\n",
       "</div>"
      ],
      "text/plain": [
       "              Member Party District Congress Resignation Date  \\\n",
       "0         Pat Tiberi     R    OH-12    115th       2018-01-15   \n",
       "1         Al Franken     D   MN-SEN    115th       2018-01-02   \n",
       "2       Trent Franks     R    AZ-08    115th       2017-12-08   \n",
       "3       John Conyers     D    MI-13    115th       2017-12-05   \n",
       "4         Tim Murphy     R    PA-18    115th       2017-10-21   \n",
       "..               ...   ...      ...      ...              ...   \n",
       "610       George Ray     R    NY-26     57th       1902-09-11   \n",
       "611     James Butler     D    MO-12     57th       1902-06-28   \n",
       "612    William Moody     R    MA-06     57th       1902-05-01   \n",
       "613        John Rhea     D    KY-03     57th       1902-03-25   \n",
       "614  Nicholas Muller     D    NY-07     57th       1901-11-22   \n",
       "\n",
       "                                                Reason  \\\n",
       "0         Took a job with the Ohio Business Roundtable   \n",
       "1           Sexual harassment/groping/unwanted kissing   \n",
       "2                 Sexual harassment/surrogacy pressure   \n",
       "3             Sexual harassment/inappropriate touching   \n",
       "4               Extramarital affair/abortion hypocrisy   \n",
       "..                                                 ...   \n",
       "610                            Appointed federal judge   \n",
       "611                          Election declared invalid   \n",
       "612              Appointed to Roosevelt administration   \n",
       "613  His election was successfully contested & over...   \n",
       "614                                         Ill health   \n",
       "\n",
       "                       Source                 Category State  \n",
       "0              New York Times           Private sector    OH  \n",
       "1    Minneapolis Star Tribune  Unwanted sexual contact    MN  \n",
       "2                         CNN  Unwanted sexual contact    AZ  \n",
       "3             Washington Post  Unwanted sexual contact    MI  \n",
       "4                    POLITICO  Consensual sex scandals    PA  \n",
       "..                        ...                      ...   ...  \n",
       "610             U.S. Congress             Other office    NY  \n",
       "611             U.S. Congress      Election overturned    MO  \n",
       "612             U.S. Congress             Other office    MA  \n",
       "613             U.S. Congress      Election overturned    KY  \n",
       "614            New York Times            Health/family    NY  \n",
       "\n",
       "[615 rows x 9 columns]"
      ]
     },
     "execution_count": 37,
     "metadata": {},
     "output_type": "execute_result"
    }
   ],
   "source": [
    "resignation['Category'] = new_category_col\n",
    "resignation"
   ]
  },
  {
   "cell_type": "markdown",
   "id": "4ff61e29",
   "metadata": {},
   "source": [
    "In order to also make graphing things over time simpler I extracted just the year out of the 'Resignation Date' column. "
   ]
  },
  {
   "cell_type": "code",
   "execution_count": 44,
   "id": "b2906124",
   "metadata": {},
   "outputs": [
    {
     "data": {
      "text/html": [
       "<div>\n",
       "<style scoped>\n",
       "    .dataframe tbody tr th:only-of-type {\n",
       "        vertical-align: middle;\n",
       "    }\n",
       "\n",
       "    .dataframe tbody tr th {\n",
       "        vertical-align: top;\n",
       "    }\n",
       "\n",
       "    .dataframe thead th {\n",
       "        text-align: right;\n",
       "    }\n",
       "</style>\n",
       "<table border=\"1\" class=\"dataframe\">\n",
       "  <thead>\n",
       "    <tr style=\"text-align: right;\">\n",
       "      <th></th>\n",
       "      <th>Member</th>\n",
       "      <th>Party</th>\n",
       "      <th>District</th>\n",
       "      <th>Congress</th>\n",
       "      <th>Resignation Date</th>\n",
       "      <th>Reason</th>\n",
       "      <th>Source</th>\n",
       "      <th>Category</th>\n",
       "      <th>State</th>\n",
       "      <th>Year</th>\n",
       "    </tr>\n",
       "  </thead>\n",
       "  <tbody>\n",
       "    <tr>\n",
       "      <th>0</th>\n",
       "      <td>Pat Tiberi</td>\n",
       "      <td>R</td>\n",
       "      <td>OH-12</td>\n",
       "      <td>115th</td>\n",
       "      <td>2018-01-15</td>\n",
       "      <td>Took a job with the Ohio Business Roundtable</td>\n",
       "      <td>New York Times</td>\n",
       "      <td>Private sector</td>\n",
       "      <td>OH</td>\n",
       "      <td>2018</td>\n",
       "    </tr>\n",
       "    <tr>\n",
       "      <th>1</th>\n",
       "      <td>Al Franken</td>\n",
       "      <td>D</td>\n",
       "      <td>MN-SEN</td>\n",
       "      <td>115th</td>\n",
       "      <td>2018-01-02</td>\n",
       "      <td>Sexual harassment/groping/unwanted kissing</td>\n",
       "      <td>Minneapolis Star Tribune</td>\n",
       "      <td>Unwanted sexual contact</td>\n",
       "      <td>MN</td>\n",
       "      <td>2018</td>\n",
       "    </tr>\n",
       "    <tr>\n",
       "      <th>2</th>\n",
       "      <td>Trent Franks</td>\n",
       "      <td>R</td>\n",
       "      <td>AZ-08</td>\n",
       "      <td>115th</td>\n",
       "      <td>2017-12-08</td>\n",
       "      <td>Sexual harassment/surrogacy pressure</td>\n",
       "      <td>CNN</td>\n",
       "      <td>Unwanted sexual contact</td>\n",
       "      <td>AZ</td>\n",
       "      <td>2017</td>\n",
       "    </tr>\n",
       "    <tr>\n",
       "      <th>3</th>\n",
       "      <td>John Conyers</td>\n",
       "      <td>D</td>\n",
       "      <td>MI-13</td>\n",
       "      <td>115th</td>\n",
       "      <td>2017-12-05</td>\n",
       "      <td>Sexual harassment/inappropriate touching</td>\n",
       "      <td>Washington Post</td>\n",
       "      <td>Unwanted sexual contact</td>\n",
       "      <td>MI</td>\n",
       "      <td>2017</td>\n",
       "    </tr>\n",
       "    <tr>\n",
       "      <th>4</th>\n",
       "      <td>Tim Murphy</td>\n",
       "      <td>R</td>\n",
       "      <td>PA-18</td>\n",
       "      <td>115th</td>\n",
       "      <td>2017-10-21</td>\n",
       "      <td>Extramarital affair/abortion hypocrisy</td>\n",
       "      <td>POLITICO</td>\n",
       "      <td>Consensual sex scandals</td>\n",
       "      <td>PA</td>\n",
       "      <td>2017</td>\n",
       "    </tr>\n",
       "    <tr>\n",
       "      <th>...</th>\n",
       "      <td>...</td>\n",
       "      <td>...</td>\n",
       "      <td>...</td>\n",
       "      <td>...</td>\n",
       "      <td>...</td>\n",
       "      <td>...</td>\n",
       "      <td>...</td>\n",
       "      <td>...</td>\n",
       "      <td>...</td>\n",
       "      <td>...</td>\n",
       "    </tr>\n",
       "    <tr>\n",
       "      <th>610</th>\n",
       "      <td>George Ray</td>\n",
       "      <td>R</td>\n",
       "      <td>NY-26</td>\n",
       "      <td>57th</td>\n",
       "      <td>1902-09-11</td>\n",
       "      <td>Appointed federal judge</td>\n",
       "      <td>U.S. Congress</td>\n",
       "      <td>Other office</td>\n",
       "      <td>NY</td>\n",
       "      <td>1902</td>\n",
       "    </tr>\n",
       "    <tr>\n",
       "      <th>611</th>\n",
       "      <td>James Butler</td>\n",
       "      <td>D</td>\n",
       "      <td>MO-12</td>\n",
       "      <td>57th</td>\n",
       "      <td>1902-06-28</td>\n",
       "      <td>Election declared invalid</td>\n",
       "      <td>U.S. Congress</td>\n",
       "      <td>Election overturned</td>\n",
       "      <td>MO</td>\n",
       "      <td>1902</td>\n",
       "    </tr>\n",
       "    <tr>\n",
       "      <th>612</th>\n",
       "      <td>William Moody</td>\n",
       "      <td>R</td>\n",
       "      <td>MA-06</td>\n",
       "      <td>57th</td>\n",
       "      <td>1902-05-01</td>\n",
       "      <td>Appointed to Roosevelt administration</td>\n",
       "      <td>U.S. Congress</td>\n",
       "      <td>Other office</td>\n",
       "      <td>MA</td>\n",
       "      <td>1902</td>\n",
       "    </tr>\n",
       "    <tr>\n",
       "      <th>613</th>\n",
       "      <td>John Rhea</td>\n",
       "      <td>D</td>\n",
       "      <td>KY-03</td>\n",
       "      <td>57th</td>\n",
       "      <td>1902-03-25</td>\n",
       "      <td>His election was successfully contested &amp; over...</td>\n",
       "      <td>U.S. Congress</td>\n",
       "      <td>Election overturned</td>\n",
       "      <td>KY</td>\n",
       "      <td>1902</td>\n",
       "    </tr>\n",
       "    <tr>\n",
       "      <th>614</th>\n",
       "      <td>Nicholas Muller</td>\n",
       "      <td>D</td>\n",
       "      <td>NY-07</td>\n",
       "      <td>57th</td>\n",
       "      <td>1901-11-22</td>\n",
       "      <td>Ill health</td>\n",
       "      <td>New York Times</td>\n",
       "      <td>Health/family</td>\n",
       "      <td>NY</td>\n",
       "      <td>1901</td>\n",
       "    </tr>\n",
       "  </tbody>\n",
       "</table>\n",
       "<p>615 rows × 10 columns</p>\n",
       "</div>"
      ],
      "text/plain": [
       "              Member Party District Congress Resignation Date  \\\n",
       "0         Pat Tiberi     R    OH-12    115th       2018-01-15   \n",
       "1         Al Franken     D   MN-SEN    115th       2018-01-02   \n",
       "2       Trent Franks     R    AZ-08    115th       2017-12-08   \n",
       "3       John Conyers     D    MI-13    115th       2017-12-05   \n",
       "4         Tim Murphy     R    PA-18    115th       2017-10-21   \n",
       "..               ...   ...      ...      ...              ...   \n",
       "610       George Ray     R    NY-26     57th       1902-09-11   \n",
       "611     James Butler     D    MO-12     57th       1902-06-28   \n",
       "612    William Moody     R    MA-06     57th       1902-05-01   \n",
       "613        John Rhea     D    KY-03     57th       1902-03-25   \n",
       "614  Nicholas Muller     D    NY-07     57th       1901-11-22   \n",
       "\n",
       "                                                Reason  \\\n",
       "0         Took a job with the Ohio Business Roundtable   \n",
       "1           Sexual harassment/groping/unwanted kissing   \n",
       "2                 Sexual harassment/surrogacy pressure   \n",
       "3             Sexual harassment/inappropriate touching   \n",
       "4               Extramarital affair/abortion hypocrisy   \n",
       "..                                                 ...   \n",
       "610                            Appointed federal judge   \n",
       "611                          Election declared invalid   \n",
       "612              Appointed to Roosevelt administration   \n",
       "613  His election was successfully contested & over...   \n",
       "614                                         Ill health   \n",
       "\n",
       "                       Source                 Category State  Year  \n",
       "0              New York Times           Private sector    OH  2018  \n",
       "1    Minneapolis Star Tribune  Unwanted sexual contact    MN  2018  \n",
       "2                         CNN  Unwanted sexual contact    AZ  2017  \n",
       "3             Washington Post  Unwanted sexual contact    MI  2017  \n",
       "4                    POLITICO  Consensual sex scandals    PA  2017  \n",
       "..                        ...                      ...   ...   ...  \n",
       "610             U.S. Congress             Other office    NY  1902  \n",
       "611             U.S. Congress      Election overturned    MO  1902  \n",
       "612             U.S. Congress             Other office    MA  1902  \n",
       "613             U.S. Congress      Election overturned    KY  1902  \n",
       "614            New York Times            Health/family    NY  1901  \n",
       "\n",
       "[615 rows x 10 columns]"
      ]
     },
     "execution_count": 44,
     "metadata": {},
     "output_type": "execute_result"
    }
   ],
   "source": [
    "resignation['Year'] = resignation['Resignation Date'].apply(lambda datetime: datetime.year)\n",
    "resignation"
   ]
  },
  {
   "cell_type": "markdown",
   "id": "4da79a7a",
   "metadata": {},
   "source": [
    "### Initial Visuals to Explore Data\n",
    "\n",
    "From this point we made some initial visualizations using to understand if there were any particular trends that we wanted to explore further in our final visual. \n",
    "\n",
    "**Note from Suhani: I know the assignment says our final visual should only be in D3 but I'm hoping it should be fine for us to talk about the visuals that we made in this notebook in the final write-up just to also give some insight into how we decided to make the visual that will be our final submission.** "
   ]
  },
  {
   "cell_type": "markdown",
   "id": "7e66a69d",
   "metadata": {},
   "source": [
    "The following bar chart shows that a large majority of the time a congressperson will resign because they moved to another office."
   ]
  },
  {
   "cell_type": "code",
   "execution_count": 45,
   "id": "27cb9f0c",
   "metadata": {},
   "outputs": [
    {
     "data": {
      "application/vnd.plotly.v1+json": {
       "config": {
        "plotlyServerURL": "https://plot.ly"
       },
       "data": [
        {
         "alignmentgroup": "True",
         "hovertemplate": "count=%{x}<br>Category=%{y}<extra></extra>",
         "legendgroup": "",
         "marker": {
          "color": "#636efa",
          "pattern": {
           "shape": ""
          }
         },
         "name": "",
         "offsetgroup": "",
         "orientation": "h",
         "showlegend": false,
         "textposition": "auto",
         "type": "bar",
         "x": [
          1,
          1,
          1,
          1,
          1,
          1,
          1,
          1,
          1,
          1,
          1,
          1,
          1,
          1,
          1,
          1,
          1,
          1,
          1,
          1,
          1,
          1,
          1,
          1,
          1,
          1,
          1,
          1,
          1,
          1,
          1,
          1,
          1,
          1,
          1,
          1,
          1,
          1,
          1,
          1,
          1,
          1,
          1,
          1,
          1,
          1,
          1,
          1,
          1,
          1,
          1,
          1,
          1,
          1,
          1,
          1,
          1,
          1,
          1,
          1,
          1,
          1,
          1,
          1,
          1,
          1,
          1,
          1,
          1,
          1,
          1,
          1,
          1,
          1,
          1,
          1,
          1,
          1,
          1,
          1,
          1,
          1,
          1,
          1,
          1,
          1,
          1,
          1,
          1,
          1,
          1,
          1,
          1,
          1,
          1,
          1,
          1,
          1,
          1,
          1,
          1,
          1,
          1,
          1,
          1,
          1,
          1,
          1,
          1,
          1,
          1,
          1,
          1,
          1,
          1,
          1,
          1,
          1,
          1,
          1,
          1,
          1,
          1,
          1,
          1,
          1,
          1,
          1,
          1,
          1,
          1,
          1,
          1,
          1,
          1,
          1,
          1,
          1,
          1,
          1,
          1,
          1,
          1,
          1,
          1,
          1,
          1,
          1,
          1,
          1,
          1,
          1,
          1,
          1,
          1,
          1,
          1,
          1,
          1,
          1,
          1,
          1,
          1,
          1,
          1,
          1,
          1,
          1,
          1,
          1,
          1,
          1,
          1,
          1,
          1,
          1,
          1,
          1,
          1,
          1,
          1,
          1,
          1,
          1,
          1,
          1,
          1,
          1,
          1,
          1,
          1,
          1,
          1,
          1,
          1,
          1,
          1,
          1,
          1,
          1,
          1,
          1,
          1,
          1,
          1,
          1,
          1,
          1,
          1,
          1,
          1,
          1,
          1,
          1,
          1,
          1,
          1,
          1,
          1,
          1,
          1,
          1,
          1,
          1,
          1,
          1,
          1,
          1,
          1,
          1,
          1,
          1,
          1,
          1,
          1,
          1,
          1,
          1,
          1,
          1,
          1,
          1,
          1,
          1,
          1,
          1,
          1,
          1,
          1,
          1,
          1,
          1,
          1,
          1,
          1,
          1,
          1,
          1,
          1,
          1,
          1,
          1,
          1,
          1,
          1,
          1,
          1,
          1,
          1,
          1,
          1,
          1,
          1,
          1,
          1,
          1,
          1,
          1,
          1,
          1,
          1,
          1,
          1,
          1,
          1,
          1,
          1,
          1,
          1,
          1,
          1,
          1,
          1,
          1,
          1,
          1,
          1,
          1,
          1,
          1,
          1,
          1,
          1,
          1,
          1,
          1,
          1,
          1,
          1,
          1,
          1,
          1,
          1,
          1,
          1,
          1,
          1,
          1,
          1,
          1,
          1,
          1,
          1,
          1,
          1,
          1,
          1,
          1,
          1,
          1,
          1,
          1,
          1,
          1,
          1,
          1,
          1,
          1,
          1,
          1,
          1,
          1,
          1,
          1,
          1,
          1,
          1,
          1,
          1,
          1,
          1,
          1,
          1,
          1,
          1,
          1,
          1,
          1,
          1,
          1,
          1,
          1,
          1,
          1,
          1,
          1,
          1,
          1,
          1,
          1,
          1,
          1,
          1,
          1,
          1,
          1,
          1,
          1,
          1,
          1,
          1,
          1,
          1,
          1,
          1,
          1,
          1,
          1,
          1,
          1,
          1,
          1,
          1,
          1,
          1,
          1,
          1,
          1,
          1,
          1,
          1,
          1,
          1,
          1,
          1,
          1,
          1,
          1,
          1,
          1,
          1,
          1,
          1,
          1,
          1,
          1,
          1,
          1,
          1,
          1,
          1,
          1,
          1,
          1,
          1,
          1,
          1,
          1,
          1,
          1,
          1,
          1,
          1,
          1,
          1,
          1,
          1,
          1,
          1,
          1,
          1,
          1,
          1,
          1,
          1,
          1,
          1,
          1,
          1,
          1,
          1,
          1,
          1,
          1,
          1,
          1,
          1,
          1,
          1,
          1,
          1,
          1,
          1,
          1,
          1,
          1,
          1,
          1,
          1,
          1,
          1,
          1,
          1,
          1,
          1,
          1,
          1,
          1,
          1,
          1,
          1,
          1,
          1,
          1,
          1,
          1,
          1,
          1,
          1,
          1,
          1,
          1,
          1,
          1,
          1,
          1,
          1,
          1,
          1,
          1,
          1,
          1,
          1,
          1,
          1,
          1,
          1,
          1,
          1,
          1,
          1,
          1,
          1,
          1,
          1,
          1,
          1,
          1,
          1,
          1,
          1,
          1,
          1,
          1,
          1,
          1,
          1,
          1,
          1,
          1,
          1,
          1,
          1,
          1,
          1,
          1,
          1,
          1,
          1,
          1,
          1,
          1,
          1,
          1,
          1,
          1,
          1,
          1,
          1,
          1,
          1,
          1,
          1,
          1,
          1,
          1,
          1,
          1,
          1,
          1,
          1,
          1,
          1,
          1,
          1,
          1,
          1,
          1,
          1,
          1,
          1,
          1,
          1,
          1,
          1,
          1,
          1,
          1,
          1,
          1,
          1,
          1,
          1,
          1,
          1,
          1,
          1,
          1,
          1,
          1,
          1,
          1,
          1,
          1,
          1,
          1,
          1,
          1,
          1,
          1,
          1,
          1,
          1,
          1,
          1,
          1,
          1,
          1,
          1,
          1,
          1,
          1,
          1,
          1,
          1
         ],
         "xaxis": "x",
         "y": [
          "Private sector",
          "Unwanted sexual contact",
          "Unwanted sexual contact",
          "Unwanted sexual contact",
          "Consensual sex scandals",
          "Private sector",
          "Other office",
          "Other office",
          "Other office",
          "Other office",
          "Other office",
          "Other office",
          "Other office",
          "Other office",
          "Other scandals",
          "Other scandals",
          "Other",
          "Other scandals",
          "Other scandals",
          null,
          "Other",
          null,
          "Other office",
          "Other scandals",
          "Other office",
          "Other office",
          "Private sector",
          "Other office",
          "Other office",
          "Private sector",
          "Other office",
          "Private sector",
          "Other office",
          null,
          null,
          "Health/family",
          null,
          "Other office",
          "Health/family",
          "Unwanted sexual contact",
          "Consensual sex scandals",
          "Other office",
          "Consensual sex scandals",
          "Private sector",
          "Consensual sex scandals",
          "Other office",
          "Consensual sex scandals",
          null,
          "Unwanted sexual contact",
          "Other office",
          "Private sector",
          "Other office",
          null,
          "Other office",
          "Other office",
          "Other office",
          "Other office",
          "Other office",
          "Other office",
          "Other office",
          "Private sector",
          "Other office",
          null,
          "Private sector",
          "Other office",
          "Other office",
          "Private sector",
          "Other",
          "Private sector",
          "Other scandals",
          "Unwanted sexual contact",
          "Other scandals",
          "Other office",
          "Other office",
          "Other scandals",
          "Other office",
          "Other office",
          "Other office",
          "Private sector",
          null,
          "Other scandals",
          "Other office",
          "Health/family",
          "Other office",
          "Other office",
          "Other scandals",
          "Other office",
          "Health/family",
          "Other office",
          null,
          "Consensual sex scandals",
          "Other",
          "Private sector",
          "Private sector",
          "Other office",
          "Private sector",
          "Other office",
          "Other office",
          "Other office",
          "Private sector",
          "Other office",
          "Private sector",
          "Other office",
          "Other scandals",
          "Private sector",
          "Unwanted sexual contact",
          "Unwanted sexual contact",
          "Private sector",
          "Other office",
          "Private sector",
          "Private sector",
          "Other office",
          "Other office",
          "Other office",
          "Other office",
          "Other office",
          "Left early",
          "Other office",
          "Health/family",
          "Private sector",
          "Health/family",
          "Other office",
          "Other office",
          "Other office",
          "Other office",
          "Other office",
          "Other office",
          "Other office",
          "Other scandals",
          "Other office",
          "Other scandals",
          "Other scandals",
          "Other office",
          "Other office",
          "Other office",
          "Other scandals",
          "Other office",
          "Other office",
          "Private sector",
          "Other office",
          "Other office",
          "Other office",
          null,
          "Private sector",
          "Other office",
          "Other",
          "Left early",
          "Other scandals",
          "Other office",
          "Other scandals",
          "Consensual sex scandals",
          "Other scandals",
          "Health/family",
          "Other office",
          "Left early",
          "Left early",
          "Left early",
          "Other scandals",
          "Other scandals",
          "Other scandals",
          "Other scandals",
          "Other office",
          "Other office",
          "Other scandals",
          "Other office",
          "Left early",
          "Left early",
          "Left early",
          "Left early",
          "Left early",
          "Left early",
          "Left early",
          "Left early",
          "Left early",
          "Left early",
          "Left early",
          "Left early",
          "Left early",
          "Left early",
          "Other office",
          "Left early",
          "Left early",
          "Other office",
          "Other",
          "Left early",
          "Left early",
          "Other office",
          "Other office",
          "Other scandals",
          "Other office",
          "Other office",
          "Other office",
          "Left early",
          "Other office",
          "Other office",
          "Left early",
          "Left early",
          "Left early",
          "Left early",
          "Consensual sex scandals",
          "Other office",
          "Private sector",
          "Other",
          "Other office",
          "Left early",
          "Left early",
          "Left early",
          "Left early",
          "Left early",
          null,
          "Left early",
          "Left early",
          "Left early",
          "Left early",
          "Left early",
          "Left early",
          "Left early",
          "Left early",
          "Left early",
          null,
          "Other office",
          "Left early",
          "Left early",
          "Other office",
          "Left early",
          "Left early",
          "Left early",
          "Left early",
          "Left early",
          "Left early",
          "Left early",
          "Left early",
          "Left early",
          "Left early",
          "Left early",
          "Left early",
          "Left early",
          "Left early",
          "Left early",
          "Left early",
          "Left early",
          "Other office",
          "Other office",
          "Other office",
          "Private sector",
          "Other office",
          "Left early",
          "Other office",
          "Other office",
          "Private sector",
          "Other office",
          "Other office",
          "Other office",
          "Left early",
          "Other office",
          "Left early",
          "Other office",
          "Other office",
          "Other office",
          "Other office",
          "Other office",
          "Other office",
          "Other office",
          "Other office",
          "Left early",
          "Left early",
          "Other office",
          "Other office",
          "Left early",
          "Left early",
          "Left early",
          "Left early",
          "Left early",
          "Left early",
          "Left early",
          "Left early",
          "Left early",
          "Left early",
          "Left early",
          "Other office",
          "Other office",
          "Other office",
          "Health/family",
          "Other office",
          "Other",
          null,
          "Other office",
          "Other office",
          "Other office",
          "Other office",
          "Other office",
          "Other office",
          "Other office",
          "Left early",
          "Private sector",
          "Other office",
          "Other office",
          "Private sector",
          "Other office",
          "Other office",
          "Other office",
          "Other office",
          "Other office",
          "Other office",
          "Other office",
          "Other office",
          "Other office",
          "Other office",
          "Other office",
          "Private sector",
          "Private sector",
          "Other office",
          "Other office",
          "Other office",
          "Other",
          "Other office",
          "Left early",
          "Other office",
          "Other office",
          "Left early",
          "Other office",
          "Other office",
          "Other office",
          "Other office",
          "Other office",
          "Private sector",
          "Other office",
          "Other office",
          "Other office",
          "Left early",
          "Other office",
          "Other office",
          "Other office",
          "Private sector",
          "Other office",
          "Health/family",
          "Other office",
          "Private sector",
          "Other office",
          "Other office",
          "Health/family",
          "Other office",
          "Other office",
          "Other scandals",
          "Other office",
          "Other office",
          "Health/family",
          "Other office",
          "Other office",
          "Left early",
          "Other office",
          "Other office",
          "Other office",
          "Other office",
          "Other office",
          "Other office",
          "Other office",
          "Other office",
          "Other office",
          "Left early",
          "Other office",
          "Other office",
          "Other office",
          "Other office",
          "Other office",
          "Other office",
          "Other office",
          "Other office",
          "Private sector",
          "Private sector",
          "Other office",
          "Private sector",
          "Other office",
          "Other office",
          "Other office",
          "Private sector",
          "Other office",
          "Other office",
          "Other office",
          "Other office",
          "Military service",
          "Military service",
          "Military service",
          "Other office",
          "Military service",
          "Private sector",
          "Military service",
          "Military service",
          "Military service",
          "Other office",
          "Other office",
          "Military service",
          "Private sector",
          "Left early",
          "Other office",
          "Other office",
          "Military service",
          "Other office",
          "Military service",
          "Military service",
          "Other office",
          "Military service",
          "Other office",
          "Other office",
          "Other office",
          "Other office",
          "Other office",
          "Other office",
          "Other office",
          "Other office",
          "Private sector",
          "Other office",
          "Other office",
          "Other office",
          "Other office",
          "Other office",
          "Other office",
          "Other office",
          "Other office",
          "Other office",
          "Other office",
          "Other office",
          "Private sector",
          "Election overturned",
          "Other office",
          "Private sector",
          "Other office",
          "Other office",
          "Left early",
          "Other office",
          "Other office",
          "Other office",
          "Other office",
          "Other office",
          "Other office",
          "Other office",
          "Other office",
          "Other office",
          "Other office",
          "Other office",
          "Other office",
          "Other office",
          "Other office",
          "Other office",
          "Other",
          "Other office",
          "Other office",
          "Other office",
          "Other office",
          "Other office",
          "Other office",
          "Other office",
          "Other office",
          "Other office",
          "Other office",
          "Left early",
          "Private sector",
          "Other office",
          "Other office",
          "Other office",
          "Election overturned",
          "Other office",
          "Other office",
          "Other office",
          "Election overturned",
          "Other office",
          "Other office",
          "Other office",
          "Other office",
          "Other office",
          "Other office",
          "Other office",
          "Other office",
          "Other office",
          "Health/family",
          "Other office",
          "Other office",
          "Other office",
          "Other office",
          "Other office",
          "Election overturned",
          "Other scandals",
          "Other office",
          "Other office",
          "Other office",
          "Other office",
          "Other office",
          "Other office",
          "Other office",
          "Election overturned",
          "Other office",
          "Other scandals",
          "Other office",
          "Other office",
          "Other office",
          "Other office",
          "Other office",
          "Other office",
          "Other office",
          "Private sector",
          "Other office",
          "Election overturned",
          "Other office",
          "Other office",
          "Other office",
          "Other office",
          "Other office",
          "Other office",
          "Other office",
          "Other office",
          "Other office",
          "Other office",
          "Other office",
          "Other office",
          "Election overturned",
          "Other office",
          "Other office",
          "Private sector",
          "Election overturned",
          "Other office",
          "Other office",
          "Left early",
          "Other office",
          "Other office",
          "Other office",
          "Private sector",
          "Other office",
          "Other office",
          "Other office",
          "Election overturned",
          "Military service",
          "Other scandals",
          "Other office",
          "Other office",
          "Other office",
          "Other office",
          "Other office",
          "Other office",
          "Other office",
          "Other office",
          "Other office",
          "Other office",
          "Other office",
          "Other office",
          "Other office",
          "Other office",
          "Other scandals",
          "Election overturned",
          "Other office",
          "Other office",
          "Other office",
          "Other office",
          "Election overturned",
          "Other office",
          "Other office",
          "Other office",
          "Other office",
          "Other office",
          "Other office",
          null,
          "Other office",
          "Election overturned",
          "Other office",
          "Election overturned",
          "Election overturned",
          "Health/family",
          "Other office",
          "Other office",
          "Other office",
          "Other office",
          "Other office",
          "Other office",
          null,
          "Other office",
          "Other office",
          "Other office",
          "Other office",
          "Other office",
          "Other office",
          "Private sector",
          "Private sector",
          "Other office",
          "Other office",
          "Other office",
          "Other office",
          "Other office",
          "Other office",
          "Other office",
          null,
          "Election overturned",
          "Other scandals",
          "Other office",
          "Other office",
          "Other office",
          "Other office",
          "Other office",
          "Other office",
          "Other office",
          "Other office",
          "Other office",
          "Election overturned",
          "Election overturned",
          "Other office",
          "Private sector",
          "Health/family",
          "Other office",
          "Other office",
          "Election overturned",
          "Other office",
          "Other office",
          "Other office",
          "Election overturned",
          "Other office",
          "Election overturned",
          "Health/family"
         ],
         "yaxis": "y"
        }
       ],
       "layout": {
        "barmode": "relative",
        "legend": {
         "tracegroupgap": 0
        },
        "template": {
         "data": {
          "bar": [
           {
            "error_x": {
             "color": "#2a3f5f"
            },
            "error_y": {
             "color": "#2a3f5f"
            },
            "marker": {
             "line": {
              "color": "#E5ECF6",
              "width": 0.5
             },
             "pattern": {
              "fillmode": "overlay",
              "size": 10,
              "solidity": 0.2
             }
            },
            "type": "bar"
           }
          ],
          "barpolar": [
           {
            "marker": {
             "line": {
              "color": "#E5ECF6",
              "width": 0.5
             },
             "pattern": {
              "fillmode": "overlay",
              "size": 10,
              "solidity": 0.2
             }
            },
            "type": "barpolar"
           }
          ],
          "carpet": [
           {
            "aaxis": {
             "endlinecolor": "#2a3f5f",
             "gridcolor": "white",
             "linecolor": "white",
             "minorgridcolor": "white",
             "startlinecolor": "#2a3f5f"
            },
            "baxis": {
             "endlinecolor": "#2a3f5f",
             "gridcolor": "white",
             "linecolor": "white",
             "minorgridcolor": "white",
             "startlinecolor": "#2a3f5f"
            },
            "type": "carpet"
           }
          ],
          "choropleth": [
           {
            "colorbar": {
             "outlinewidth": 0,
             "ticks": ""
            },
            "type": "choropleth"
           }
          ],
          "contour": [
           {
            "colorbar": {
             "outlinewidth": 0,
             "ticks": ""
            },
            "colorscale": [
             [
              0,
              "#0d0887"
             ],
             [
              0.1111111111111111,
              "#46039f"
             ],
             [
              0.2222222222222222,
              "#7201a8"
             ],
             [
              0.3333333333333333,
              "#9c179e"
             ],
             [
              0.4444444444444444,
              "#bd3786"
             ],
             [
              0.5555555555555556,
              "#d8576b"
             ],
             [
              0.6666666666666666,
              "#ed7953"
             ],
             [
              0.7777777777777778,
              "#fb9f3a"
             ],
             [
              0.8888888888888888,
              "#fdca26"
             ],
             [
              1,
              "#f0f921"
             ]
            ],
            "type": "contour"
           }
          ],
          "contourcarpet": [
           {
            "colorbar": {
             "outlinewidth": 0,
             "ticks": ""
            },
            "type": "contourcarpet"
           }
          ],
          "heatmap": [
           {
            "colorbar": {
             "outlinewidth": 0,
             "ticks": ""
            },
            "colorscale": [
             [
              0,
              "#0d0887"
             ],
             [
              0.1111111111111111,
              "#46039f"
             ],
             [
              0.2222222222222222,
              "#7201a8"
             ],
             [
              0.3333333333333333,
              "#9c179e"
             ],
             [
              0.4444444444444444,
              "#bd3786"
             ],
             [
              0.5555555555555556,
              "#d8576b"
             ],
             [
              0.6666666666666666,
              "#ed7953"
             ],
             [
              0.7777777777777778,
              "#fb9f3a"
             ],
             [
              0.8888888888888888,
              "#fdca26"
             ],
             [
              1,
              "#f0f921"
             ]
            ],
            "type": "heatmap"
           }
          ],
          "heatmapgl": [
           {
            "colorbar": {
             "outlinewidth": 0,
             "ticks": ""
            },
            "colorscale": [
             [
              0,
              "#0d0887"
             ],
             [
              0.1111111111111111,
              "#46039f"
             ],
             [
              0.2222222222222222,
              "#7201a8"
             ],
             [
              0.3333333333333333,
              "#9c179e"
             ],
             [
              0.4444444444444444,
              "#bd3786"
             ],
             [
              0.5555555555555556,
              "#d8576b"
             ],
             [
              0.6666666666666666,
              "#ed7953"
             ],
             [
              0.7777777777777778,
              "#fb9f3a"
             ],
             [
              0.8888888888888888,
              "#fdca26"
             ],
             [
              1,
              "#f0f921"
             ]
            ],
            "type": "heatmapgl"
           }
          ],
          "histogram": [
           {
            "marker": {
             "pattern": {
              "fillmode": "overlay",
              "size": 10,
              "solidity": 0.2
             }
            },
            "type": "histogram"
           }
          ],
          "histogram2d": [
           {
            "colorbar": {
             "outlinewidth": 0,
             "ticks": ""
            },
            "colorscale": [
             [
              0,
              "#0d0887"
             ],
             [
              0.1111111111111111,
              "#46039f"
             ],
             [
              0.2222222222222222,
              "#7201a8"
             ],
             [
              0.3333333333333333,
              "#9c179e"
             ],
             [
              0.4444444444444444,
              "#bd3786"
             ],
             [
              0.5555555555555556,
              "#d8576b"
             ],
             [
              0.6666666666666666,
              "#ed7953"
             ],
             [
              0.7777777777777778,
              "#fb9f3a"
             ],
             [
              0.8888888888888888,
              "#fdca26"
             ],
             [
              1,
              "#f0f921"
             ]
            ],
            "type": "histogram2d"
           }
          ],
          "histogram2dcontour": [
           {
            "colorbar": {
             "outlinewidth": 0,
             "ticks": ""
            },
            "colorscale": [
             [
              0,
              "#0d0887"
             ],
             [
              0.1111111111111111,
              "#46039f"
             ],
             [
              0.2222222222222222,
              "#7201a8"
             ],
             [
              0.3333333333333333,
              "#9c179e"
             ],
             [
              0.4444444444444444,
              "#bd3786"
             ],
             [
              0.5555555555555556,
              "#d8576b"
             ],
             [
              0.6666666666666666,
              "#ed7953"
             ],
             [
              0.7777777777777778,
              "#fb9f3a"
             ],
             [
              0.8888888888888888,
              "#fdca26"
             ],
             [
              1,
              "#f0f921"
             ]
            ],
            "type": "histogram2dcontour"
           }
          ],
          "mesh3d": [
           {
            "colorbar": {
             "outlinewidth": 0,
             "ticks": ""
            },
            "type": "mesh3d"
           }
          ],
          "parcoords": [
           {
            "line": {
             "colorbar": {
              "outlinewidth": 0,
              "ticks": ""
             }
            },
            "type": "parcoords"
           }
          ],
          "pie": [
           {
            "automargin": true,
            "type": "pie"
           }
          ],
          "scatter": [
           {
            "fillpattern": {
             "fillmode": "overlay",
             "size": 10,
             "solidity": 0.2
            },
            "type": "scatter"
           }
          ],
          "scatter3d": [
           {
            "line": {
             "colorbar": {
              "outlinewidth": 0,
              "ticks": ""
             }
            },
            "marker": {
             "colorbar": {
              "outlinewidth": 0,
              "ticks": ""
             }
            },
            "type": "scatter3d"
           }
          ],
          "scattercarpet": [
           {
            "marker": {
             "colorbar": {
              "outlinewidth": 0,
              "ticks": ""
             }
            },
            "type": "scattercarpet"
           }
          ],
          "scattergeo": [
           {
            "marker": {
             "colorbar": {
              "outlinewidth": 0,
              "ticks": ""
             }
            },
            "type": "scattergeo"
           }
          ],
          "scattergl": [
           {
            "marker": {
             "colorbar": {
              "outlinewidth": 0,
              "ticks": ""
             }
            },
            "type": "scattergl"
           }
          ],
          "scattermapbox": [
           {
            "marker": {
             "colorbar": {
              "outlinewidth": 0,
              "ticks": ""
             }
            },
            "type": "scattermapbox"
           }
          ],
          "scatterpolar": [
           {
            "marker": {
             "colorbar": {
              "outlinewidth": 0,
              "ticks": ""
             }
            },
            "type": "scatterpolar"
           }
          ],
          "scatterpolargl": [
           {
            "marker": {
             "colorbar": {
              "outlinewidth": 0,
              "ticks": ""
             }
            },
            "type": "scatterpolargl"
           }
          ],
          "scatterternary": [
           {
            "marker": {
             "colorbar": {
              "outlinewidth": 0,
              "ticks": ""
             }
            },
            "type": "scatterternary"
           }
          ],
          "surface": [
           {
            "colorbar": {
             "outlinewidth": 0,
             "ticks": ""
            },
            "colorscale": [
             [
              0,
              "#0d0887"
             ],
             [
              0.1111111111111111,
              "#46039f"
             ],
             [
              0.2222222222222222,
              "#7201a8"
             ],
             [
              0.3333333333333333,
              "#9c179e"
             ],
             [
              0.4444444444444444,
              "#bd3786"
             ],
             [
              0.5555555555555556,
              "#d8576b"
             ],
             [
              0.6666666666666666,
              "#ed7953"
             ],
             [
              0.7777777777777778,
              "#fb9f3a"
             ],
             [
              0.8888888888888888,
              "#fdca26"
             ],
             [
              1,
              "#f0f921"
             ]
            ],
            "type": "surface"
           }
          ],
          "table": [
           {
            "cells": {
             "fill": {
              "color": "#EBF0F8"
             },
             "line": {
              "color": "white"
             }
            },
            "header": {
             "fill": {
              "color": "#C8D4E3"
             },
             "line": {
              "color": "white"
             }
            },
            "type": "table"
           }
          ]
         },
         "layout": {
          "annotationdefaults": {
           "arrowcolor": "#2a3f5f",
           "arrowhead": 0,
           "arrowwidth": 1
          },
          "autotypenumbers": "strict",
          "coloraxis": {
           "colorbar": {
            "outlinewidth": 0,
            "ticks": ""
           }
          },
          "colorscale": {
           "diverging": [
            [
             0,
             "#8e0152"
            ],
            [
             0.1,
             "#c51b7d"
            ],
            [
             0.2,
             "#de77ae"
            ],
            [
             0.3,
             "#f1b6da"
            ],
            [
             0.4,
             "#fde0ef"
            ],
            [
             0.5,
             "#f7f7f7"
            ],
            [
             0.6,
             "#e6f5d0"
            ],
            [
             0.7,
             "#b8e186"
            ],
            [
             0.8,
             "#7fbc41"
            ],
            [
             0.9,
             "#4d9221"
            ],
            [
             1,
             "#276419"
            ]
           ],
           "sequential": [
            [
             0,
             "#0d0887"
            ],
            [
             0.1111111111111111,
             "#46039f"
            ],
            [
             0.2222222222222222,
             "#7201a8"
            ],
            [
             0.3333333333333333,
             "#9c179e"
            ],
            [
             0.4444444444444444,
             "#bd3786"
            ],
            [
             0.5555555555555556,
             "#d8576b"
            ],
            [
             0.6666666666666666,
             "#ed7953"
            ],
            [
             0.7777777777777778,
             "#fb9f3a"
            ],
            [
             0.8888888888888888,
             "#fdca26"
            ],
            [
             1,
             "#f0f921"
            ]
           ],
           "sequentialminus": [
            [
             0,
             "#0d0887"
            ],
            [
             0.1111111111111111,
             "#46039f"
            ],
            [
             0.2222222222222222,
             "#7201a8"
            ],
            [
             0.3333333333333333,
             "#9c179e"
            ],
            [
             0.4444444444444444,
             "#bd3786"
            ],
            [
             0.5555555555555556,
             "#d8576b"
            ],
            [
             0.6666666666666666,
             "#ed7953"
            ],
            [
             0.7777777777777778,
             "#fb9f3a"
            ],
            [
             0.8888888888888888,
             "#fdca26"
            ],
            [
             1,
             "#f0f921"
            ]
           ]
          },
          "colorway": [
           "#636efa",
           "#EF553B",
           "#00cc96",
           "#ab63fa",
           "#FFA15A",
           "#19d3f3",
           "#FF6692",
           "#B6E880",
           "#FF97FF",
           "#FECB52"
          ],
          "font": {
           "color": "#2a3f5f"
          },
          "geo": {
           "bgcolor": "white",
           "lakecolor": "white",
           "landcolor": "#E5ECF6",
           "showlakes": true,
           "showland": true,
           "subunitcolor": "white"
          },
          "hoverlabel": {
           "align": "left"
          },
          "hovermode": "closest",
          "mapbox": {
           "style": "light"
          },
          "paper_bgcolor": "white",
          "plot_bgcolor": "#E5ECF6",
          "polar": {
           "angularaxis": {
            "gridcolor": "white",
            "linecolor": "white",
            "ticks": ""
           },
           "bgcolor": "#E5ECF6",
           "radialaxis": {
            "gridcolor": "white",
            "linecolor": "white",
            "ticks": ""
           }
          },
          "scene": {
           "xaxis": {
            "backgroundcolor": "#E5ECF6",
            "gridcolor": "white",
            "gridwidth": 2,
            "linecolor": "white",
            "showbackground": true,
            "ticks": "",
            "zerolinecolor": "white"
           },
           "yaxis": {
            "backgroundcolor": "#E5ECF6",
            "gridcolor": "white",
            "gridwidth": 2,
            "linecolor": "white",
            "showbackground": true,
            "ticks": "",
            "zerolinecolor": "white"
           },
           "zaxis": {
            "backgroundcolor": "#E5ECF6",
            "gridcolor": "white",
            "gridwidth": 2,
            "linecolor": "white",
            "showbackground": true,
            "ticks": "",
            "zerolinecolor": "white"
           }
          },
          "shapedefaults": {
           "line": {
            "color": "#2a3f5f"
           }
          },
          "ternary": {
           "aaxis": {
            "gridcolor": "white",
            "linecolor": "white",
            "ticks": ""
           },
           "baxis": {
            "gridcolor": "white",
            "linecolor": "white",
            "ticks": ""
           },
           "bgcolor": "#E5ECF6",
           "caxis": {
            "gridcolor": "white",
            "linecolor": "white",
            "ticks": ""
           }
          },
          "title": {
           "x": 0.05
          },
          "xaxis": {
           "automargin": true,
           "gridcolor": "white",
           "linecolor": "white",
           "ticks": "",
           "title": {
            "standoff": 15
           },
           "zerolinecolor": "white",
           "zerolinewidth": 2
          },
          "yaxis": {
           "automargin": true,
           "gridcolor": "white",
           "linecolor": "white",
           "ticks": "",
           "title": {
            "standoff": 15
           },
           "zerolinecolor": "white",
           "zerolinewidth": 2
          }
         }
        },
        "title": {
         "text": "Frequency of Resignation Categories"
        },
        "xaxis": {
         "anchor": "y",
         "domain": [
          0,
          1
         ],
         "title": {
          "text": "count"
         }
        },
        "yaxis": {
         "anchor": "x",
         "domain": [
          0,
          1
         ],
         "title": {
          "text": "Category"
         }
        }
       }
      },
      "text/html": [
       "<div>                            <div id=\"e3faaf25-5a80-4c98-8a86-79cd3a352fff\" class=\"plotly-graph-div\" style=\"height:525px; width:100%;\"></div>            <script type=\"text/javascript\">                require([\"plotly\"], function(Plotly) {                    window.PLOTLYENV=window.PLOTLYENV || {};                                    if (document.getElementById(\"e3faaf25-5a80-4c98-8a86-79cd3a352fff\")) {                    Plotly.newPlot(                        \"e3faaf25-5a80-4c98-8a86-79cd3a352fff\",                        [{\"alignmentgroup\":\"True\",\"hovertemplate\":\"count=%{x}\\u003cbr\\u003eCategory=%{y}\\u003cextra\\u003e\\u003c\\u002fextra\\u003e\",\"legendgroup\":\"\",\"marker\":{\"color\":\"#636efa\",\"pattern\":{\"shape\":\"\"}},\"name\":\"\",\"offsetgroup\":\"\",\"orientation\":\"h\",\"showlegend\":false,\"textposition\":\"auto\",\"x\":[1,1,1,1,1,1,1,1,1,1,1,1,1,1,1,1,1,1,1,1,1,1,1,1,1,1,1,1,1,1,1,1,1,1,1,1,1,1,1,1,1,1,1,1,1,1,1,1,1,1,1,1,1,1,1,1,1,1,1,1,1,1,1,1,1,1,1,1,1,1,1,1,1,1,1,1,1,1,1,1,1,1,1,1,1,1,1,1,1,1,1,1,1,1,1,1,1,1,1,1,1,1,1,1,1,1,1,1,1,1,1,1,1,1,1,1,1,1,1,1,1,1,1,1,1,1,1,1,1,1,1,1,1,1,1,1,1,1,1,1,1,1,1,1,1,1,1,1,1,1,1,1,1,1,1,1,1,1,1,1,1,1,1,1,1,1,1,1,1,1,1,1,1,1,1,1,1,1,1,1,1,1,1,1,1,1,1,1,1,1,1,1,1,1,1,1,1,1,1,1,1,1,1,1,1,1,1,1,1,1,1,1,1,1,1,1,1,1,1,1,1,1,1,1,1,1,1,1,1,1,1,1,1,1,1,1,1,1,1,1,1,1,1,1,1,1,1,1,1,1,1,1,1,1,1,1,1,1,1,1,1,1,1,1,1,1,1,1,1,1,1,1,1,1,1,1,1,1,1,1,1,1,1,1,1,1,1,1,1,1,1,1,1,1,1,1,1,1,1,1,1,1,1,1,1,1,1,1,1,1,1,1,1,1,1,1,1,1,1,1,1,1,1,1,1,1,1,1,1,1,1,1,1,1,1,1,1,1,1,1,1,1,1,1,1,1,1,1,1,1,1,1,1,1,1,1,1,1,1,1,1,1,1,1,1,1,1,1,1,1,1,1,1,1,1,1,1,1,1,1,1,1,1,1,1,1,1,1,1,1,1,1,1,1,1,1,1,1,1,1,1,1,1,1,1,1,1,1,1,1,1,1,1,1,1,1,1,1,1,1,1,1,1,1,1,1,1,1,1,1,1,1,1,1,1,1,1,1,1,1,1,1,1,1,1,1,1,1,1,1,1,1,1,1,1,1,1,1,1,1,1,1,1,1,1,1,1,1,1,1,1,1,1,1,1,1,1,1,1,1,1,1,1,1,1,1,1,1,1,1,1,1,1,1,1,1,1,1,1,1,1,1,1,1,1,1,1,1,1,1,1,1,1,1,1,1,1,1,1,1,1,1,1,1,1,1,1,1,1,1,1,1,1,1,1,1,1,1,1,1,1,1,1,1,1,1,1,1,1,1,1,1,1,1,1,1,1,1,1,1,1,1,1,1,1,1,1,1,1,1,1,1,1,1,1,1,1,1,1,1,1,1,1,1,1,1,1,1,1,1,1,1,1,1,1,1,1,1,1,1,1,1,1,1,1,1,1,1,1,1,1,1,1,1,1],\"xaxis\":\"x\",\"y\":[\"Private sector\",\"Unwanted sexual contact\",\"Unwanted sexual contact\",\"Unwanted sexual contact\",\"Consensual sex scandals\",\"Private sector\",\"Other office\",\"Other office\",\"Other office\",\"Other office\",\"Other office\",\"Other office\",\"Other office\",\"Other office\",\"Other scandals\",\"Other scandals\",\"Other\",\"Other scandals\",\"Other scandals\",null,\"Other\",null,\"Other office\",\"Other scandals\",\"Other office\",\"Other office\",\"Private sector\",\"Other office\",\"Other office\",\"Private sector\",\"Other office\",\"Private sector\",\"Other office\",null,null,\"Health\\u002ffamily\",null,\"Other office\",\"Health\\u002ffamily\",\"Unwanted sexual contact\",\"Consensual sex scandals\",\"Other office\",\"Consensual sex scandals\",\"Private sector\",\"Consensual sex scandals\",\"Other office\",\"Consensual sex scandals\",null,\"Unwanted sexual contact\",\"Other office\",\"Private sector\",\"Other office\",null,\"Other office\",\"Other office\",\"Other office\",\"Other office\",\"Other office\",\"Other office\",\"Other office\",\"Private sector\",\"Other office\",null,\"Private sector\",\"Other office\",\"Other office\",\"Private sector\",\"Other\",\"Private sector\",\"Other scandals\",\"Unwanted sexual contact\",\"Other scandals\",\"Other office\",\"Other office\",\"Other scandals\",\"Other office\",\"Other office\",\"Other office\",\"Private sector\",null,\"Other scandals\",\"Other office\",\"Health\\u002ffamily\",\"Other office\",\"Other office\",\"Other scandals\",\"Other office\",\"Health\\u002ffamily\",\"Other office\",null,\"Consensual sex scandals\",\"Other\",\"Private sector\",\"Private sector\",\"Other office\",\"Private sector\",\"Other office\",\"Other office\",\"Other office\",\"Private sector\",\"Other office\",\"Private sector\",\"Other office\",\"Other scandals\",\"Private sector\",\"Unwanted sexual contact\",\"Unwanted sexual contact\",\"Private sector\",\"Other office\",\"Private sector\",\"Private sector\",\"Other office\",\"Other office\",\"Other office\",\"Other office\",\"Other office\",\"Left early\",\"Other office\",\"Health\\u002ffamily\",\"Private sector\",\"Health\\u002ffamily\",\"Other office\",\"Other office\",\"Other office\",\"Other office\",\"Other office\",\"Other office\",\"Other office\",\"Other scandals\",\"Other office\",\"Other scandals\",\"Other scandals\",\"Other office\",\"Other office\",\"Other office\",\"Other scandals\",\"Other office\",\"Other office\",\"Private sector\",\"Other office\",\"Other office\",\"Other office\",null,\"Private sector\",\"Other office\",\"Other\",\"Left early\",\"Other scandals\",\"Other office\",\"Other scandals\",\"Consensual sex scandals\",\"Other scandals\",\"Health\\u002ffamily\",\"Other office\",\"Left early\",\"Left early\",\"Left early\",\"Other scandals\",\"Other scandals\",\"Other scandals\",\"Other scandals\",\"Other office\",\"Other office\",\"Other scandals\",\"Other office\",\"Left early\",\"Left early\",\"Left early\",\"Left early\",\"Left early\",\"Left early\",\"Left early\",\"Left early\",\"Left early\",\"Left early\",\"Left early\",\"Left early\",\"Left early\",\"Left early\",\"Other office\",\"Left early\",\"Left early\",\"Other office\",\"Other\",\"Left early\",\"Left early\",\"Other office\",\"Other office\",\"Other scandals\",\"Other office\",\"Other office\",\"Other office\",\"Left early\",\"Other office\",\"Other office\",\"Left early\",\"Left early\",\"Left early\",\"Left early\",\"Consensual sex scandals\",\"Other office\",\"Private sector\",\"Other\",\"Other office\",\"Left early\",\"Left early\",\"Left early\",\"Left early\",\"Left early\",null,\"Left early\",\"Left early\",\"Left early\",\"Left early\",\"Left early\",\"Left early\",\"Left early\",\"Left early\",\"Left early\",null,\"Other office\",\"Left early\",\"Left early\",\"Other office\",\"Left early\",\"Left early\",\"Left early\",\"Left early\",\"Left early\",\"Left early\",\"Left early\",\"Left early\",\"Left early\",\"Left early\",\"Left early\",\"Left early\",\"Left early\",\"Left early\",\"Left early\",\"Left early\",\"Left early\",\"Other office\",\"Other office\",\"Other office\",\"Private sector\",\"Other office\",\"Left early\",\"Other office\",\"Other office\",\"Private sector\",\"Other office\",\"Other office\",\"Other office\",\"Left early\",\"Other office\",\"Left early\",\"Other office\",\"Other office\",\"Other office\",\"Other office\",\"Other office\",\"Other office\",\"Other office\",\"Other office\",\"Left early\",\"Left early\",\"Other office\",\"Other office\",\"Left early\",\"Left early\",\"Left early\",\"Left early\",\"Left early\",\"Left early\",\"Left early\",\"Left early\",\"Left early\",\"Left early\",\"Left early\",\"Other office\",\"Other office\",\"Other office\",\"Health\\u002ffamily\",\"Other office\",\"Other\",null,\"Other office\",\"Other office\",\"Other office\",\"Other office\",\"Other office\",\"Other office\",\"Other office\",\"Left early\",\"Private sector\",\"Other office\",\"Other office\",\"Private sector\",\"Other office\",\"Other office\",\"Other office\",\"Other office\",\"Other office\",\"Other office\",\"Other office\",\"Other office\",\"Other office\",\"Other office\",\"Other office\",\"Private sector\",\"Private sector\",\"Other office\",\"Other office\",\"Other office\",\"Other\",\"Other office\",\"Left early\",\"Other office\",\"Other office\",\"Left early\",\"Other office\",\"Other office\",\"Other office\",\"Other office\",\"Other office\",\"Private sector\",\"Other office\",\"Other office\",\"Other office\",\"Left early\",\"Other office\",\"Other office\",\"Other office\",\"Private sector\",\"Other office\",\"Health\\u002ffamily\",\"Other office\",\"Private sector\",\"Other office\",\"Other office\",\"Health\\u002ffamily\",\"Other office\",\"Other office\",\"Other scandals\",\"Other office\",\"Other office\",\"Health\\u002ffamily\",\"Other office\",\"Other office\",\"Left early\",\"Other office\",\"Other office\",\"Other office\",\"Other office\",\"Other office\",\"Other office\",\"Other office\",\"Other office\",\"Other office\",\"Left early\",\"Other office\",\"Other office\",\"Other office\",\"Other office\",\"Other office\",\"Other office\",\"Other office\",\"Other office\",\"Private sector\",\"Private sector\",\"Other office\",\"Private sector\",\"Other office\",\"Other office\",\"Other office\",\"Private sector\",\"Other office\",\"Other office\",\"Other office\",\"Other office\",\"Military service\",\"Military service\",\"Military service\",\"Other office\",\"Military service\",\"Private sector\",\"Military service\",\"Military service\",\"Military service\",\"Other office\",\"Other office\",\"Military service\",\"Private sector\",\"Left early\",\"Other office\",\"Other office\",\"Military service\",\"Other office\",\"Military service\",\"Military service\",\"Other office\",\"Military service\",\"Other office\",\"Other office\",\"Other office\",\"Other office\",\"Other office\",\"Other office\",\"Other office\",\"Other office\",\"Private sector\",\"Other office\",\"Other office\",\"Other office\",\"Other office\",\"Other office\",\"Other office\",\"Other office\",\"Other office\",\"Other office\",\"Other office\",\"Other office\",\"Private sector\",\"Election overturned\",\"Other office\",\"Private sector\",\"Other office\",\"Other office\",\"Left early\",\"Other office\",\"Other office\",\"Other office\",\"Other office\",\"Other office\",\"Other office\",\"Other office\",\"Other office\",\"Other office\",\"Other office\",\"Other office\",\"Other office\",\"Other office\",\"Other office\",\"Other office\",\"Other\",\"Other office\",\"Other office\",\"Other office\",\"Other office\",\"Other office\",\"Other office\",\"Other office\",\"Other office\",\"Other office\",\"Other office\",\"Left early\",\"Private sector\",\"Other office\",\"Other office\",\"Other office\",\"Election overturned\",\"Other office\",\"Other office\",\"Other office\",\"Election overturned\",\"Other office\",\"Other office\",\"Other office\",\"Other office\",\"Other office\",\"Other office\",\"Other office\",\"Other office\",\"Other office\",\"Health\\u002ffamily\",\"Other office\",\"Other office\",\"Other office\",\"Other office\",\"Other office\",\"Election overturned\",\"Other scandals\",\"Other office\",\"Other office\",\"Other office\",\"Other office\",\"Other office\",\"Other office\",\"Other office\",\"Election overturned\",\"Other office\",\"Other scandals\",\"Other office\",\"Other office\",\"Other office\",\"Other office\",\"Other office\",\"Other office\",\"Other office\",\"Private sector\",\"Other office\",\"Election overturned\",\"Other office\",\"Other office\",\"Other office\",\"Other office\",\"Other office\",\"Other office\",\"Other office\",\"Other office\",\"Other office\",\"Other office\",\"Other office\",\"Other office\",\"Election overturned\",\"Other office\",\"Other office\",\"Private sector\",\"Election overturned\",\"Other office\",\"Other office\",\"Left early\",\"Other office\",\"Other office\",\"Other office\",\"Private sector\",\"Other office\",\"Other office\",\"Other office\",\"Election overturned\",\"Military service\",\"Other scandals\",\"Other office\",\"Other office\",\"Other office\",\"Other office\",\"Other office\",\"Other office\",\"Other office\",\"Other office\",\"Other office\",\"Other office\",\"Other office\",\"Other office\",\"Other office\",\"Other office\",\"Other scandals\",\"Election overturned\",\"Other office\",\"Other office\",\"Other office\",\"Other office\",\"Election overturned\",\"Other office\",\"Other office\",\"Other office\",\"Other office\",\"Other office\",\"Other office\",null,\"Other office\",\"Election overturned\",\"Other office\",\"Election overturned\",\"Election overturned\",\"Health\\u002ffamily\",\"Other office\",\"Other office\",\"Other office\",\"Other office\",\"Other office\",\"Other office\",null,\"Other office\",\"Other office\",\"Other office\",\"Other office\",\"Other office\",\"Other office\",\"Private sector\",\"Private sector\",\"Other office\",\"Other office\",\"Other office\",\"Other office\",\"Other office\",\"Other office\",\"Other office\",null,\"Election overturned\",\"Other scandals\",\"Other office\",\"Other office\",\"Other office\",\"Other office\",\"Other office\",\"Other office\",\"Other office\",\"Other office\",\"Other office\",\"Election overturned\",\"Election overturned\",\"Other office\",\"Private sector\",\"Health\\u002ffamily\",\"Other office\",\"Other office\",\"Election overturned\",\"Other office\",\"Other office\",\"Other office\",\"Election overturned\",\"Other office\",\"Election overturned\",\"Health\\u002ffamily\"],\"yaxis\":\"y\",\"type\":\"bar\"}],                        {\"template\":{\"data\":{\"histogram2dcontour\":[{\"type\":\"histogram2dcontour\",\"colorbar\":{\"outlinewidth\":0,\"ticks\":\"\"},\"colorscale\":[[0.0,\"#0d0887\"],[0.1111111111111111,\"#46039f\"],[0.2222222222222222,\"#7201a8\"],[0.3333333333333333,\"#9c179e\"],[0.4444444444444444,\"#bd3786\"],[0.5555555555555556,\"#d8576b\"],[0.6666666666666666,\"#ed7953\"],[0.7777777777777778,\"#fb9f3a\"],[0.8888888888888888,\"#fdca26\"],[1.0,\"#f0f921\"]]}],\"choropleth\":[{\"type\":\"choropleth\",\"colorbar\":{\"outlinewidth\":0,\"ticks\":\"\"}}],\"histogram2d\":[{\"type\":\"histogram2d\",\"colorbar\":{\"outlinewidth\":0,\"ticks\":\"\"},\"colorscale\":[[0.0,\"#0d0887\"],[0.1111111111111111,\"#46039f\"],[0.2222222222222222,\"#7201a8\"],[0.3333333333333333,\"#9c179e\"],[0.4444444444444444,\"#bd3786\"],[0.5555555555555556,\"#d8576b\"],[0.6666666666666666,\"#ed7953\"],[0.7777777777777778,\"#fb9f3a\"],[0.8888888888888888,\"#fdca26\"],[1.0,\"#f0f921\"]]}],\"heatmap\":[{\"type\":\"heatmap\",\"colorbar\":{\"outlinewidth\":0,\"ticks\":\"\"},\"colorscale\":[[0.0,\"#0d0887\"],[0.1111111111111111,\"#46039f\"],[0.2222222222222222,\"#7201a8\"],[0.3333333333333333,\"#9c179e\"],[0.4444444444444444,\"#bd3786\"],[0.5555555555555556,\"#d8576b\"],[0.6666666666666666,\"#ed7953\"],[0.7777777777777778,\"#fb9f3a\"],[0.8888888888888888,\"#fdca26\"],[1.0,\"#f0f921\"]]}],\"heatmapgl\":[{\"type\":\"heatmapgl\",\"colorbar\":{\"outlinewidth\":0,\"ticks\":\"\"},\"colorscale\":[[0.0,\"#0d0887\"],[0.1111111111111111,\"#46039f\"],[0.2222222222222222,\"#7201a8\"],[0.3333333333333333,\"#9c179e\"],[0.4444444444444444,\"#bd3786\"],[0.5555555555555556,\"#d8576b\"],[0.6666666666666666,\"#ed7953\"],[0.7777777777777778,\"#fb9f3a\"],[0.8888888888888888,\"#fdca26\"],[1.0,\"#f0f921\"]]}],\"contourcarpet\":[{\"type\":\"contourcarpet\",\"colorbar\":{\"outlinewidth\":0,\"ticks\":\"\"}}],\"contour\":[{\"type\":\"contour\",\"colorbar\":{\"outlinewidth\":0,\"ticks\":\"\"},\"colorscale\":[[0.0,\"#0d0887\"],[0.1111111111111111,\"#46039f\"],[0.2222222222222222,\"#7201a8\"],[0.3333333333333333,\"#9c179e\"],[0.4444444444444444,\"#bd3786\"],[0.5555555555555556,\"#d8576b\"],[0.6666666666666666,\"#ed7953\"],[0.7777777777777778,\"#fb9f3a\"],[0.8888888888888888,\"#fdca26\"],[1.0,\"#f0f921\"]]}],\"surface\":[{\"type\":\"surface\",\"colorbar\":{\"outlinewidth\":0,\"ticks\":\"\"},\"colorscale\":[[0.0,\"#0d0887\"],[0.1111111111111111,\"#46039f\"],[0.2222222222222222,\"#7201a8\"],[0.3333333333333333,\"#9c179e\"],[0.4444444444444444,\"#bd3786\"],[0.5555555555555556,\"#d8576b\"],[0.6666666666666666,\"#ed7953\"],[0.7777777777777778,\"#fb9f3a\"],[0.8888888888888888,\"#fdca26\"],[1.0,\"#f0f921\"]]}],\"mesh3d\":[{\"type\":\"mesh3d\",\"colorbar\":{\"outlinewidth\":0,\"ticks\":\"\"}}],\"scatter\":[{\"fillpattern\":{\"fillmode\":\"overlay\",\"size\":10,\"solidity\":0.2},\"type\":\"scatter\"}],\"parcoords\":[{\"type\":\"parcoords\",\"line\":{\"colorbar\":{\"outlinewidth\":0,\"ticks\":\"\"}}}],\"scatterpolargl\":[{\"type\":\"scatterpolargl\",\"marker\":{\"colorbar\":{\"outlinewidth\":0,\"ticks\":\"\"}}}],\"bar\":[{\"error_x\":{\"color\":\"#2a3f5f\"},\"error_y\":{\"color\":\"#2a3f5f\"},\"marker\":{\"line\":{\"color\":\"#E5ECF6\",\"width\":0.5},\"pattern\":{\"fillmode\":\"overlay\",\"size\":10,\"solidity\":0.2}},\"type\":\"bar\"}],\"scattergeo\":[{\"type\":\"scattergeo\",\"marker\":{\"colorbar\":{\"outlinewidth\":0,\"ticks\":\"\"}}}],\"scatterpolar\":[{\"type\":\"scatterpolar\",\"marker\":{\"colorbar\":{\"outlinewidth\":0,\"ticks\":\"\"}}}],\"histogram\":[{\"marker\":{\"pattern\":{\"fillmode\":\"overlay\",\"size\":10,\"solidity\":0.2}},\"type\":\"histogram\"}],\"scattergl\":[{\"type\":\"scattergl\",\"marker\":{\"colorbar\":{\"outlinewidth\":0,\"ticks\":\"\"}}}],\"scatter3d\":[{\"type\":\"scatter3d\",\"line\":{\"colorbar\":{\"outlinewidth\":0,\"ticks\":\"\"}},\"marker\":{\"colorbar\":{\"outlinewidth\":0,\"ticks\":\"\"}}}],\"scattermapbox\":[{\"type\":\"scattermapbox\",\"marker\":{\"colorbar\":{\"outlinewidth\":0,\"ticks\":\"\"}}}],\"scatterternary\":[{\"type\":\"scatterternary\",\"marker\":{\"colorbar\":{\"outlinewidth\":0,\"ticks\":\"\"}}}],\"scattercarpet\":[{\"type\":\"scattercarpet\",\"marker\":{\"colorbar\":{\"outlinewidth\":0,\"ticks\":\"\"}}}],\"carpet\":[{\"aaxis\":{\"endlinecolor\":\"#2a3f5f\",\"gridcolor\":\"white\",\"linecolor\":\"white\",\"minorgridcolor\":\"white\",\"startlinecolor\":\"#2a3f5f\"},\"baxis\":{\"endlinecolor\":\"#2a3f5f\",\"gridcolor\":\"white\",\"linecolor\":\"white\",\"minorgridcolor\":\"white\",\"startlinecolor\":\"#2a3f5f\"},\"type\":\"carpet\"}],\"table\":[{\"cells\":{\"fill\":{\"color\":\"#EBF0F8\"},\"line\":{\"color\":\"white\"}},\"header\":{\"fill\":{\"color\":\"#C8D4E3\"},\"line\":{\"color\":\"white\"}},\"type\":\"table\"}],\"barpolar\":[{\"marker\":{\"line\":{\"color\":\"#E5ECF6\",\"width\":0.5},\"pattern\":{\"fillmode\":\"overlay\",\"size\":10,\"solidity\":0.2}},\"type\":\"barpolar\"}],\"pie\":[{\"automargin\":true,\"type\":\"pie\"}]},\"layout\":{\"autotypenumbers\":\"strict\",\"colorway\":[\"#636efa\",\"#EF553B\",\"#00cc96\",\"#ab63fa\",\"#FFA15A\",\"#19d3f3\",\"#FF6692\",\"#B6E880\",\"#FF97FF\",\"#FECB52\"],\"font\":{\"color\":\"#2a3f5f\"},\"hovermode\":\"closest\",\"hoverlabel\":{\"align\":\"left\"},\"paper_bgcolor\":\"white\",\"plot_bgcolor\":\"#E5ECF6\",\"polar\":{\"bgcolor\":\"#E5ECF6\",\"angularaxis\":{\"gridcolor\":\"white\",\"linecolor\":\"white\",\"ticks\":\"\"},\"radialaxis\":{\"gridcolor\":\"white\",\"linecolor\":\"white\",\"ticks\":\"\"}},\"ternary\":{\"bgcolor\":\"#E5ECF6\",\"aaxis\":{\"gridcolor\":\"white\",\"linecolor\":\"white\",\"ticks\":\"\"},\"baxis\":{\"gridcolor\":\"white\",\"linecolor\":\"white\",\"ticks\":\"\"},\"caxis\":{\"gridcolor\":\"white\",\"linecolor\":\"white\",\"ticks\":\"\"}},\"coloraxis\":{\"colorbar\":{\"outlinewidth\":0,\"ticks\":\"\"}},\"colorscale\":{\"sequential\":[[0.0,\"#0d0887\"],[0.1111111111111111,\"#46039f\"],[0.2222222222222222,\"#7201a8\"],[0.3333333333333333,\"#9c179e\"],[0.4444444444444444,\"#bd3786\"],[0.5555555555555556,\"#d8576b\"],[0.6666666666666666,\"#ed7953\"],[0.7777777777777778,\"#fb9f3a\"],[0.8888888888888888,\"#fdca26\"],[1.0,\"#f0f921\"]],\"sequentialminus\":[[0.0,\"#0d0887\"],[0.1111111111111111,\"#46039f\"],[0.2222222222222222,\"#7201a8\"],[0.3333333333333333,\"#9c179e\"],[0.4444444444444444,\"#bd3786\"],[0.5555555555555556,\"#d8576b\"],[0.6666666666666666,\"#ed7953\"],[0.7777777777777778,\"#fb9f3a\"],[0.8888888888888888,\"#fdca26\"],[1.0,\"#f0f921\"]],\"diverging\":[[0,\"#8e0152\"],[0.1,\"#c51b7d\"],[0.2,\"#de77ae\"],[0.3,\"#f1b6da\"],[0.4,\"#fde0ef\"],[0.5,\"#f7f7f7\"],[0.6,\"#e6f5d0\"],[0.7,\"#b8e186\"],[0.8,\"#7fbc41\"],[0.9,\"#4d9221\"],[1,\"#276419\"]]},\"xaxis\":{\"gridcolor\":\"white\",\"linecolor\":\"white\",\"ticks\":\"\",\"title\":{\"standoff\":15},\"zerolinecolor\":\"white\",\"automargin\":true,\"zerolinewidth\":2},\"yaxis\":{\"gridcolor\":\"white\",\"linecolor\":\"white\",\"ticks\":\"\",\"title\":{\"standoff\":15},\"zerolinecolor\":\"white\",\"automargin\":true,\"zerolinewidth\":2},\"scene\":{\"xaxis\":{\"backgroundcolor\":\"#E5ECF6\",\"gridcolor\":\"white\",\"linecolor\":\"white\",\"showbackground\":true,\"ticks\":\"\",\"zerolinecolor\":\"white\",\"gridwidth\":2},\"yaxis\":{\"backgroundcolor\":\"#E5ECF6\",\"gridcolor\":\"white\",\"linecolor\":\"white\",\"showbackground\":true,\"ticks\":\"\",\"zerolinecolor\":\"white\",\"gridwidth\":2},\"zaxis\":{\"backgroundcolor\":\"#E5ECF6\",\"gridcolor\":\"white\",\"linecolor\":\"white\",\"showbackground\":true,\"ticks\":\"\",\"zerolinecolor\":\"white\",\"gridwidth\":2}},\"shapedefaults\":{\"line\":{\"color\":\"#2a3f5f\"}},\"annotationdefaults\":{\"arrowcolor\":\"#2a3f5f\",\"arrowhead\":0,\"arrowwidth\":1},\"geo\":{\"bgcolor\":\"white\",\"landcolor\":\"#E5ECF6\",\"subunitcolor\":\"white\",\"showland\":true,\"showlakes\":true,\"lakecolor\":\"white\"},\"title\":{\"x\":0.05},\"mapbox\":{\"style\":\"light\"}}},\"xaxis\":{\"anchor\":\"y\",\"domain\":[0.0,1.0],\"title\":{\"text\":\"count\"}},\"yaxis\":{\"anchor\":\"x\",\"domain\":[0.0,1.0],\"title\":{\"text\":\"Category\"}},\"legend\":{\"tracegroupgap\":0},\"title\":{\"text\":\"Frequency of Resignation Categories\"},\"barmode\":\"relative\"},                        {\"responsive\": true}                    ).then(function(){\n",
       "                            \n",
       "var gd = document.getElementById('e3faaf25-5a80-4c98-8a86-79cd3a352fff');\n",
       "var x = new MutationObserver(function (mutations, observer) {{\n",
       "        var display = window.getComputedStyle(gd).display;\n",
       "        if (!display || display === 'none') {{\n",
       "            console.log([gd, 'removed!']);\n",
       "            Plotly.purge(gd);\n",
       "            observer.disconnect();\n",
       "        }}\n",
       "}});\n",
       "\n",
       "// Listen for the removal of the full notebook cells\n",
       "var notebookContainer = gd.closest('#notebook-container');\n",
       "if (notebookContainer) {{\n",
       "    x.observe(notebookContainer, {childList: true});\n",
       "}}\n",
       "\n",
       "// Listen for the clearing of the current output cell\n",
       "var outputEl = gd.closest('.output');\n",
       "if (outputEl) {{\n",
       "    x.observe(outputEl, {childList: true});\n",
       "}}\n",
       "\n",
       "                        })                };                });            </script>        </div>"
      ]
     },
     "metadata": {},
     "output_type": "display_data"
    }
   ],
   "source": [
    "import plotly.express as px\n",
    "fig = px.bar(resignation, \n",
    "             y=\"Category\", \n",
    "            title='Frequency of Resignation Categories')\n",
    "fig.show()"
   ]
  },
  {
   "cell_type": "markdown",
   "id": "4290aec8",
   "metadata": {},
   "source": [
    "This graph shows the number of resignations over time. Since the 1900's the number of resignations has significantly decreased. "
   ]
  },
  {
   "cell_type": "code",
   "execution_count": 52,
   "id": "1e90dcfc",
   "metadata": {},
   "outputs": [
    {
     "data": {
      "application/vnd.plotly.v1+json": {
       "config": {
        "plotlyServerURL": "https://plot.ly"
       },
       "data": [
        {
         "hovertemplate": "Party=R<br>Year=%{x}<br>index=%{y}<extra></extra>",
         "legendgroup": "R",
         "line": {
          "color": "#636efa",
          "dash": "solid"
         },
         "marker": {
          "symbol": "circle"
         },
         "mode": "lines",
         "name": "R",
         "orientation": "h",
         "showlegend": true,
         "type": "scatter",
         "x": [
          2018,
          2017,
          2017,
          2017,
          2017,
          2017,
          2017,
          2017,
          2017,
          2016,
          2016,
          2015,
          2015,
          2015,
          2015,
          2014,
          2014,
          2013,
          2013,
          2013,
          2013,
          2013,
          2012,
          2012,
          2011,
          2011,
          2011,
          2010,
          2010,
          2010,
          2009,
          2009,
          2008,
          2008,
          2008,
          2007,
          2007,
          2007,
          2006,
          2006,
          2006,
          2005,
          2005,
          2005,
          2004,
          2004,
          2004,
          2003,
          2003,
          2002,
          2002,
          2001,
          2001,
          2001,
          1999,
          1999,
          1997,
          1996,
          1996,
          1995,
          1994,
          1993,
          1991,
          1991,
          1991,
          1991,
          1990,
          1990,
          1989,
          1989,
          1989,
          1989,
          1986,
          1984,
          1982,
          1981,
          1981,
          1980,
          1979,
          1978,
          1978,
          1978,
          1978,
          1978,
          1978,
          1976,
          1976,
          1976,
          1975,
          1974,
          1974,
          1974,
          1974,
          1974,
          1974,
          1974,
          1974,
          1974,
          1974,
          1974,
          1974,
          1974,
          1974,
          1974,
          1974,
          1974,
          1974,
          1974,
          1974,
          1974,
          1973,
          1972,
          1972,
          1971,
          1971,
          1971,
          1971,
          1970,
          1970,
          1970,
          1969,
          1969,
          1969,
          1969,
          1968,
          1968,
          1966,
          1966,
          1966,
          1966,
          1965,
          1960,
          1958,
          1958,
          1957,
          1957,
          1954,
          1954,
          1954,
          1954,
          1954,
          1954,
          1953,
          1953,
          1953,
          1952,
          1952,
          1952,
          1951,
          1950,
          1950,
          1950,
          1949,
          1948,
          1948,
          1948,
          1947,
          1947,
          1946,
          1946,
          1945,
          1945,
          1945,
          1944,
          1943,
          1942,
          1938,
          1938,
          1937,
          1934,
          1933,
          1932,
          1932,
          1932,
          1932,
          1932,
          1930,
          1930,
          1929,
          1929,
          1929,
          1929,
          1928,
          1928,
          1928,
          1928,
          1928,
          1927,
          1926,
          1926,
          1924,
          1924,
          1923,
          1923,
          1923,
          1923,
          1922,
          1922,
          1922,
          1922,
          1922,
          1922,
          1922,
          1921,
          1921,
          1921,
          1921,
          1921,
          1920,
          1920,
          1920,
          1919,
          1919,
          1919,
          1918,
          1918,
          1917,
          1917,
          1917,
          1916,
          1915,
          1914,
          1913,
          1913,
          1913,
          1912,
          1912,
          1912,
          1911,
          1911,
          1911,
          1911,
          1909,
          1909,
          1909,
          1909,
          1909,
          1908,
          1907,
          1907,
          1907,
          1907,
          1906,
          1906,
          1906,
          1905,
          1905,
          1905,
          1905,
          1905,
          1904,
          1904,
          1904,
          1903,
          1903,
          1903,
          1902,
          1902
         ],
         "xaxis": "x",
         "y": [
          0,
          2,
          4,
          5,
          6,
          7,
          8,
          9,
          11,
          12,
          14,
          16,
          17,
          18,
          19,
          20,
          23,
          25,
          26,
          29,
          30,
          31,
          35,
          36,
          41,
          42,
          44,
          45,
          46,
          47,
          51,
          52,
          60,
          63,
          64,
          65,
          66,
          67,
          69,
          70,
          71,
          74,
          75,
          76,
          77,
          78,
          80,
          81,
          82,
          83,
          86,
          87,
          88,
          89,
          90,
          91,
          95,
          98,
          100,
          106,
          108,
          110,
          118,
          121,
          122,
          123,
          124,
          125,
          129,
          132,
          133,
          134,
          139,
          143,
          146,
          150,
          153,
          162,
          165,
          168,
          169,
          170,
          175,
          179,
          180,
          195,
          198,
          201,
          202,
          205,
          207,
          209,
          210,
          214,
          216,
          218,
          219,
          220,
          221,
          224,
          227,
          233,
          235,
          236,
          237,
          239,
          241,
          242,
          243,
          244,
          245,
          247,
          249,
          250,
          251,
          252,
          253,
          255,
          256,
          257,
          259,
          260,
          261,
          262,
          263,
          265,
          270,
          274,
          275,
          279,
          281,
          302,
          306,
          307,
          309,
          310,
          316,
          317,
          318,
          320,
          321,
          322,
          325,
          326,
          328,
          329,
          330,
          331,
          336,
          339,
          341,
          343,
          344,
          348,
          349,
          350,
          354,
          356,
          361,
          363,
          372,
          373,
          378,
          388,
          391,
          399,
          423,
          425,
          432,
          444,
          447,
          456,
          458,
          459,
          460,
          461,
          465,
          466,
          468,
          469,
          470,
          471,
          472,
          473,
          474,
          476,
          477,
          478,
          480,
          481,
          482,
          483,
          485,
          486,
          487,
          488,
          490,
          491,
          492,
          493,
          494,
          495,
          496,
          498,
          499,
          500,
          503,
          504,
          505,
          507,
          509,
          510,
          511,
          520,
          521,
          523,
          529,
          530,
          531,
          533,
          537,
          547,
          552,
          554,
          558,
          561,
          563,
          564,
          566,
          567,
          568,
          569,
          573,
          574,
          575,
          577,
          578,
          579,
          580,
          581,
          582,
          583,
          585,
          587,
          590,
          592,
          593,
          594,
          595,
          596,
          597,
          598,
          599,
          604,
          605,
          606,
          610,
          612
         ],
         "yaxis": "y"
        },
        {
         "hovertemplate": "Party=D<br>Year=%{x}<br>index=%{y}<extra></extra>",
         "legendgroup": "D",
         "line": {
          "color": "#EF553B",
          "dash": "solid"
         },
         "marker": {
          "symbol": "circle"
         },
         "mode": "lines",
         "name": "D",
         "orientation": "h",
         "showlegend": true,
         "type": "scatter",
         "x": [
          2018,
          2017,
          2017,
          2016,
          2016,
          2014,
          2014,
          2014,
          2013,
          2013,
          2012,
          2012,
          2012,
          2012,
          2012,
          2011,
          2011,
          2011,
          2010,
          2010,
          2010,
          2009,
          2009,
          2009,
          2009,
          2009,
          2009,
          2009,
          2008,
          2008,
          2007,
          2006,
          2006,
          2004,
          2002,
          2002,
          1998,
          1997,
          1997,
          1997,
          1997,
          1996,
          1996,
          1996,
          1995,
          1995,
          1995,
          1994,
          1994,
          1993,
          1993,
          1993,
          1993,
          1993,
          1992,
          1992,
          1991,
          1991,
          1990,
          1990,
          1990,
          1989,
          1989,
          1988,
          1988,
          1987,
          1986,
          1986,
          1985,
          1985,
          1983,
          1983,
          1982,
          1982,
          1981,
          1981,
          1981,
          1981,
          1980,
          1980,
          1980,
          1980,
          1980,
          1980,
          1980,
          1980,
          1979,
          1978,
          1978,
          1978,
          1978,
          1978,
          1978,
          1978,
          1978,
          1978,
          1978,
          1978,
          1978,
          1978,
          1978,
          1977,
          1977,
          1977,
          1977,
          1977,
          1977,
          1977,
          1976,
          1976,
          1976,
          1976,
          1976,
          1976,
          1975,
          1974,
          1974,
          1974,
          1974,
          1974,
          1974,
          1974,
          1974,
          1974,
          1974,
          1974,
          1974,
          1974,
          1974,
          1974,
          1974,
          1974,
          1974,
          1974,
          1974,
          1972,
          1972,
          1971,
          1969,
          1968,
          1968,
          1967,
          1966,
          1966,
          1966,
          1966,
          1966,
          1966,
          1966,
          1966,
          1966,
          1965,
          1965,
          1965,
          1964,
          1964,
          1964,
          1964,
          1964,
          1964,
          1964,
          1963,
          1962,
          1962,
          1962,
          1961,
          1961,
          1961,
          1961,
          1961,
          1961,
          1960,
          1960,
          1959,
          1958,
          1957,
          1956,
          1956,
          1956,
          1956,
          1954,
          1954,
          1954,
          1953,
          1952,
          1952,
          1951,
          1951,
          1951,
          1951,
          1950,
          1950,
          1949,
          1949,
          1949,
          1948,
          1948,
          1947,
          1947,
          1947,
          1947,
          1946,
          1946,
          1946,
          1946,
          1946,
          1946,
          1946,
          1945,
          1945,
          1945,
          1945,
          1945,
          1945,
          1945,
          1945,
          1944,
          1944,
          1944,
          1944,
          1944,
          1944,
          1944,
          1944,
          1944,
          1943,
          1943,
          1943,
          1942,
          1942,
          1942,
          1942,
          1942,
          1942,
          1942,
          1942,
          1942,
          1942,
          1942,
          1941,
          1941,
          1941,
          1941,
          1941,
          1941,
          1941,
          1940,
          1940,
          1940,
          1940,
          1940,
          1940,
          1940,
          1939,
          1938,
          1938,
          1938,
          1938,
          1938,
          1938,
          1938,
          1938,
          1937,
          1937,
          1937,
          1937,
          1936,
          1936,
          1936,
          1936,
          1935,
          1935,
          1935,
          1935,
          1935,
          1934,
          1934,
          1933,
          1933,
          1933,
          1933,
          1933,
          1933,
          1933,
          1933,
          1932,
          1930,
          1930,
          1930,
          1929,
          1928,
          1926,
          1923,
          1922,
          1921,
          1921,
          1921,
          1920,
          1920,
          1919,
          1919,
          1919,
          1919,
          1919,
          1919,
          1919,
          1919,
          1918,
          1918,
          1917,
          1917,
          1917,
          1917,
          1916,
          1915,
          1915,
          1915,
          1915,
          1914,
          1914,
          1914,
          1914,
          1914,
          1914,
          1914,
          1914,
          1914,
          1914,
          1913,
          1913,
          1913,
          1913,
          1913,
          1913,
          1913,
          1912,
          1912,
          1911,
          1911,
          1910,
          1910,
          1909,
          1907,
          1906,
          1906,
          1906,
          1906,
          1904,
          1904,
          1903,
          1903,
          1903,
          1903,
          1902,
          1902,
          1902,
          1901
         ],
         "xaxis": "x",
         "y": [
          1,
          3,
          10,
          13,
          15,
          21,
          22,
          24,
          27,
          28,
          32,
          33,
          34,
          37,
          38,
          39,
          40,
          43,
          48,
          49,
          50,
          53,
          54,
          55,
          56,
          57,
          58,
          59,
          61,
          62,
          68,
          72,
          73,
          79,
          84,
          85,
          92,
          93,
          94,
          96,
          97,
          99,
          101,
          102,
          103,
          104,
          105,
          107,
          109,
          111,
          112,
          113,
          114,
          115,
          116,
          117,
          119,
          120,
          126,
          127,
          128,
          130,
          131,
          135,
          136,
          137,
          138,
          140,
          141,
          142,
          144,
          145,
          147,
          148,
          149,
          151,
          152,
          154,
          155,
          156,
          157,
          158,
          159,
          160,
          161,
          163,
          164,
          166,
          167,
          171,
          172,
          173,
          174,
          176,
          177,
          178,
          181,
          182,
          183,
          184,
          185,
          186,
          187,
          188,
          189,
          190,
          191,
          192,
          193,
          194,
          196,
          197,
          199,
          200,
          203,
          204,
          206,
          208,
          211,
          212,
          213,
          215,
          217,
          222,
          223,
          225,
          226,
          228,
          229,
          230,
          231,
          232,
          234,
          238,
          240,
          246,
          248,
          254,
          258,
          264,
          266,
          267,
          268,
          269,
          271,
          272,
          273,
          276,
          277,
          278,
          280,
          282,
          283,
          284,
          285,
          286,
          287,
          288,
          289,
          290,
          291,
          292,
          293,
          294,
          295,
          296,
          297,
          298,
          299,
          300,
          301,
          303,
          304,
          305,
          308,
          311,
          312,
          313,
          314,
          315,
          319,
          323,
          324,
          327,
          332,
          333,
          334,
          335,
          337,
          338,
          340,
          342,
          345,
          346,
          347,
          351,
          352,
          353,
          355,
          357,
          358,
          359,
          360,
          362,
          364,
          365,
          366,
          367,
          368,
          369,
          370,
          371,
          374,
          375,
          376,
          377,
          379,
          380,
          381,
          382,
          383,
          384,
          385,
          386,
          387,
          389,
          390,
          392,
          393,
          394,
          395,
          396,
          397,
          398,
          400,
          401,
          402,
          403,
          404,
          405,
          406,
          407,
          408,
          409,
          410,
          411,
          412,
          413,
          414,
          415,
          416,
          417,
          418,
          419,
          420,
          421,
          422,
          424,
          426,
          427,
          428,
          429,
          430,
          431,
          433,
          434,
          435,
          436,
          437,
          438,
          439,
          440,
          441,
          442,
          443,
          445,
          446,
          448,
          449,
          450,
          451,
          452,
          453,
          454,
          455,
          457,
          462,
          463,
          464,
          467,
          475,
          479,
          484,
          489,
          497,
          501,
          502,
          506,
          508,
          512,
          513,
          514,
          515,
          516,
          517,
          518,
          519,
          522,
          524,
          525,
          526,
          527,
          528,
          532,
          534,
          535,
          536,
          538,
          539,
          540,
          541,
          542,
          543,
          544,
          545,
          546,
          548,
          549,
          550,
          551,
          553,
          555,
          556,
          557,
          559,
          560,
          562,
          565,
          570,
          571,
          572,
          576,
          584,
          586,
          588,
          589,
          591,
          600,
          601,
          602,
          603,
          607,
          608,
          609,
          611,
          613,
          614
         ],
         "yaxis": "y"
        }
       ],
       "layout": {
        "legend": {
         "title": {
          "text": "Party"
         },
         "tracegroupgap": 0
        },
        "template": {
         "data": {
          "bar": [
           {
            "error_x": {
             "color": "#2a3f5f"
            },
            "error_y": {
             "color": "#2a3f5f"
            },
            "marker": {
             "line": {
              "color": "#E5ECF6",
              "width": 0.5
             },
             "pattern": {
              "fillmode": "overlay",
              "size": 10,
              "solidity": 0.2
             }
            },
            "type": "bar"
           }
          ],
          "barpolar": [
           {
            "marker": {
             "line": {
              "color": "#E5ECF6",
              "width": 0.5
             },
             "pattern": {
              "fillmode": "overlay",
              "size": 10,
              "solidity": 0.2
             }
            },
            "type": "barpolar"
           }
          ],
          "carpet": [
           {
            "aaxis": {
             "endlinecolor": "#2a3f5f",
             "gridcolor": "white",
             "linecolor": "white",
             "minorgridcolor": "white",
             "startlinecolor": "#2a3f5f"
            },
            "baxis": {
             "endlinecolor": "#2a3f5f",
             "gridcolor": "white",
             "linecolor": "white",
             "minorgridcolor": "white",
             "startlinecolor": "#2a3f5f"
            },
            "type": "carpet"
           }
          ],
          "choropleth": [
           {
            "colorbar": {
             "outlinewidth": 0,
             "ticks": ""
            },
            "type": "choropleth"
           }
          ],
          "contour": [
           {
            "colorbar": {
             "outlinewidth": 0,
             "ticks": ""
            },
            "colorscale": [
             [
              0,
              "#0d0887"
             ],
             [
              0.1111111111111111,
              "#46039f"
             ],
             [
              0.2222222222222222,
              "#7201a8"
             ],
             [
              0.3333333333333333,
              "#9c179e"
             ],
             [
              0.4444444444444444,
              "#bd3786"
             ],
             [
              0.5555555555555556,
              "#d8576b"
             ],
             [
              0.6666666666666666,
              "#ed7953"
             ],
             [
              0.7777777777777778,
              "#fb9f3a"
             ],
             [
              0.8888888888888888,
              "#fdca26"
             ],
             [
              1,
              "#f0f921"
             ]
            ],
            "type": "contour"
           }
          ],
          "contourcarpet": [
           {
            "colorbar": {
             "outlinewidth": 0,
             "ticks": ""
            },
            "type": "contourcarpet"
           }
          ],
          "heatmap": [
           {
            "colorbar": {
             "outlinewidth": 0,
             "ticks": ""
            },
            "colorscale": [
             [
              0,
              "#0d0887"
             ],
             [
              0.1111111111111111,
              "#46039f"
             ],
             [
              0.2222222222222222,
              "#7201a8"
             ],
             [
              0.3333333333333333,
              "#9c179e"
             ],
             [
              0.4444444444444444,
              "#bd3786"
             ],
             [
              0.5555555555555556,
              "#d8576b"
             ],
             [
              0.6666666666666666,
              "#ed7953"
             ],
             [
              0.7777777777777778,
              "#fb9f3a"
             ],
             [
              0.8888888888888888,
              "#fdca26"
             ],
             [
              1,
              "#f0f921"
             ]
            ],
            "type": "heatmap"
           }
          ],
          "heatmapgl": [
           {
            "colorbar": {
             "outlinewidth": 0,
             "ticks": ""
            },
            "colorscale": [
             [
              0,
              "#0d0887"
             ],
             [
              0.1111111111111111,
              "#46039f"
             ],
             [
              0.2222222222222222,
              "#7201a8"
             ],
             [
              0.3333333333333333,
              "#9c179e"
             ],
             [
              0.4444444444444444,
              "#bd3786"
             ],
             [
              0.5555555555555556,
              "#d8576b"
             ],
             [
              0.6666666666666666,
              "#ed7953"
             ],
             [
              0.7777777777777778,
              "#fb9f3a"
             ],
             [
              0.8888888888888888,
              "#fdca26"
             ],
             [
              1,
              "#f0f921"
             ]
            ],
            "type": "heatmapgl"
           }
          ],
          "histogram": [
           {
            "marker": {
             "pattern": {
              "fillmode": "overlay",
              "size": 10,
              "solidity": 0.2
             }
            },
            "type": "histogram"
           }
          ],
          "histogram2d": [
           {
            "colorbar": {
             "outlinewidth": 0,
             "ticks": ""
            },
            "colorscale": [
             [
              0,
              "#0d0887"
             ],
             [
              0.1111111111111111,
              "#46039f"
             ],
             [
              0.2222222222222222,
              "#7201a8"
             ],
             [
              0.3333333333333333,
              "#9c179e"
             ],
             [
              0.4444444444444444,
              "#bd3786"
             ],
             [
              0.5555555555555556,
              "#d8576b"
             ],
             [
              0.6666666666666666,
              "#ed7953"
             ],
             [
              0.7777777777777778,
              "#fb9f3a"
             ],
             [
              0.8888888888888888,
              "#fdca26"
             ],
             [
              1,
              "#f0f921"
             ]
            ],
            "type": "histogram2d"
           }
          ],
          "histogram2dcontour": [
           {
            "colorbar": {
             "outlinewidth": 0,
             "ticks": ""
            },
            "colorscale": [
             [
              0,
              "#0d0887"
             ],
             [
              0.1111111111111111,
              "#46039f"
             ],
             [
              0.2222222222222222,
              "#7201a8"
             ],
             [
              0.3333333333333333,
              "#9c179e"
             ],
             [
              0.4444444444444444,
              "#bd3786"
             ],
             [
              0.5555555555555556,
              "#d8576b"
             ],
             [
              0.6666666666666666,
              "#ed7953"
             ],
             [
              0.7777777777777778,
              "#fb9f3a"
             ],
             [
              0.8888888888888888,
              "#fdca26"
             ],
             [
              1,
              "#f0f921"
             ]
            ],
            "type": "histogram2dcontour"
           }
          ],
          "mesh3d": [
           {
            "colorbar": {
             "outlinewidth": 0,
             "ticks": ""
            },
            "type": "mesh3d"
           }
          ],
          "parcoords": [
           {
            "line": {
             "colorbar": {
              "outlinewidth": 0,
              "ticks": ""
             }
            },
            "type": "parcoords"
           }
          ],
          "pie": [
           {
            "automargin": true,
            "type": "pie"
           }
          ],
          "scatter": [
           {
            "fillpattern": {
             "fillmode": "overlay",
             "size": 10,
             "solidity": 0.2
            },
            "type": "scatter"
           }
          ],
          "scatter3d": [
           {
            "line": {
             "colorbar": {
              "outlinewidth": 0,
              "ticks": ""
             }
            },
            "marker": {
             "colorbar": {
              "outlinewidth": 0,
              "ticks": ""
             }
            },
            "type": "scatter3d"
           }
          ],
          "scattercarpet": [
           {
            "marker": {
             "colorbar": {
              "outlinewidth": 0,
              "ticks": ""
             }
            },
            "type": "scattercarpet"
           }
          ],
          "scattergeo": [
           {
            "marker": {
             "colorbar": {
              "outlinewidth": 0,
              "ticks": ""
             }
            },
            "type": "scattergeo"
           }
          ],
          "scattergl": [
           {
            "marker": {
             "colorbar": {
              "outlinewidth": 0,
              "ticks": ""
             }
            },
            "type": "scattergl"
           }
          ],
          "scattermapbox": [
           {
            "marker": {
             "colorbar": {
              "outlinewidth": 0,
              "ticks": ""
             }
            },
            "type": "scattermapbox"
           }
          ],
          "scatterpolar": [
           {
            "marker": {
             "colorbar": {
              "outlinewidth": 0,
              "ticks": ""
             }
            },
            "type": "scatterpolar"
           }
          ],
          "scatterpolargl": [
           {
            "marker": {
             "colorbar": {
              "outlinewidth": 0,
              "ticks": ""
             }
            },
            "type": "scatterpolargl"
           }
          ],
          "scatterternary": [
           {
            "marker": {
             "colorbar": {
              "outlinewidth": 0,
              "ticks": ""
             }
            },
            "type": "scatterternary"
           }
          ],
          "surface": [
           {
            "colorbar": {
             "outlinewidth": 0,
             "ticks": ""
            },
            "colorscale": [
             [
              0,
              "#0d0887"
             ],
             [
              0.1111111111111111,
              "#46039f"
             ],
             [
              0.2222222222222222,
              "#7201a8"
             ],
             [
              0.3333333333333333,
              "#9c179e"
             ],
             [
              0.4444444444444444,
              "#bd3786"
             ],
             [
              0.5555555555555556,
              "#d8576b"
             ],
             [
              0.6666666666666666,
              "#ed7953"
             ],
             [
              0.7777777777777778,
              "#fb9f3a"
             ],
             [
              0.8888888888888888,
              "#fdca26"
             ],
             [
              1,
              "#f0f921"
             ]
            ],
            "type": "surface"
           }
          ],
          "table": [
           {
            "cells": {
             "fill": {
              "color": "#EBF0F8"
             },
             "line": {
              "color": "white"
             }
            },
            "header": {
             "fill": {
              "color": "#C8D4E3"
             },
             "line": {
              "color": "white"
             }
            },
            "type": "table"
           }
          ]
         },
         "layout": {
          "annotationdefaults": {
           "arrowcolor": "#2a3f5f",
           "arrowhead": 0,
           "arrowwidth": 1
          },
          "autotypenumbers": "strict",
          "coloraxis": {
           "colorbar": {
            "outlinewidth": 0,
            "ticks": ""
           }
          },
          "colorscale": {
           "diverging": [
            [
             0,
             "#8e0152"
            ],
            [
             0.1,
             "#c51b7d"
            ],
            [
             0.2,
             "#de77ae"
            ],
            [
             0.3,
             "#f1b6da"
            ],
            [
             0.4,
             "#fde0ef"
            ],
            [
             0.5,
             "#f7f7f7"
            ],
            [
             0.6,
             "#e6f5d0"
            ],
            [
             0.7,
             "#b8e186"
            ],
            [
             0.8,
             "#7fbc41"
            ],
            [
             0.9,
             "#4d9221"
            ],
            [
             1,
             "#276419"
            ]
           ],
           "sequential": [
            [
             0,
             "#0d0887"
            ],
            [
             0.1111111111111111,
             "#46039f"
            ],
            [
             0.2222222222222222,
             "#7201a8"
            ],
            [
             0.3333333333333333,
             "#9c179e"
            ],
            [
             0.4444444444444444,
             "#bd3786"
            ],
            [
             0.5555555555555556,
             "#d8576b"
            ],
            [
             0.6666666666666666,
             "#ed7953"
            ],
            [
             0.7777777777777778,
             "#fb9f3a"
            ],
            [
             0.8888888888888888,
             "#fdca26"
            ],
            [
             1,
             "#f0f921"
            ]
           ],
           "sequentialminus": [
            [
             0,
             "#0d0887"
            ],
            [
             0.1111111111111111,
             "#46039f"
            ],
            [
             0.2222222222222222,
             "#7201a8"
            ],
            [
             0.3333333333333333,
             "#9c179e"
            ],
            [
             0.4444444444444444,
             "#bd3786"
            ],
            [
             0.5555555555555556,
             "#d8576b"
            ],
            [
             0.6666666666666666,
             "#ed7953"
            ],
            [
             0.7777777777777778,
             "#fb9f3a"
            ],
            [
             0.8888888888888888,
             "#fdca26"
            ],
            [
             1,
             "#f0f921"
            ]
           ]
          },
          "colorway": [
           "#636efa",
           "#EF553B",
           "#00cc96",
           "#ab63fa",
           "#FFA15A",
           "#19d3f3",
           "#FF6692",
           "#B6E880",
           "#FF97FF",
           "#FECB52"
          ],
          "font": {
           "color": "#2a3f5f"
          },
          "geo": {
           "bgcolor": "white",
           "lakecolor": "white",
           "landcolor": "#E5ECF6",
           "showlakes": true,
           "showland": true,
           "subunitcolor": "white"
          },
          "hoverlabel": {
           "align": "left"
          },
          "hovermode": "closest",
          "mapbox": {
           "style": "light"
          },
          "paper_bgcolor": "white",
          "plot_bgcolor": "#E5ECF6",
          "polar": {
           "angularaxis": {
            "gridcolor": "white",
            "linecolor": "white",
            "ticks": ""
           },
           "bgcolor": "#E5ECF6",
           "radialaxis": {
            "gridcolor": "white",
            "linecolor": "white",
            "ticks": ""
           }
          },
          "scene": {
           "xaxis": {
            "backgroundcolor": "#E5ECF6",
            "gridcolor": "white",
            "gridwidth": 2,
            "linecolor": "white",
            "showbackground": true,
            "ticks": "",
            "zerolinecolor": "white"
           },
           "yaxis": {
            "backgroundcolor": "#E5ECF6",
            "gridcolor": "white",
            "gridwidth": 2,
            "linecolor": "white",
            "showbackground": true,
            "ticks": "",
            "zerolinecolor": "white"
           },
           "zaxis": {
            "backgroundcolor": "#E5ECF6",
            "gridcolor": "white",
            "gridwidth": 2,
            "linecolor": "white",
            "showbackground": true,
            "ticks": "",
            "zerolinecolor": "white"
           }
          },
          "shapedefaults": {
           "line": {
            "color": "#2a3f5f"
           }
          },
          "ternary": {
           "aaxis": {
            "gridcolor": "white",
            "linecolor": "white",
            "ticks": ""
           },
           "baxis": {
            "gridcolor": "white",
            "linecolor": "white",
            "ticks": ""
           },
           "bgcolor": "#E5ECF6",
           "caxis": {
            "gridcolor": "white",
            "linecolor": "white",
            "ticks": ""
           }
          },
          "title": {
           "x": 0.05
          },
          "xaxis": {
           "automargin": true,
           "gridcolor": "white",
           "linecolor": "white",
           "ticks": "",
           "title": {
            "standoff": 15
           },
           "zerolinecolor": "white",
           "zerolinewidth": 2
          },
          "yaxis": {
           "automargin": true,
           "gridcolor": "white",
           "linecolor": "white",
           "ticks": "",
           "title": {
            "standoff": 15
           },
           "zerolinecolor": "white",
           "zerolinewidth": 2
          }
         }
        },
        "title": {
         "text": "Congress Resignations Over Time"
        },
        "xaxis": {
         "anchor": "y",
         "domain": [
          0,
          1
         ],
         "title": {
          "text": "Year"
         }
        },
        "yaxis": {
         "anchor": "x",
         "domain": [
          0,
          1
         ],
         "title": {
          "text": "index"
         }
        }
       }
      },
      "text/html": [
       "<div>                            <div id=\"83f538ad-8072-43f8-ac68-0e8453151d9d\" class=\"plotly-graph-div\" style=\"height:525px; width:100%;\"></div>            <script type=\"text/javascript\">                require([\"plotly\"], function(Plotly) {                    window.PLOTLYENV=window.PLOTLYENV || {};                                    if (document.getElementById(\"83f538ad-8072-43f8-ac68-0e8453151d9d\")) {                    Plotly.newPlot(                        \"83f538ad-8072-43f8-ac68-0e8453151d9d\",                        [{\"hovertemplate\":\"Party=R\\u003cbr\\u003eYear=%{x}\\u003cbr\\u003eindex=%{y}\\u003cextra\\u003e\\u003c\\u002fextra\\u003e\",\"legendgroup\":\"R\",\"line\":{\"color\":\"#636efa\",\"dash\":\"solid\"},\"marker\":{\"symbol\":\"circle\"},\"mode\":\"lines\",\"name\":\"R\",\"orientation\":\"h\",\"showlegend\":true,\"x\":[2018,2017,2017,2017,2017,2017,2017,2017,2017,2016,2016,2015,2015,2015,2015,2014,2014,2013,2013,2013,2013,2013,2012,2012,2011,2011,2011,2010,2010,2010,2009,2009,2008,2008,2008,2007,2007,2007,2006,2006,2006,2005,2005,2005,2004,2004,2004,2003,2003,2002,2002,2001,2001,2001,1999,1999,1997,1996,1996,1995,1994,1993,1991,1991,1991,1991,1990,1990,1989,1989,1989,1989,1986,1984,1982,1981,1981,1980,1979,1978,1978,1978,1978,1978,1978,1976,1976,1976,1975,1974,1974,1974,1974,1974,1974,1974,1974,1974,1974,1974,1974,1974,1974,1974,1974,1974,1974,1974,1974,1974,1973,1972,1972,1971,1971,1971,1971,1970,1970,1970,1969,1969,1969,1969,1968,1968,1966,1966,1966,1966,1965,1960,1958,1958,1957,1957,1954,1954,1954,1954,1954,1954,1953,1953,1953,1952,1952,1952,1951,1950,1950,1950,1949,1948,1948,1948,1947,1947,1946,1946,1945,1945,1945,1944,1943,1942,1938,1938,1937,1934,1933,1932,1932,1932,1932,1932,1930,1930,1929,1929,1929,1929,1928,1928,1928,1928,1928,1927,1926,1926,1924,1924,1923,1923,1923,1923,1922,1922,1922,1922,1922,1922,1922,1921,1921,1921,1921,1921,1920,1920,1920,1919,1919,1919,1918,1918,1917,1917,1917,1916,1915,1914,1913,1913,1913,1912,1912,1912,1911,1911,1911,1911,1909,1909,1909,1909,1909,1908,1907,1907,1907,1907,1906,1906,1906,1905,1905,1905,1905,1905,1904,1904,1904,1903,1903,1903,1902,1902],\"xaxis\":\"x\",\"y\":[0,2,4,5,6,7,8,9,11,12,14,16,17,18,19,20,23,25,26,29,30,31,35,36,41,42,44,45,46,47,51,52,60,63,64,65,66,67,69,70,71,74,75,76,77,78,80,81,82,83,86,87,88,89,90,91,95,98,100,106,108,110,118,121,122,123,124,125,129,132,133,134,139,143,146,150,153,162,165,168,169,170,175,179,180,195,198,201,202,205,207,209,210,214,216,218,219,220,221,224,227,233,235,236,237,239,241,242,243,244,245,247,249,250,251,252,253,255,256,257,259,260,261,262,263,265,270,274,275,279,281,302,306,307,309,310,316,317,318,320,321,322,325,326,328,329,330,331,336,339,341,343,344,348,349,350,354,356,361,363,372,373,378,388,391,399,423,425,432,444,447,456,458,459,460,461,465,466,468,469,470,471,472,473,474,476,477,478,480,481,482,483,485,486,487,488,490,491,492,493,494,495,496,498,499,500,503,504,505,507,509,510,511,520,521,523,529,530,531,533,537,547,552,554,558,561,563,564,566,567,568,569,573,574,575,577,578,579,580,581,582,583,585,587,590,592,593,594,595,596,597,598,599,604,605,606,610,612],\"yaxis\":\"y\",\"type\":\"scatter\"},{\"hovertemplate\":\"Party=D\\u003cbr\\u003eYear=%{x}\\u003cbr\\u003eindex=%{y}\\u003cextra\\u003e\\u003c\\u002fextra\\u003e\",\"legendgroup\":\"D\",\"line\":{\"color\":\"#EF553B\",\"dash\":\"solid\"},\"marker\":{\"symbol\":\"circle\"},\"mode\":\"lines\",\"name\":\"D\",\"orientation\":\"h\",\"showlegend\":true,\"x\":[2018,2017,2017,2016,2016,2014,2014,2014,2013,2013,2012,2012,2012,2012,2012,2011,2011,2011,2010,2010,2010,2009,2009,2009,2009,2009,2009,2009,2008,2008,2007,2006,2006,2004,2002,2002,1998,1997,1997,1997,1997,1996,1996,1996,1995,1995,1995,1994,1994,1993,1993,1993,1993,1993,1992,1992,1991,1991,1990,1990,1990,1989,1989,1988,1988,1987,1986,1986,1985,1985,1983,1983,1982,1982,1981,1981,1981,1981,1980,1980,1980,1980,1980,1980,1980,1980,1979,1978,1978,1978,1978,1978,1978,1978,1978,1978,1978,1978,1978,1978,1978,1977,1977,1977,1977,1977,1977,1977,1976,1976,1976,1976,1976,1976,1975,1974,1974,1974,1974,1974,1974,1974,1974,1974,1974,1974,1974,1974,1974,1974,1974,1974,1974,1974,1974,1972,1972,1971,1969,1968,1968,1967,1966,1966,1966,1966,1966,1966,1966,1966,1966,1965,1965,1965,1964,1964,1964,1964,1964,1964,1964,1963,1962,1962,1962,1961,1961,1961,1961,1961,1961,1960,1960,1959,1958,1957,1956,1956,1956,1956,1954,1954,1954,1953,1952,1952,1951,1951,1951,1951,1950,1950,1949,1949,1949,1948,1948,1947,1947,1947,1947,1946,1946,1946,1946,1946,1946,1946,1945,1945,1945,1945,1945,1945,1945,1945,1944,1944,1944,1944,1944,1944,1944,1944,1944,1943,1943,1943,1942,1942,1942,1942,1942,1942,1942,1942,1942,1942,1942,1941,1941,1941,1941,1941,1941,1941,1940,1940,1940,1940,1940,1940,1940,1939,1938,1938,1938,1938,1938,1938,1938,1938,1937,1937,1937,1937,1936,1936,1936,1936,1935,1935,1935,1935,1935,1934,1934,1933,1933,1933,1933,1933,1933,1933,1933,1932,1930,1930,1930,1929,1928,1926,1923,1922,1921,1921,1921,1920,1920,1919,1919,1919,1919,1919,1919,1919,1919,1918,1918,1917,1917,1917,1917,1916,1915,1915,1915,1915,1914,1914,1914,1914,1914,1914,1914,1914,1914,1914,1913,1913,1913,1913,1913,1913,1913,1912,1912,1911,1911,1910,1910,1909,1907,1906,1906,1906,1906,1904,1904,1903,1903,1903,1903,1902,1902,1902,1901],\"xaxis\":\"x\",\"y\":[1,3,10,13,15,21,22,24,27,28,32,33,34,37,38,39,40,43,48,49,50,53,54,55,56,57,58,59,61,62,68,72,73,79,84,85,92,93,94,96,97,99,101,102,103,104,105,107,109,111,112,113,114,115,116,117,119,120,126,127,128,130,131,135,136,137,138,140,141,142,144,145,147,148,149,151,152,154,155,156,157,158,159,160,161,163,164,166,167,171,172,173,174,176,177,178,181,182,183,184,185,186,187,188,189,190,191,192,193,194,196,197,199,200,203,204,206,208,211,212,213,215,217,222,223,225,226,228,229,230,231,232,234,238,240,246,248,254,258,264,266,267,268,269,271,272,273,276,277,278,280,282,283,284,285,286,287,288,289,290,291,292,293,294,295,296,297,298,299,300,301,303,304,305,308,311,312,313,314,315,319,323,324,327,332,333,334,335,337,338,340,342,345,346,347,351,352,353,355,357,358,359,360,362,364,365,366,367,368,369,370,371,374,375,376,377,379,380,381,382,383,384,385,386,387,389,390,392,393,394,395,396,397,398,400,401,402,403,404,405,406,407,408,409,410,411,412,413,414,415,416,417,418,419,420,421,422,424,426,427,428,429,430,431,433,434,435,436,437,438,439,440,441,442,443,445,446,448,449,450,451,452,453,454,455,457,462,463,464,467,475,479,484,489,497,501,502,506,508,512,513,514,515,516,517,518,519,522,524,525,526,527,528,532,534,535,536,538,539,540,541,542,543,544,545,546,548,549,550,551,553,555,556,557,559,560,562,565,570,571,572,576,584,586,588,589,591,600,601,602,603,607,608,609,611,613,614],\"yaxis\":\"y\",\"type\":\"scatter\"}],                        {\"template\":{\"data\":{\"histogram2dcontour\":[{\"type\":\"histogram2dcontour\",\"colorbar\":{\"outlinewidth\":0,\"ticks\":\"\"},\"colorscale\":[[0.0,\"#0d0887\"],[0.1111111111111111,\"#46039f\"],[0.2222222222222222,\"#7201a8\"],[0.3333333333333333,\"#9c179e\"],[0.4444444444444444,\"#bd3786\"],[0.5555555555555556,\"#d8576b\"],[0.6666666666666666,\"#ed7953\"],[0.7777777777777778,\"#fb9f3a\"],[0.8888888888888888,\"#fdca26\"],[1.0,\"#f0f921\"]]}],\"choropleth\":[{\"type\":\"choropleth\",\"colorbar\":{\"outlinewidth\":0,\"ticks\":\"\"}}],\"histogram2d\":[{\"type\":\"histogram2d\",\"colorbar\":{\"outlinewidth\":0,\"ticks\":\"\"},\"colorscale\":[[0.0,\"#0d0887\"],[0.1111111111111111,\"#46039f\"],[0.2222222222222222,\"#7201a8\"],[0.3333333333333333,\"#9c179e\"],[0.4444444444444444,\"#bd3786\"],[0.5555555555555556,\"#d8576b\"],[0.6666666666666666,\"#ed7953\"],[0.7777777777777778,\"#fb9f3a\"],[0.8888888888888888,\"#fdca26\"],[1.0,\"#f0f921\"]]}],\"heatmap\":[{\"type\":\"heatmap\",\"colorbar\":{\"outlinewidth\":0,\"ticks\":\"\"},\"colorscale\":[[0.0,\"#0d0887\"],[0.1111111111111111,\"#46039f\"],[0.2222222222222222,\"#7201a8\"],[0.3333333333333333,\"#9c179e\"],[0.4444444444444444,\"#bd3786\"],[0.5555555555555556,\"#d8576b\"],[0.6666666666666666,\"#ed7953\"],[0.7777777777777778,\"#fb9f3a\"],[0.8888888888888888,\"#fdca26\"],[1.0,\"#f0f921\"]]}],\"heatmapgl\":[{\"type\":\"heatmapgl\",\"colorbar\":{\"outlinewidth\":0,\"ticks\":\"\"},\"colorscale\":[[0.0,\"#0d0887\"],[0.1111111111111111,\"#46039f\"],[0.2222222222222222,\"#7201a8\"],[0.3333333333333333,\"#9c179e\"],[0.4444444444444444,\"#bd3786\"],[0.5555555555555556,\"#d8576b\"],[0.6666666666666666,\"#ed7953\"],[0.7777777777777778,\"#fb9f3a\"],[0.8888888888888888,\"#fdca26\"],[1.0,\"#f0f921\"]]}],\"contourcarpet\":[{\"type\":\"contourcarpet\",\"colorbar\":{\"outlinewidth\":0,\"ticks\":\"\"}}],\"contour\":[{\"type\":\"contour\",\"colorbar\":{\"outlinewidth\":0,\"ticks\":\"\"},\"colorscale\":[[0.0,\"#0d0887\"],[0.1111111111111111,\"#46039f\"],[0.2222222222222222,\"#7201a8\"],[0.3333333333333333,\"#9c179e\"],[0.4444444444444444,\"#bd3786\"],[0.5555555555555556,\"#d8576b\"],[0.6666666666666666,\"#ed7953\"],[0.7777777777777778,\"#fb9f3a\"],[0.8888888888888888,\"#fdca26\"],[1.0,\"#f0f921\"]]}],\"surface\":[{\"type\":\"surface\",\"colorbar\":{\"outlinewidth\":0,\"ticks\":\"\"},\"colorscale\":[[0.0,\"#0d0887\"],[0.1111111111111111,\"#46039f\"],[0.2222222222222222,\"#7201a8\"],[0.3333333333333333,\"#9c179e\"],[0.4444444444444444,\"#bd3786\"],[0.5555555555555556,\"#d8576b\"],[0.6666666666666666,\"#ed7953\"],[0.7777777777777778,\"#fb9f3a\"],[0.8888888888888888,\"#fdca26\"],[1.0,\"#f0f921\"]]}],\"mesh3d\":[{\"type\":\"mesh3d\",\"colorbar\":{\"outlinewidth\":0,\"ticks\":\"\"}}],\"scatter\":[{\"fillpattern\":{\"fillmode\":\"overlay\",\"size\":10,\"solidity\":0.2},\"type\":\"scatter\"}],\"parcoords\":[{\"type\":\"parcoords\",\"line\":{\"colorbar\":{\"outlinewidth\":0,\"ticks\":\"\"}}}],\"scatterpolargl\":[{\"type\":\"scatterpolargl\",\"marker\":{\"colorbar\":{\"outlinewidth\":0,\"ticks\":\"\"}}}],\"bar\":[{\"error_x\":{\"color\":\"#2a3f5f\"},\"error_y\":{\"color\":\"#2a3f5f\"},\"marker\":{\"line\":{\"color\":\"#E5ECF6\",\"width\":0.5},\"pattern\":{\"fillmode\":\"overlay\",\"size\":10,\"solidity\":0.2}},\"type\":\"bar\"}],\"scattergeo\":[{\"type\":\"scattergeo\",\"marker\":{\"colorbar\":{\"outlinewidth\":0,\"ticks\":\"\"}}}],\"scatterpolar\":[{\"type\":\"scatterpolar\",\"marker\":{\"colorbar\":{\"outlinewidth\":0,\"ticks\":\"\"}}}],\"histogram\":[{\"marker\":{\"pattern\":{\"fillmode\":\"overlay\",\"size\":10,\"solidity\":0.2}},\"type\":\"histogram\"}],\"scattergl\":[{\"type\":\"scattergl\",\"marker\":{\"colorbar\":{\"outlinewidth\":0,\"ticks\":\"\"}}}],\"scatter3d\":[{\"type\":\"scatter3d\",\"line\":{\"colorbar\":{\"outlinewidth\":0,\"ticks\":\"\"}},\"marker\":{\"colorbar\":{\"outlinewidth\":0,\"ticks\":\"\"}}}],\"scattermapbox\":[{\"type\":\"scattermapbox\",\"marker\":{\"colorbar\":{\"outlinewidth\":0,\"ticks\":\"\"}}}],\"scatterternary\":[{\"type\":\"scatterternary\",\"marker\":{\"colorbar\":{\"outlinewidth\":0,\"ticks\":\"\"}}}],\"scattercarpet\":[{\"type\":\"scattercarpet\",\"marker\":{\"colorbar\":{\"outlinewidth\":0,\"ticks\":\"\"}}}],\"carpet\":[{\"aaxis\":{\"endlinecolor\":\"#2a3f5f\",\"gridcolor\":\"white\",\"linecolor\":\"white\",\"minorgridcolor\":\"white\",\"startlinecolor\":\"#2a3f5f\"},\"baxis\":{\"endlinecolor\":\"#2a3f5f\",\"gridcolor\":\"white\",\"linecolor\":\"white\",\"minorgridcolor\":\"white\",\"startlinecolor\":\"#2a3f5f\"},\"type\":\"carpet\"}],\"table\":[{\"cells\":{\"fill\":{\"color\":\"#EBF0F8\"},\"line\":{\"color\":\"white\"}},\"header\":{\"fill\":{\"color\":\"#C8D4E3\"},\"line\":{\"color\":\"white\"}},\"type\":\"table\"}],\"barpolar\":[{\"marker\":{\"line\":{\"color\":\"#E5ECF6\",\"width\":0.5},\"pattern\":{\"fillmode\":\"overlay\",\"size\":10,\"solidity\":0.2}},\"type\":\"barpolar\"}],\"pie\":[{\"automargin\":true,\"type\":\"pie\"}]},\"layout\":{\"autotypenumbers\":\"strict\",\"colorway\":[\"#636efa\",\"#EF553B\",\"#00cc96\",\"#ab63fa\",\"#FFA15A\",\"#19d3f3\",\"#FF6692\",\"#B6E880\",\"#FF97FF\",\"#FECB52\"],\"font\":{\"color\":\"#2a3f5f\"},\"hovermode\":\"closest\",\"hoverlabel\":{\"align\":\"left\"},\"paper_bgcolor\":\"white\",\"plot_bgcolor\":\"#E5ECF6\",\"polar\":{\"bgcolor\":\"#E5ECF6\",\"angularaxis\":{\"gridcolor\":\"white\",\"linecolor\":\"white\",\"ticks\":\"\"},\"radialaxis\":{\"gridcolor\":\"white\",\"linecolor\":\"white\",\"ticks\":\"\"}},\"ternary\":{\"bgcolor\":\"#E5ECF6\",\"aaxis\":{\"gridcolor\":\"white\",\"linecolor\":\"white\",\"ticks\":\"\"},\"baxis\":{\"gridcolor\":\"white\",\"linecolor\":\"white\",\"ticks\":\"\"},\"caxis\":{\"gridcolor\":\"white\",\"linecolor\":\"white\",\"ticks\":\"\"}},\"coloraxis\":{\"colorbar\":{\"outlinewidth\":0,\"ticks\":\"\"}},\"colorscale\":{\"sequential\":[[0.0,\"#0d0887\"],[0.1111111111111111,\"#46039f\"],[0.2222222222222222,\"#7201a8\"],[0.3333333333333333,\"#9c179e\"],[0.4444444444444444,\"#bd3786\"],[0.5555555555555556,\"#d8576b\"],[0.6666666666666666,\"#ed7953\"],[0.7777777777777778,\"#fb9f3a\"],[0.8888888888888888,\"#fdca26\"],[1.0,\"#f0f921\"]],\"sequentialminus\":[[0.0,\"#0d0887\"],[0.1111111111111111,\"#46039f\"],[0.2222222222222222,\"#7201a8\"],[0.3333333333333333,\"#9c179e\"],[0.4444444444444444,\"#bd3786\"],[0.5555555555555556,\"#d8576b\"],[0.6666666666666666,\"#ed7953\"],[0.7777777777777778,\"#fb9f3a\"],[0.8888888888888888,\"#fdca26\"],[1.0,\"#f0f921\"]],\"diverging\":[[0,\"#8e0152\"],[0.1,\"#c51b7d\"],[0.2,\"#de77ae\"],[0.3,\"#f1b6da\"],[0.4,\"#fde0ef\"],[0.5,\"#f7f7f7\"],[0.6,\"#e6f5d0\"],[0.7,\"#b8e186\"],[0.8,\"#7fbc41\"],[0.9,\"#4d9221\"],[1,\"#276419\"]]},\"xaxis\":{\"gridcolor\":\"white\",\"linecolor\":\"white\",\"ticks\":\"\",\"title\":{\"standoff\":15},\"zerolinecolor\":\"white\",\"automargin\":true,\"zerolinewidth\":2},\"yaxis\":{\"gridcolor\":\"white\",\"linecolor\":\"white\",\"ticks\":\"\",\"title\":{\"standoff\":15},\"zerolinecolor\":\"white\",\"automargin\":true,\"zerolinewidth\":2},\"scene\":{\"xaxis\":{\"backgroundcolor\":\"#E5ECF6\",\"gridcolor\":\"white\",\"linecolor\":\"white\",\"showbackground\":true,\"ticks\":\"\",\"zerolinecolor\":\"white\",\"gridwidth\":2},\"yaxis\":{\"backgroundcolor\":\"#E5ECF6\",\"gridcolor\":\"white\",\"linecolor\":\"white\",\"showbackground\":true,\"ticks\":\"\",\"zerolinecolor\":\"white\",\"gridwidth\":2},\"zaxis\":{\"backgroundcolor\":\"#E5ECF6\",\"gridcolor\":\"white\",\"linecolor\":\"white\",\"showbackground\":true,\"ticks\":\"\",\"zerolinecolor\":\"white\",\"gridwidth\":2}},\"shapedefaults\":{\"line\":{\"color\":\"#2a3f5f\"}},\"annotationdefaults\":{\"arrowcolor\":\"#2a3f5f\",\"arrowhead\":0,\"arrowwidth\":1},\"geo\":{\"bgcolor\":\"white\",\"landcolor\":\"#E5ECF6\",\"subunitcolor\":\"white\",\"showland\":true,\"showlakes\":true,\"lakecolor\":\"white\"},\"title\":{\"x\":0.05},\"mapbox\":{\"style\":\"light\"}}},\"xaxis\":{\"anchor\":\"y\",\"domain\":[0.0,1.0],\"title\":{\"text\":\"Year\"}},\"yaxis\":{\"anchor\":\"x\",\"domain\":[0.0,1.0],\"title\":{\"text\":\"index\"}},\"legend\":{\"title\":{\"text\":\"Party\"},\"tracegroupgap\":0},\"title\":{\"text\":\"Congress Resignations Over Time\"}},                        {\"responsive\": true}                    ).then(function(){\n",
       "                            \n",
       "var gd = document.getElementById('83f538ad-8072-43f8-ac68-0e8453151d9d');\n",
       "var x = new MutationObserver(function (mutations, observer) {{\n",
       "        var display = window.getComputedStyle(gd).display;\n",
       "        if (!display || display === 'none') {{\n",
       "            console.log([gd, 'removed!']);\n",
       "            Plotly.purge(gd);\n",
       "            observer.disconnect();\n",
       "        }}\n",
       "}});\n",
       "\n",
       "// Listen for the removal of the full notebook cells\n",
       "var notebookContainer = gd.closest('#notebook-container');\n",
       "if (notebookContainer) {{\n",
       "    x.observe(notebookContainer, {childList: true});\n",
       "}}\n",
       "\n",
       "// Listen for the clearing of the current output cell\n",
       "var outputEl = gd.closest('.output');\n",
       "if (outputEl) {{\n",
       "    x.observe(outputEl, {childList: true});\n",
       "}}\n",
       "\n",
       "                        })                };                });            </script>        </div>"
      ]
     },
     "metadata": {},
     "output_type": "display_data"
    }
   ],
   "source": [
    "fig = px.line(resignation, \n",
    "              x='Year', \n",
    "              color = 'Party',\n",
    "              title='Congress Resignations Over Time')\n",
    "fig.show()"
   ]
  },
  {
   "cell_type": "markdown",
   "id": "e9e73557",
   "metadata": {},
   "source": [
    "This bar chart shows the differences in number of resignations by political party. It appears that more congress members from the democratic party have resigned compared to those from the republican party. "
   ]
  },
  {
   "cell_type": "code",
   "execution_count": 54,
   "id": "5a586b7c",
   "metadata": {},
   "outputs": [
    {
     "data": {
      "application/vnd.plotly.v1+json": {
       "config": {
        "plotlyServerURL": "https://plot.ly"
       },
       "data": [
        {
         "alignmentgroup": "True",
         "hovertemplate": "Party=%{x}<br>count=%{y}<extra></extra>",
         "legendgroup": "",
         "marker": {
          "color": "#636efa",
          "pattern": {
           "shape": ""
          }
         },
         "name": "",
         "offsetgroup": "",
         "orientation": "v",
         "showlegend": false,
         "textposition": "auto",
         "type": "bar",
         "x": [
          "R",
          "D",
          "R",
          "D",
          "R",
          "R",
          "R",
          "R",
          "R",
          "R",
          "D",
          "R",
          "R",
          "D",
          "R",
          "D",
          "R",
          "R",
          "R",
          "R",
          "R",
          "D",
          "D",
          "R",
          "D",
          "R",
          "R",
          "D",
          "D",
          "R",
          "R",
          "R",
          "D",
          "D",
          "D",
          "R",
          "R",
          "D",
          "D",
          "D",
          "D",
          "R",
          "R",
          "D",
          "R",
          "R",
          "R",
          "R",
          "D",
          "D",
          "D",
          "R",
          "R",
          "D",
          "D",
          "D",
          "D",
          "D",
          "D",
          "D",
          "R",
          "D",
          "D",
          "R",
          "R",
          "R",
          "R",
          "R",
          "D",
          "R",
          "R",
          "R",
          "D",
          "D",
          "R",
          "R",
          "R",
          "R",
          "R",
          "D",
          "R",
          "R",
          "R",
          "R",
          "D",
          "D",
          "R",
          "R",
          "R",
          "R",
          "R",
          "R",
          "D",
          "D",
          "D",
          "R",
          "D",
          "D",
          "R",
          "D",
          "R",
          "D",
          "D",
          "D",
          "D",
          "D",
          "R",
          "D",
          "R",
          "D",
          "R",
          "D",
          "D",
          "D",
          "D",
          "D",
          "D",
          "D",
          "R",
          "D",
          "D",
          "R",
          "R",
          "R",
          "R",
          "R",
          "D",
          "D",
          "D",
          "R",
          "D",
          "D",
          "R",
          "R",
          "R",
          "D",
          "D",
          "D",
          "D",
          "R",
          "D",
          "D",
          "D",
          "R",
          "D",
          "D",
          "R",
          "D",
          "D",
          "D",
          "R",
          "D",
          "D",
          "R",
          "D",
          "D",
          "D",
          "D",
          "D",
          "D",
          "D",
          "D",
          "R",
          "D",
          "D",
          "R",
          "D",
          "D",
          "R",
          "R",
          "R",
          "D",
          "D",
          "D",
          "D",
          "R",
          "D",
          "D",
          "D",
          "R",
          "R",
          "D",
          "D",
          "D",
          "D",
          "D",
          "D",
          "D",
          "D",
          "D",
          "D",
          "D",
          "D",
          "D",
          "D",
          "R",
          "D",
          "D",
          "R",
          "D",
          "D",
          "R",
          "R",
          "D",
          "D",
          "R",
          "D",
          "R",
          "D",
          "R",
          "R",
          "D",
          "D",
          "D",
          "R",
          "D",
          "R",
          "D",
          "R",
          "R",
          "R",
          "R",
          "D",
          "D",
          "R",
          "D",
          "D",
          "R",
          "D",
          "D",
          "D",
          "D",
          "D",
          "R",
          "D",
          "R",
          "R",
          "R",
          "D",
          "R",
          "D",
          "R",
          "R",
          "R",
          "R",
          "R",
          "D",
          "R",
          "D",
          "R",
          "R",
          "R",
          "R",
          "R",
          "D",
          "R",
          "R",
          "R",
          "D",
          "R",
          "R",
          "R",
          "R",
          "R",
          "D",
          "R",
          "D",
          "D",
          "D",
          "D",
          "R",
          "D",
          "D",
          "D",
          "R",
          "R",
          "D",
          "D",
          "D",
          "R",
          "D",
          "R",
          "D",
          "D",
          "D",
          "D",
          "D",
          "D",
          "D",
          "D",
          "D",
          "D",
          "D",
          "D",
          "D",
          "D",
          "D",
          "D",
          "D",
          "D",
          "D",
          "D",
          "R",
          "D",
          "D",
          "D",
          "R",
          "R",
          "D",
          "R",
          "R",
          "D",
          "D",
          "D",
          "D",
          "D",
          "R",
          "R",
          "R",
          "D",
          "R",
          "R",
          "R",
          "D",
          "D",
          "R",
          "R",
          "D",
          "R",
          "R",
          "R",
          "R",
          "D",
          "D",
          "D",
          "D",
          "R",
          "D",
          "D",
          "R",
          "D",
          "R",
          "D",
          "R",
          "R",
          "D",
          "D",
          "D",
          "R",
          "R",
          "R",
          "D",
          "D",
          "D",
          "R",
          "D",
          "R",
          "D",
          "D",
          "D",
          "D",
          "R",
          "D",
          "R",
          "D",
          "D",
          "D",
          "D",
          "D",
          "D",
          "D",
          "D",
          "R",
          "R",
          "D",
          "D",
          "D",
          "D",
          "R",
          "D",
          "D",
          "D",
          "D",
          "D",
          "D",
          "D",
          "D",
          "D",
          "R",
          "D",
          "D",
          "R",
          "D",
          "D",
          "D",
          "D",
          "D",
          "D",
          "D",
          "R",
          "D",
          "D",
          "D",
          "D",
          "D",
          "D",
          "D",
          "D",
          "D",
          "D",
          "D",
          "D",
          "D",
          "D",
          "D",
          "D",
          "D",
          "D",
          "D",
          "D",
          "D",
          "D",
          "D",
          "R",
          "D",
          "R",
          "D",
          "D",
          "D",
          "D",
          "D",
          "D",
          "R",
          "D",
          "D",
          "D",
          "D",
          "D",
          "D",
          "D",
          "D",
          "D",
          "D",
          "D",
          "R",
          "D",
          "D",
          "R",
          "D",
          "D",
          "D",
          "D",
          "D",
          "D",
          "D",
          "D",
          "R",
          "D",
          "R",
          "R",
          "R",
          "R",
          "D",
          "D",
          "D",
          "R",
          "R",
          "D",
          "R",
          "R",
          "R",
          "R",
          "R",
          "R",
          "R",
          "D",
          "R",
          "R",
          "R",
          "D",
          "R",
          "R",
          "R",
          "R",
          "D",
          "R",
          "R",
          "R",
          "R",
          "D",
          "R",
          "R",
          "R",
          "R",
          "R",
          "R",
          "R",
          "D",
          "R",
          "R",
          "R",
          "D",
          "D",
          "R",
          "R",
          "R",
          "D",
          "R",
          "D",
          "R",
          "R",
          "R",
          "D",
          "D",
          "D",
          "D",
          "D",
          "D",
          "D",
          "D",
          "R",
          "R",
          "D",
          "R",
          "D",
          "D",
          "D",
          "D",
          "D",
          "R",
          "R",
          "R",
          "D",
          "R",
          "D",
          "D",
          "D",
          "R",
          "D",
          "D",
          "D",
          "D",
          "D",
          "D",
          "D",
          "D",
          "D",
          "R",
          "D",
          "D",
          "D",
          "D",
          "R",
          "D",
          "R",
          "D",
          "D",
          "D",
          "R",
          "D",
          "D",
          "R",
          "D",
          "R",
          "R",
          "D",
          "R",
          "R",
          "R",
          "R",
          "D",
          "D",
          "D",
          "R",
          "R",
          "R",
          "D",
          "R",
          "R",
          "R",
          "R",
          "R",
          "R",
          "R",
          "D",
          "R",
          "D",
          "R",
          "D",
          "D",
          "R",
          "D",
          "R",
          "R",
          "R",
          "R",
          "R",
          "R",
          "R",
          "R",
          "D",
          "D",
          "D",
          "D",
          "R",
          "R",
          "R",
          "D",
          "D",
          "D",
          "R",
          "D",
          "R",
          "D",
          "D"
         ],
         "xaxis": "x",
         "y": [
          1,
          1,
          1,
          1,
          1,
          1,
          1,
          1,
          1,
          1,
          1,
          1,
          1,
          1,
          1,
          1,
          1,
          1,
          1,
          1,
          1,
          1,
          1,
          1,
          1,
          1,
          1,
          1,
          1,
          1,
          1,
          1,
          1,
          1,
          1,
          1,
          1,
          1,
          1,
          1,
          1,
          1,
          1,
          1,
          1,
          1,
          1,
          1,
          1,
          1,
          1,
          1,
          1,
          1,
          1,
          1,
          1,
          1,
          1,
          1,
          1,
          1,
          1,
          1,
          1,
          1,
          1,
          1,
          1,
          1,
          1,
          1,
          1,
          1,
          1,
          1,
          1,
          1,
          1,
          1,
          1,
          1,
          1,
          1,
          1,
          1,
          1,
          1,
          1,
          1,
          1,
          1,
          1,
          1,
          1,
          1,
          1,
          1,
          1,
          1,
          1,
          1,
          1,
          1,
          1,
          1,
          1,
          1,
          1,
          1,
          1,
          1,
          1,
          1,
          1,
          1,
          1,
          1,
          1,
          1,
          1,
          1,
          1,
          1,
          1,
          1,
          1,
          1,
          1,
          1,
          1,
          1,
          1,
          1,
          1,
          1,
          1,
          1,
          1,
          1,
          1,
          1,
          1,
          1,
          1,
          1,
          1,
          1,
          1,
          1,
          1,
          1,
          1,
          1,
          1,
          1,
          1,
          1,
          1,
          1,
          1,
          1,
          1,
          1,
          1,
          1,
          1,
          1,
          1,
          1,
          1,
          1,
          1,
          1,
          1,
          1,
          1,
          1,
          1,
          1,
          1,
          1,
          1,
          1,
          1,
          1,
          1,
          1,
          1,
          1,
          1,
          1,
          1,
          1,
          1,
          1,
          1,
          1,
          1,
          1,
          1,
          1,
          1,
          1,
          1,
          1,
          1,
          1,
          1,
          1,
          1,
          1,
          1,
          1,
          1,
          1,
          1,
          1,
          1,
          1,
          1,
          1,
          1,
          1,
          1,
          1,
          1,
          1,
          1,
          1,
          1,
          1,
          1,
          1,
          1,
          1,
          1,
          1,
          1,
          1,
          1,
          1,
          1,
          1,
          1,
          1,
          1,
          1,
          1,
          1,
          1,
          1,
          1,
          1,
          1,
          1,
          1,
          1,
          1,
          1,
          1,
          1,
          1,
          1,
          1,
          1,
          1,
          1,
          1,
          1,
          1,
          1,
          1,
          1,
          1,
          1,
          1,
          1,
          1,
          1,
          1,
          1,
          1,
          1,
          1,
          1,
          1,
          1,
          1,
          1,
          1,
          1,
          1,
          1,
          1,
          1,
          1,
          1,
          1,
          1,
          1,
          1,
          1,
          1,
          1,
          1,
          1,
          1,
          1,
          1,
          1,
          1,
          1,
          1,
          1,
          1,
          1,
          1,
          1,
          1,
          1,
          1,
          1,
          1,
          1,
          1,
          1,
          1,
          1,
          1,
          1,
          1,
          1,
          1,
          1,
          1,
          1,
          1,
          1,
          1,
          1,
          1,
          1,
          1,
          1,
          1,
          1,
          1,
          1,
          1,
          1,
          1,
          1,
          1,
          1,
          1,
          1,
          1,
          1,
          1,
          1,
          1,
          1,
          1,
          1,
          1,
          1,
          1,
          1,
          1,
          1,
          1,
          1,
          1,
          1,
          1,
          1,
          1,
          1,
          1,
          1,
          1,
          1,
          1,
          1,
          1,
          1,
          1,
          1,
          1,
          1,
          1,
          1,
          1,
          1,
          1,
          1,
          1,
          1,
          1,
          1,
          1,
          1,
          1,
          1,
          1,
          1,
          1,
          1,
          1,
          1,
          1,
          1,
          1,
          1,
          1,
          1,
          1,
          1,
          1,
          1,
          1,
          1,
          1,
          1,
          1,
          1,
          1,
          1,
          1,
          1,
          1,
          1,
          1,
          1,
          1,
          1,
          1,
          1,
          1,
          1,
          1,
          1,
          1,
          1,
          1,
          1,
          1,
          1,
          1,
          1,
          1,
          1,
          1,
          1,
          1,
          1,
          1,
          1,
          1,
          1,
          1,
          1,
          1,
          1,
          1,
          1,
          1,
          1,
          1,
          1,
          1,
          1,
          1,
          1,
          1,
          1,
          1,
          1,
          1,
          1,
          1,
          1,
          1,
          1,
          1,
          1,
          1,
          1,
          1,
          1,
          1,
          1,
          1,
          1,
          1,
          1,
          1,
          1,
          1,
          1,
          1,
          1,
          1,
          1,
          1,
          1,
          1,
          1,
          1,
          1,
          1,
          1,
          1,
          1,
          1,
          1,
          1,
          1,
          1,
          1,
          1,
          1,
          1,
          1,
          1,
          1,
          1,
          1,
          1,
          1,
          1,
          1,
          1,
          1,
          1,
          1,
          1,
          1,
          1,
          1,
          1,
          1,
          1,
          1,
          1,
          1,
          1,
          1,
          1,
          1,
          1,
          1,
          1,
          1,
          1,
          1,
          1,
          1,
          1,
          1,
          1,
          1,
          1,
          1,
          1,
          1,
          1,
          1,
          1,
          1,
          1,
          1,
          1,
          1,
          1,
          1,
          1,
          1,
          1,
          1,
          1,
          1,
          1,
          1,
          1,
          1,
          1,
          1,
          1,
          1,
          1,
          1,
          1,
          1,
          1,
          1,
          1,
          1,
          1,
          1,
          1,
          1,
          1,
          1,
          1,
          1,
          1,
          1,
          1,
          1,
          1,
          1,
          1,
          1
         ],
         "yaxis": "y"
        }
       ],
       "layout": {
        "barmode": "relative",
        "legend": {
         "tracegroupgap": 0
        },
        "margin": {
         "t": 60
        },
        "template": {
         "data": {
          "bar": [
           {
            "error_x": {
             "color": "#2a3f5f"
            },
            "error_y": {
             "color": "#2a3f5f"
            },
            "marker": {
             "line": {
              "color": "#E5ECF6",
              "width": 0.5
             },
             "pattern": {
              "fillmode": "overlay",
              "size": 10,
              "solidity": 0.2
             }
            },
            "type": "bar"
           }
          ],
          "barpolar": [
           {
            "marker": {
             "line": {
              "color": "#E5ECF6",
              "width": 0.5
             },
             "pattern": {
              "fillmode": "overlay",
              "size": 10,
              "solidity": 0.2
             }
            },
            "type": "barpolar"
           }
          ],
          "carpet": [
           {
            "aaxis": {
             "endlinecolor": "#2a3f5f",
             "gridcolor": "white",
             "linecolor": "white",
             "minorgridcolor": "white",
             "startlinecolor": "#2a3f5f"
            },
            "baxis": {
             "endlinecolor": "#2a3f5f",
             "gridcolor": "white",
             "linecolor": "white",
             "minorgridcolor": "white",
             "startlinecolor": "#2a3f5f"
            },
            "type": "carpet"
           }
          ],
          "choropleth": [
           {
            "colorbar": {
             "outlinewidth": 0,
             "ticks": ""
            },
            "type": "choropleth"
           }
          ],
          "contour": [
           {
            "colorbar": {
             "outlinewidth": 0,
             "ticks": ""
            },
            "colorscale": [
             [
              0,
              "#0d0887"
             ],
             [
              0.1111111111111111,
              "#46039f"
             ],
             [
              0.2222222222222222,
              "#7201a8"
             ],
             [
              0.3333333333333333,
              "#9c179e"
             ],
             [
              0.4444444444444444,
              "#bd3786"
             ],
             [
              0.5555555555555556,
              "#d8576b"
             ],
             [
              0.6666666666666666,
              "#ed7953"
             ],
             [
              0.7777777777777778,
              "#fb9f3a"
             ],
             [
              0.8888888888888888,
              "#fdca26"
             ],
             [
              1,
              "#f0f921"
             ]
            ],
            "type": "contour"
           }
          ],
          "contourcarpet": [
           {
            "colorbar": {
             "outlinewidth": 0,
             "ticks": ""
            },
            "type": "contourcarpet"
           }
          ],
          "heatmap": [
           {
            "colorbar": {
             "outlinewidth": 0,
             "ticks": ""
            },
            "colorscale": [
             [
              0,
              "#0d0887"
             ],
             [
              0.1111111111111111,
              "#46039f"
             ],
             [
              0.2222222222222222,
              "#7201a8"
             ],
             [
              0.3333333333333333,
              "#9c179e"
             ],
             [
              0.4444444444444444,
              "#bd3786"
             ],
             [
              0.5555555555555556,
              "#d8576b"
             ],
             [
              0.6666666666666666,
              "#ed7953"
             ],
             [
              0.7777777777777778,
              "#fb9f3a"
             ],
             [
              0.8888888888888888,
              "#fdca26"
             ],
             [
              1,
              "#f0f921"
             ]
            ],
            "type": "heatmap"
           }
          ],
          "heatmapgl": [
           {
            "colorbar": {
             "outlinewidth": 0,
             "ticks": ""
            },
            "colorscale": [
             [
              0,
              "#0d0887"
             ],
             [
              0.1111111111111111,
              "#46039f"
             ],
             [
              0.2222222222222222,
              "#7201a8"
             ],
             [
              0.3333333333333333,
              "#9c179e"
             ],
             [
              0.4444444444444444,
              "#bd3786"
             ],
             [
              0.5555555555555556,
              "#d8576b"
             ],
             [
              0.6666666666666666,
              "#ed7953"
             ],
             [
              0.7777777777777778,
              "#fb9f3a"
             ],
             [
              0.8888888888888888,
              "#fdca26"
             ],
             [
              1,
              "#f0f921"
             ]
            ],
            "type": "heatmapgl"
           }
          ],
          "histogram": [
           {
            "marker": {
             "pattern": {
              "fillmode": "overlay",
              "size": 10,
              "solidity": 0.2
             }
            },
            "type": "histogram"
           }
          ],
          "histogram2d": [
           {
            "colorbar": {
             "outlinewidth": 0,
             "ticks": ""
            },
            "colorscale": [
             [
              0,
              "#0d0887"
             ],
             [
              0.1111111111111111,
              "#46039f"
             ],
             [
              0.2222222222222222,
              "#7201a8"
             ],
             [
              0.3333333333333333,
              "#9c179e"
             ],
             [
              0.4444444444444444,
              "#bd3786"
             ],
             [
              0.5555555555555556,
              "#d8576b"
             ],
             [
              0.6666666666666666,
              "#ed7953"
             ],
             [
              0.7777777777777778,
              "#fb9f3a"
             ],
             [
              0.8888888888888888,
              "#fdca26"
             ],
             [
              1,
              "#f0f921"
             ]
            ],
            "type": "histogram2d"
           }
          ],
          "histogram2dcontour": [
           {
            "colorbar": {
             "outlinewidth": 0,
             "ticks": ""
            },
            "colorscale": [
             [
              0,
              "#0d0887"
             ],
             [
              0.1111111111111111,
              "#46039f"
             ],
             [
              0.2222222222222222,
              "#7201a8"
             ],
             [
              0.3333333333333333,
              "#9c179e"
             ],
             [
              0.4444444444444444,
              "#bd3786"
             ],
             [
              0.5555555555555556,
              "#d8576b"
             ],
             [
              0.6666666666666666,
              "#ed7953"
             ],
             [
              0.7777777777777778,
              "#fb9f3a"
             ],
             [
              0.8888888888888888,
              "#fdca26"
             ],
             [
              1,
              "#f0f921"
             ]
            ],
            "type": "histogram2dcontour"
           }
          ],
          "mesh3d": [
           {
            "colorbar": {
             "outlinewidth": 0,
             "ticks": ""
            },
            "type": "mesh3d"
           }
          ],
          "parcoords": [
           {
            "line": {
             "colorbar": {
              "outlinewidth": 0,
              "ticks": ""
             }
            },
            "type": "parcoords"
           }
          ],
          "pie": [
           {
            "automargin": true,
            "type": "pie"
           }
          ],
          "scatter": [
           {
            "fillpattern": {
             "fillmode": "overlay",
             "size": 10,
             "solidity": 0.2
            },
            "type": "scatter"
           }
          ],
          "scatter3d": [
           {
            "line": {
             "colorbar": {
              "outlinewidth": 0,
              "ticks": ""
             }
            },
            "marker": {
             "colorbar": {
              "outlinewidth": 0,
              "ticks": ""
             }
            },
            "type": "scatter3d"
           }
          ],
          "scattercarpet": [
           {
            "marker": {
             "colorbar": {
              "outlinewidth": 0,
              "ticks": ""
             }
            },
            "type": "scattercarpet"
           }
          ],
          "scattergeo": [
           {
            "marker": {
             "colorbar": {
              "outlinewidth": 0,
              "ticks": ""
             }
            },
            "type": "scattergeo"
           }
          ],
          "scattergl": [
           {
            "marker": {
             "colorbar": {
              "outlinewidth": 0,
              "ticks": ""
             }
            },
            "type": "scattergl"
           }
          ],
          "scattermapbox": [
           {
            "marker": {
             "colorbar": {
              "outlinewidth": 0,
              "ticks": ""
             }
            },
            "type": "scattermapbox"
           }
          ],
          "scatterpolar": [
           {
            "marker": {
             "colorbar": {
              "outlinewidth": 0,
              "ticks": ""
             }
            },
            "type": "scatterpolar"
           }
          ],
          "scatterpolargl": [
           {
            "marker": {
             "colorbar": {
              "outlinewidth": 0,
              "ticks": ""
             }
            },
            "type": "scatterpolargl"
           }
          ],
          "scatterternary": [
           {
            "marker": {
             "colorbar": {
              "outlinewidth": 0,
              "ticks": ""
             }
            },
            "type": "scatterternary"
           }
          ],
          "surface": [
           {
            "colorbar": {
             "outlinewidth": 0,
             "ticks": ""
            },
            "colorscale": [
             [
              0,
              "#0d0887"
             ],
             [
              0.1111111111111111,
              "#46039f"
             ],
             [
              0.2222222222222222,
              "#7201a8"
             ],
             [
              0.3333333333333333,
              "#9c179e"
             ],
             [
              0.4444444444444444,
              "#bd3786"
             ],
             [
              0.5555555555555556,
              "#d8576b"
             ],
             [
              0.6666666666666666,
              "#ed7953"
             ],
             [
              0.7777777777777778,
              "#fb9f3a"
             ],
             [
              0.8888888888888888,
              "#fdca26"
             ],
             [
              1,
              "#f0f921"
             ]
            ],
            "type": "surface"
           }
          ],
          "table": [
           {
            "cells": {
             "fill": {
              "color": "#EBF0F8"
             },
             "line": {
              "color": "white"
             }
            },
            "header": {
             "fill": {
              "color": "#C8D4E3"
             },
             "line": {
              "color": "white"
             }
            },
            "type": "table"
           }
          ]
         },
         "layout": {
          "annotationdefaults": {
           "arrowcolor": "#2a3f5f",
           "arrowhead": 0,
           "arrowwidth": 1
          },
          "autotypenumbers": "strict",
          "coloraxis": {
           "colorbar": {
            "outlinewidth": 0,
            "ticks": ""
           }
          },
          "colorscale": {
           "diverging": [
            [
             0,
             "#8e0152"
            ],
            [
             0.1,
             "#c51b7d"
            ],
            [
             0.2,
             "#de77ae"
            ],
            [
             0.3,
             "#f1b6da"
            ],
            [
             0.4,
             "#fde0ef"
            ],
            [
             0.5,
             "#f7f7f7"
            ],
            [
             0.6,
             "#e6f5d0"
            ],
            [
             0.7,
             "#b8e186"
            ],
            [
             0.8,
             "#7fbc41"
            ],
            [
             0.9,
             "#4d9221"
            ],
            [
             1,
             "#276419"
            ]
           ],
           "sequential": [
            [
             0,
             "#0d0887"
            ],
            [
             0.1111111111111111,
             "#46039f"
            ],
            [
             0.2222222222222222,
             "#7201a8"
            ],
            [
             0.3333333333333333,
             "#9c179e"
            ],
            [
             0.4444444444444444,
             "#bd3786"
            ],
            [
             0.5555555555555556,
             "#d8576b"
            ],
            [
             0.6666666666666666,
             "#ed7953"
            ],
            [
             0.7777777777777778,
             "#fb9f3a"
            ],
            [
             0.8888888888888888,
             "#fdca26"
            ],
            [
             1,
             "#f0f921"
            ]
           ],
           "sequentialminus": [
            [
             0,
             "#0d0887"
            ],
            [
             0.1111111111111111,
             "#46039f"
            ],
            [
             0.2222222222222222,
             "#7201a8"
            ],
            [
             0.3333333333333333,
             "#9c179e"
            ],
            [
             0.4444444444444444,
             "#bd3786"
            ],
            [
             0.5555555555555556,
             "#d8576b"
            ],
            [
             0.6666666666666666,
             "#ed7953"
            ],
            [
             0.7777777777777778,
             "#fb9f3a"
            ],
            [
             0.8888888888888888,
             "#fdca26"
            ],
            [
             1,
             "#f0f921"
            ]
           ]
          },
          "colorway": [
           "#636efa",
           "#EF553B",
           "#00cc96",
           "#ab63fa",
           "#FFA15A",
           "#19d3f3",
           "#FF6692",
           "#B6E880",
           "#FF97FF",
           "#FECB52"
          ],
          "font": {
           "color": "#2a3f5f"
          },
          "geo": {
           "bgcolor": "white",
           "lakecolor": "white",
           "landcolor": "#E5ECF6",
           "showlakes": true,
           "showland": true,
           "subunitcolor": "white"
          },
          "hoverlabel": {
           "align": "left"
          },
          "hovermode": "closest",
          "mapbox": {
           "style": "light"
          },
          "paper_bgcolor": "white",
          "plot_bgcolor": "#E5ECF6",
          "polar": {
           "angularaxis": {
            "gridcolor": "white",
            "linecolor": "white",
            "ticks": ""
           },
           "bgcolor": "#E5ECF6",
           "radialaxis": {
            "gridcolor": "white",
            "linecolor": "white",
            "ticks": ""
           }
          },
          "scene": {
           "xaxis": {
            "backgroundcolor": "#E5ECF6",
            "gridcolor": "white",
            "gridwidth": 2,
            "linecolor": "white",
            "showbackground": true,
            "ticks": "",
            "zerolinecolor": "white"
           },
           "yaxis": {
            "backgroundcolor": "#E5ECF6",
            "gridcolor": "white",
            "gridwidth": 2,
            "linecolor": "white",
            "showbackground": true,
            "ticks": "",
            "zerolinecolor": "white"
           },
           "zaxis": {
            "backgroundcolor": "#E5ECF6",
            "gridcolor": "white",
            "gridwidth": 2,
            "linecolor": "white",
            "showbackground": true,
            "ticks": "",
            "zerolinecolor": "white"
           }
          },
          "shapedefaults": {
           "line": {
            "color": "#2a3f5f"
           }
          },
          "ternary": {
           "aaxis": {
            "gridcolor": "white",
            "linecolor": "white",
            "ticks": ""
           },
           "baxis": {
            "gridcolor": "white",
            "linecolor": "white",
            "ticks": ""
           },
           "bgcolor": "#E5ECF6",
           "caxis": {
            "gridcolor": "white",
            "linecolor": "white",
            "ticks": ""
           }
          },
          "title": {
           "x": 0.05
          },
          "xaxis": {
           "automargin": true,
           "gridcolor": "white",
           "linecolor": "white",
           "ticks": "",
           "title": {
            "standoff": 15
           },
           "zerolinecolor": "white",
           "zerolinewidth": 2
          },
          "yaxis": {
           "automargin": true,
           "gridcolor": "white",
           "linecolor": "white",
           "ticks": "",
           "title": {
            "standoff": 15
           },
           "zerolinecolor": "white",
           "zerolinewidth": 2
          }
         }
        },
        "xaxis": {
         "anchor": "y",
         "domain": [
          0,
          1
         ],
         "title": {
          "text": "Party"
         }
        },
        "yaxis": {
         "anchor": "x",
         "domain": [
          0,
          1
         ],
         "title": {
          "text": "count"
         }
        }
       }
      },
      "text/html": [
       "<div>                            <div id=\"9c5aa2d1-671b-4c6a-92f6-bcad0f74ab86\" class=\"plotly-graph-div\" style=\"height:525px; width:100%;\"></div>            <script type=\"text/javascript\">                require([\"plotly\"], function(Plotly) {                    window.PLOTLYENV=window.PLOTLYENV || {};                                    if (document.getElementById(\"9c5aa2d1-671b-4c6a-92f6-bcad0f74ab86\")) {                    Plotly.newPlot(                        \"9c5aa2d1-671b-4c6a-92f6-bcad0f74ab86\",                        [{\"alignmentgroup\":\"True\",\"hovertemplate\":\"Party=%{x}\\u003cbr\\u003ecount=%{y}\\u003cextra\\u003e\\u003c\\u002fextra\\u003e\",\"legendgroup\":\"\",\"marker\":{\"color\":\"#636efa\",\"pattern\":{\"shape\":\"\"}},\"name\":\"\",\"offsetgroup\":\"\",\"orientation\":\"v\",\"showlegend\":false,\"textposition\":\"auto\",\"x\":[\"R\",\"D\",\"R\",\"D\",\"R\",\"R\",\"R\",\"R\",\"R\",\"R\",\"D\",\"R\",\"R\",\"D\",\"R\",\"D\",\"R\",\"R\",\"R\",\"R\",\"R\",\"D\",\"D\",\"R\",\"D\",\"R\",\"R\",\"D\",\"D\",\"R\",\"R\",\"R\",\"D\",\"D\",\"D\",\"R\",\"R\",\"D\",\"D\",\"D\",\"D\",\"R\",\"R\",\"D\",\"R\",\"R\",\"R\",\"R\",\"D\",\"D\",\"D\",\"R\",\"R\",\"D\",\"D\",\"D\",\"D\",\"D\",\"D\",\"D\",\"R\",\"D\",\"D\",\"R\",\"R\",\"R\",\"R\",\"R\",\"D\",\"R\",\"R\",\"R\",\"D\",\"D\",\"R\",\"R\",\"R\",\"R\",\"R\",\"D\",\"R\",\"R\",\"R\",\"R\",\"D\",\"D\",\"R\",\"R\",\"R\",\"R\",\"R\",\"R\",\"D\",\"D\",\"D\",\"R\",\"D\",\"D\",\"R\",\"D\",\"R\",\"D\",\"D\",\"D\",\"D\",\"D\",\"R\",\"D\",\"R\",\"D\",\"R\",\"D\",\"D\",\"D\",\"D\",\"D\",\"D\",\"D\",\"R\",\"D\",\"D\",\"R\",\"R\",\"R\",\"R\",\"R\",\"D\",\"D\",\"D\",\"R\",\"D\",\"D\",\"R\",\"R\",\"R\",\"D\",\"D\",\"D\",\"D\",\"R\",\"D\",\"D\",\"D\",\"R\",\"D\",\"D\",\"R\",\"D\",\"D\",\"D\",\"R\",\"D\",\"D\",\"R\",\"D\",\"D\",\"D\",\"D\",\"D\",\"D\",\"D\",\"D\",\"R\",\"D\",\"D\",\"R\",\"D\",\"D\",\"R\",\"R\",\"R\",\"D\",\"D\",\"D\",\"D\",\"R\",\"D\",\"D\",\"D\",\"R\",\"R\",\"D\",\"D\",\"D\",\"D\",\"D\",\"D\",\"D\",\"D\",\"D\",\"D\",\"D\",\"D\",\"D\",\"D\",\"R\",\"D\",\"D\",\"R\",\"D\",\"D\",\"R\",\"R\",\"D\",\"D\",\"R\",\"D\",\"R\",\"D\",\"R\",\"R\",\"D\",\"D\",\"D\",\"R\",\"D\",\"R\",\"D\",\"R\",\"R\",\"R\",\"R\",\"D\",\"D\",\"R\",\"D\",\"D\",\"R\",\"D\",\"D\",\"D\",\"D\",\"D\",\"R\",\"D\",\"R\",\"R\",\"R\",\"D\",\"R\",\"D\",\"R\",\"R\",\"R\",\"R\",\"R\",\"D\",\"R\",\"D\",\"R\",\"R\",\"R\",\"R\",\"R\",\"D\",\"R\",\"R\",\"R\",\"D\",\"R\",\"R\",\"R\",\"R\",\"R\",\"D\",\"R\",\"D\",\"D\",\"D\",\"D\",\"R\",\"D\",\"D\",\"D\",\"R\",\"R\",\"D\",\"D\",\"D\",\"R\",\"D\",\"R\",\"D\",\"D\",\"D\",\"D\",\"D\",\"D\",\"D\",\"D\",\"D\",\"D\",\"D\",\"D\",\"D\",\"D\",\"D\",\"D\",\"D\",\"D\",\"D\",\"D\",\"R\",\"D\",\"D\",\"D\",\"R\",\"R\",\"D\",\"R\",\"R\",\"D\",\"D\",\"D\",\"D\",\"D\",\"R\",\"R\",\"R\",\"D\",\"R\",\"R\",\"R\",\"D\",\"D\",\"R\",\"R\",\"D\",\"R\",\"R\",\"R\",\"R\",\"D\",\"D\",\"D\",\"D\",\"R\",\"D\",\"D\",\"R\",\"D\",\"R\",\"D\",\"R\",\"R\",\"D\",\"D\",\"D\",\"R\",\"R\",\"R\",\"D\",\"D\",\"D\",\"R\",\"D\",\"R\",\"D\",\"D\",\"D\",\"D\",\"R\",\"D\",\"R\",\"D\",\"D\",\"D\",\"D\",\"D\",\"D\",\"D\",\"D\",\"R\",\"R\",\"D\",\"D\",\"D\",\"D\",\"R\",\"D\",\"D\",\"D\",\"D\",\"D\",\"D\",\"D\",\"D\",\"D\",\"R\",\"D\",\"D\",\"R\",\"D\",\"D\",\"D\",\"D\",\"D\",\"D\",\"D\",\"R\",\"D\",\"D\",\"D\",\"D\",\"D\",\"D\",\"D\",\"D\",\"D\",\"D\",\"D\",\"D\",\"D\",\"D\",\"D\",\"D\",\"D\",\"D\",\"D\",\"D\",\"D\",\"D\",\"D\",\"R\",\"D\",\"R\",\"D\",\"D\",\"D\",\"D\",\"D\",\"D\",\"R\",\"D\",\"D\",\"D\",\"D\",\"D\",\"D\",\"D\",\"D\",\"D\",\"D\",\"D\",\"R\",\"D\",\"D\",\"R\",\"D\",\"D\",\"D\",\"D\",\"D\",\"D\",\"D\",\"D\",\"R\",\"D\",\"R\",\"R\",\"R\",\"R\",\"D\",\"D\",\"D\",\"R\",\"R\",\"D\",\"R\",\"R\",\"R\",\"R\",\"R\",\"R\",\"R\",\"D\",\"R\",\"R\",\"R\",\"D\",\"R\",\"R\",\"R\",\"R\",\"D\",\"R\",\"R\",\"R\",\"R\",\"D\",\"R\",\"R\",\"R\",\"R\",\"R\",\"R\",\"R\",\"D\",\"R\",\"R\",\"R\",\"D\",\"D\",\"R\",\"R\",\"R\",\"D\",\"R\",\"D\",\"R\",\"R\",\"R\",\"D\",\"D\",\"D\",\"D\",\"D\",\"D\",\"D\",\"D\",\"R\",\"R\",\"D\",\"R\",\"D\",\"D\",\"D\",\"D\",\"D\",\"R\",\"R\",\"R\",\"D\",\"R\",\"D\",\"D\",\"D\",\"R\",\"D\",\"D\",\"D\",\"D\",\"D\",\"D\",\"D\",\"D\",\"D\",\"R\",\"D\",\"D\",\"D\",\"D\",\"R\",\"D\",\"R\",\"D\",\"D\",\"D\",\"R\",\"D\",\"D\",\"R\",\"D\",\"R\",\"R\",\"D\",\"R\",\"R\",\"R\",\"R\",\"D\",\"D\",\"D\",\"R\",\"R\",\"R\",\"D\",\"R\",\"R\",\"R\",\"R\",\"R\",\"R\",\"R\",\"D\",\"R\",\"D\",\"R\",\"D\",\"D\",\"R\",\"D\",\"R\",\"R\",\"R\",\"R\",\"R\",\"R\",\"R\",\"R\",\"D\",\"D\",\"D\",\"D\",\"R\",\"R\",\"R\",\"D\",\"D\",\"D\",\"R\",\"D\",\"R\",\"D\",\"D\"],\"xaxis\":\"x\",\"y\":[1,1,1,1,1,1,1,1,1,1,1,1,1,1,1,1,1,1,1,1,1,1,1,1,1,1,1,1,1,1,1,1,1,1,1,1,1,1,1,1,1,1,1,1,1,1,1,1,1,1,1,1,1,1,1,1,1,1,1,1,1,1,1,1,1,1,1,1,1,1,1,1,1,1,1,1,1,1,1,1,1,1,1,1,1,1,1,1,1,1,1,1,1,1,1,1,1,1,1,1,1,1,1,1,1,1,1,1,1,1,1,1,1,1,1,1,1,1,1,1,1,1,1,1,1,1,1,1,1,1,1,1,1,1,1,1,1,1,1,1,1,1,1,1,1,1,1,1,1,1,1,1,1,1,1,1,1,1,1,1,1,1,1,1,1,1,1,1,1,1,1,1,1,1,1,1,1,1,1,1,1,1,1,1,1,1,1,1,1,1,1,1,1,1,1,1,1,1,1,1,1,1,1,1,1,1,1,1,1,1,1,1,1,1,1,1,1,1,1,1,1,1,1,1,1,1,1,1,1,1,1,1,1,1,1,1,1,1,1,1,1,1,1,1,1,1,1,1,1,1,1,1,1,1,1,1,1,1,1,1,1,1,1,1,1,1,1,1,1,1,1,1,1,1,1,1,1,1,1,1,1,1,1,1,1,1,1,1,1,1,1,1,1,1,1,1,1,1,1,1,1,1,1,1,1,1,1,1,1,1,1,1,1,1,1,1,1,1,1,1,1,1,1,1,1,1,1,1,1,1,1,1,1,1,1,1,1,1,1,1,1,1,1,1,1,1,1,1,1,1,1,1,1,1,1,1,1,1,1,1,1,1,1,1,1,1,1,1,1,1,1,1,1,1,1,1,1,1,1,1,1,1,1,1,1,1,1,1,1,1,1,1,1,1,1,1,1,1,1,1,1,1,1,1,1,1,1,1,1,1,1,1,1,1,1,1,1,1,1,1,1,1,1,1,1,1,1,1,1,1,1,1,1,1,1,1,1,1,1,1,1,1,1,1,1,1,1,1,1,1,1,1,1,1,1,1,1,1,1,1,1,1,1,1,1,1,1,1,1,1,1,1,1,1,1,1,1,1,1,1,1,1,1,1,1,1,1,1,1,1,1,1,1,1,1,1,1,1,1,1,1,1,1,1,1,1,1,1,1,1,1,1,1,1,1,1,1,1,1,1,1,1,1,1,1,1,1,1,1,1,1,1,1,1,1,1,1,1,1,1,1,1,1,1,1,1,1,1,1,1,1,1,1,1,1,1,1,1,1,1,1,1,1,1,1,1,1,1,1,1,1,1,1,1,1,1,1,1,1,1,1,1,1,1,1,1,1,1,1,1,1,1,1,1,1,1,1,1,1,1,1,1,1,1,1,1,1,1,1,1,1,1,1,1,1],\"yaxis\":\"y\",\"type\":\"bar\"}],                        {\"template\":{\"data\":{\"histogram2dcontour\":[{\"type\":\"histogram2dcontour\",\"colorbar\":{\"outlinewidth\":0,\"ticks\":\"\"},\"colorscale\":[[0.0,\"#0d0887\"],[0.1111111111111111,\"#46039f\"],[0.2222222222222222,\"#7201a8\"],[0.3333333333333333,\"#9c179e\"],[0.4444444444444444,\"#bd3786\"],[0.5555555555555556,\"#d8576b\"],[0.6666666666666666,\"#ed7953\"],[0.7777777777777778,\"#fb9f3a\"],[0.8888888888888888,\"#fdca26\"],[1.0,\"#f0f921\"]]}],\"choropleth\":[{\"type\":\"choropleth\",\"colorbar\":{\"outlinewidth\":0,\"ticks\":\"\"}}],\"histogram2d\":[{\"type\":\"histogram2d\",\"colorbar\":{\"outlinewidth\":0,\"ticks\":\"\"},\"colorscale\":[[0.0,\"#0d0887\"],[0.1111111111111111,\"#46039f\"],[0.2222222222222222,\"#7201a8\"],[0.3333333333333333,\"#9c179e\"],[0.4444444444444444,\"#bd3786\"],[0.5555555555555556,\"#d8576b\"],[0.6666666666666666,\"#ed7953\"],[0.7777777777777778,\"#fb9f3a\"],[0.8888888888888888,\"#fdca26\"],[1.0,\"#f0f921\"]]}],\"heatmap\":[{\"type\":\"heatmap\",\"colorbar\":{\"outlinewidth\":0,\"ticks\":\"\"},\"colorscale\":[[0.0,\"#0d0887\"],[0.1111111111111111,\"#46039f\"],[0.2222222222222222,\"#7201a8\"],[0.3333333333333333,\"#9c179e\"],[0.4444444444444444,\"#bd3786\"],[0.5555555555555556,\"#d8576b\"],[0.6666666666666666,\"#ed7953\"],[0.7777777777777778,\"#fb9f3a\"],[0.8888888888888888,\"#fdca26\"],[1.0,\"#f0f921\"]]}],\"heatmapgl\":[{\"type\":\"heatmapgl\",\"colorbar\":{\"outlinewidth\":0,\"ticks\":\"\"},\"colorscale\":[[0.0,\"#0d0887\"],[0.1111111111111111,\"#46039f\"],[0.2222222222222222,\"#7201a8\"],[0.3333333333333333,\"#9c179e\"],[0.4444444444444444,\"#bd3786\"],[0.5555555555555556,\"#d8576b\"],[0.6666666666666666,\"#ed7953\"],[0.7777777777777778,\"#fb9f3a\"],[0.8888888888888888,\"#fdca26\"],[1.0,\"#f0f921\"]]}],\"contourcarpet\":[{\"type\":\"contourcarpet\",\"colorbar\":{\"outlinewidth\":0,\"ticks\":\"\"}}],\"contour\":[{\"type\":\"contour\",\"colorbar\":{\"outlinewidth\":0,\"ticks\":\"\"},\"colorscale\":[[0.0,\"#0d0887\"],[0.1111111111111111,\"#46039f\"],[0.2222222222222222,\"#7201a8\"],[0.3333333333333333,\"#9c179e\"],[0.4444444444444444,\"#bd3786\"],[0.5555555555555556,\"#d8576b\"],[0.6666666666666666,\"#ed7953\"],[0.7777777777777778,\"#fb9f3a\"],[0.8888888888888888,\"#fdca26\"],[1.0,\"#f0f921\"]]}],\"surface\":[{\"type\":\"surface\",\"colorbar\":{\"outlinewidth\":0,\"ticks\":\"\"},\"colorscale\":[[0.0,\"#0d0887\"],[0.1111111111111111,\"#46039f\"],[0.2222222222222222,\"#7201a8\"],[0.3333333333333333,\"#9c179e\"],[0.4444444444444444,\"#bd3786\"],[0.5555555555555556,\"#d8576b\"],[0.6666666666666666,\"#ed7953\"],[0.7777777777777778,\"#fb9f3a\"],[0.8888888888888888,\"#fdca26\"],[1.0,\"#f0f921\"]]}],\"mesh3d\":[{\"type\":\"mesh3d\",\"colorbar\":{\"outlinewidth\":0,\"ticks\":\"\"}}],\"scatter\":[{\"fillpattern\":{\"fillmode\":\"overlay\",\"size\":10,\"solidity\":0.2},\"type\":\"scatter\"}],\"parcoords\":[{\"type\":\"parcoords\",\"line\":{\"colorbar\":{\"outlinewidth\":0,\"ticks\":\"\"}}}],\"scatterpolargl\":[{\"type\":\"scatterpolargl\",\"marker\":{\"colorbar\":{\"outlinewidth\":0,\"ticks\":\"\"}}}],\"bar\":[{\"error_x\":{\"color\":\"#2a3f5f\"},\"error_y\":{\"color\":\"#2a3f5f\"},\"marker\":{\"line\":{\"color\":\"#E5ECF6\",\"width\":0.5},\"pattern\":{\"fillmode\":\"overlay\",\"size\":10,\"solidity\":0.2}},\"type\":\"bar\"}],\"scattergeo\":[{\"type\":\"scattergeo\",\"marker\":{\"colorbar\":{\"outlinewidth\":0,\"ticks\":\"\"}}}],\"scatterpolar\":[{\"type\":\"scatterpolar\",\"marker\":{\"colorbar\":{\"outlinewidth\":0,\"ticks\":\"\"}}}],\"histogram\":[{\"marker\":{\"pattern\":{\"fillmode\":\"overlay\",\"size\":10,\"solidity\":0.2}},\"type\":\"histogram\"}],\"scattergl\":[{\"type\":\"scattergl\",\"marker\":{\"colorbar\":{\"outlinewidth\":0,\"ticks\":\"\"}}}],\"scatter3d\":[{\"type\":\"scatter3d\",\"line\":{\"colorbar\":{\"outlinewidth\":0,\"ticks\":\"\"}},\"marker\":{\"colorbar\":{\"outlinewidth\":0,\"ticks\":\"\"}}}],\"scattermapbox\":[{\"type\":\"scattermapbox\",\"marker\":{\"colorbar\":{\"outlinewidth\":0,\"ticks\":\"\"}}}],\"scatterternary\":[{\"type\":\"scatterternary\",\"marker\":{\"colorbar\":{\"outlinewidth\":0,\"ticks\":\"\"}}}],\"scattercarpet\":[{\"type\":\"scattercarpet\",\"marker\":{\"colorbar\":{\"outlinewidth\":0,\"ticks\":\"\"}}}],\"carpet\":[{\"aaxis\":{\"endlinecolor\":\"#2a3f5f\",\"gridcolor\":\"white\",\"linecolor\":\"white\",\"minorgridcolor\":\"white\",\"startlinecolor\":\"#2a3f5f\"},\"baxis\":{\"endlinecolor\":\"#2a3f5f\",\"gridcolor\":\"white\",\"linecolor\":\"white\",\"minorgridcolor\":\"white\",\"startlinecolor\":\"#2a3f5f\"},\"type\":\"carpet\"}],\"table\":[{\"cells\":{\"fill\":{\"color\":\"#EBF0F8\"},\"line\":{\"color\":\"white\"}},\"header\":{\"fill\":{\"color\":\"#C8D4E3\"},\"line\":{\"color\":\"white\"}},\"type\":\"table\"}],\"barpolar\":[{\"marker\":{\"line\":{\"color\":\"#E5ECF6\",\"width\":0.5},\"pattern\":{\"fillmode\":\"overlay\",\"size\":10,\"solidity\":0.2}},\"type\":\"barpolar\"}],\"pie\":[{\"automargin\":true,\"type\":\"pie\"}]},\"layout\":{\"autotypenumbers\":\"strict\",\"colorway\":[\"#636efa\",\"#EF553B\",\"#00cc96\",\"#ab63fa\",\"#FFA15A\",\"#19d3f3\",\"#FF6692\",\"#B6E880\",\"#FF97FF\",\"#FECB52\"],\"font\":{\"color\":\"#2a3f5f\"},\"hovermode\":\"closest\",\"hoverlabel\":{\"align\":\"left\"},\"paper_bgcolor\":\"white\",\"plot_bgcolor\":\"#E5ECF6\",\"polar\":{\"bgcolor\":\"#E5ECF6\",\"angularaxis\":{\"gridcolor\":\"white\",\"linecolor\":\"white\",\"ticks\":\"\"},\"radialaxis\":{\"gridcolor\":\"white\",\"linecolor\":\"white\",\"ticks\":\"\"}},\"ternary\":{\"bgcolor\":\"#E5ECF6\",\"aaxis\":{\"gridcolor\":\"white\",\"linecolor\":\"white\",\"ticks\":\"\"},\"baxis\":{\"gridcolor\":\"white\",\"linecolor\":\"white\",\"ticks\":\"\"},\"caxis\":{\"gridcolor\":\"white\",\"linecolor\":\"white\",\"ticks\":\"\"}},\"coloraxis\":{\"colorbar\":{\"outlinewidth\":0,\"ticks\":\"\"}},\"colorscale\":{\"sequential\":[[0.0,\"#0d0887\"],[0.1111111111111111,\"#46039f\"],[0.2222222222222222,\"#7201a8\"],[0.3333333333333333,\"#9c179e\"],[0.4444444444444444,\"#bd3786\"],[0.5555555555555556,\"#d8576b\"],[0.6666666666666666,\"#ed7953\"],[0.7777777777777778,\"#fb9f3a\"],[0.8888888888888888,\"#fdca26\"],[1.0,\"#f0f921\"]],\"sequentialminus\":[[0.0,\"#0d0887\"],[0.1111111111111111,\"#46039f\"],[0.2222222222222222,\"#7201a8\"],[0.3333333333333333,\"#9c179e\"],[0.4444444444444444,\"#bd3786\"],[0.5555555555555556,\"#d8576b\"],[0.6666666666666666,\"#ed7953\"],[0.7777777777777778,\"#fb9f3a\"],[0.8888888888888888,\"#fdca26\"],[1.0,\"#f0f921\"]],\"diverging\":[[0,\"#8e0152\"],[0.1,\"#c51b7d\"],[0.2,\"#de77ae\"],[0.3,\"#f1b6da\"],[0.4,\"#fde0ef\"],[0.5,\"#f7f7f7\"],[0.6,\"#e6f5d0\"],[0.7,\"#b8e186\"],[0.8,\"#7fbc41\"],[0.9,\"#4d9221\"],[1,\"#276419\"]]},\"xaxis\":{\"gridcolor\":\"white\",\"linecolor\":\"white\",\"ticks\":\"\",\"title\":{\"standoff\":15},\"zerolinecolor\":\"white\",\"automargin\":true,\"zerolinewidth\":2},\"yaxis\":{\"gridcolor\":\"white\",\"linecolor\":\"white\",\"ticks\":\"\",\"title\":{\"standoff\":15},\"zerolinecolor\":\"white\",\"automargin\":true,\"zerolinewidth\":2},\"scene\":{\"xaxis\":{\"backgroundcolor\":\"#E5ECF6\",\"gridcolor\":\"white\",\"linecolor\":\"white\",\"showbackground\":true,\"ticks\":\"\",\"zerolinecolor\":\"white\",\"gridwidth\":2},\"yaxis\":{\"backgroundcolor\":\"#E5ECF6\",\"gridcolor\":\"white\",\"linecolor\":\"white\",\"showbackground\":true,\"ticks\":\"\",\"zerolinecolor\":\"white\",\"gridwidth\":2},\"zaxis\":{\"backgroundcolor\":\"#E5ECF6\",\"gridcolor\":\"white\",\"linecolor\":\"white\",\"showbackground\":true,\"ticks\":\"\",\"zerolinecolor\":\"white\",\"gridwidth\":2}},\"shapedefaults\":{\"line\":{\"color\":\"#2a3f5f\"}},\"annotationdefaults\":{\"arrowcolor\":\"#2a3f5f\",\"arrowhead\":0,\"arrowwidth\":1},\"geo\":{\"bgcolor\":\"white\",\"landcolor\":\"#E5ECF6\",\"subunitcolor\":\"white\",\"showland\":true,\"showlakes\":true,\"lakecolor\":\"white\"},\"title\":{\"x\":0.05},\"mapbox\":{\"style\":\"light\"}}},\"xaxis\":{\"anchor\":\"y\",\"domain\":[0.0,1.0],\"title\":{\"text\":\"Party\"}},\"yaxis\":{\"anchor\":\"x\",\"domain\":[0.0,1.0],\"title\":{\"text\":\"count\"}},\"legend\":{\"tracegroupgap\":0},\"margin\":{\"t\":60},\"barmode\":\"relative\"},                        {\"responsive\": true}                    ).then(function(){\n",
       "                            \n",
       "var gd = document.getElementById('9c5aa2d1-671b-4c6a-92f6-bcad0f74ab86');\n",
       "var x = new MutationObserver(function (mutations, observer) {{\n",
       "        var display = window.getComputedStyle(gd).display;\n",
       "        if (!display || display === 'none') {{\n",
       "            console.log([gd, 'removed!']);\n",
       "            Plotly.purge(gd);\n",
       "            observer.disconnect();\n",
       "        }}\n",
       "}});\n",
       "\n",
       "// Listen for the removal of the full notebook cells\n",
       "var notebookContainer = gd.closest('#notebook-container');\n",
       "if (notebookContainer) {{\n",
       "    x.observe(notebookContainer, {childList: true});\n",
       "}}\n",
       "\n",
       "// Listen for the clearing of the current output cell\n",
       "var outputEl = gd.closest('.output');\n",
       "if (outputEl) {{\n",
       "    x.observe(outputEl, {childList: true});\n",
       "}}\n",
       "\n",
       "                        })                };                });            </script>        </div>"
      ]
     },
     "metadata": {},
     "output_type": "display_data"
    }
   ],
   "source": [
    "fig = px.bar(resignation, x='Party')\n",
    "fig.show()"
   ]
  },
  {
   "cell_type": "code",
   "execution_count": null,
   "id": "c5566329",
   "metadata": {},
   "outputs": [],
   "source": []
  }
 ],
 "metadata": {
  "kernelspec": {
   "display_name": "Python 3 (ipykernel)",
   "language": "python",
   "name": "python3"
  },
  "language_info": {
   "codemirror_mode": {
    "name": "ipython",
    "version": 3
   },
   "file_extension": ".py",
   "mimetype": "text/x-python",
   "name": "python",
   "nbconvert_exporter": "python",
   "pygments_lexer": "ipython3",
   "version": "3.8.18"
  }
 },
 "nbformat": 4,
 "nbformat_minor": 5
}
